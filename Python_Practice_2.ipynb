{
 "cells": [
  {
   "cell_type": "code",
   "execution_count": 7,
   "id": "43bcde0b",
   "metadata": {},
   "outputs": [
    {
     "name": "stdout",
     "output_type": "stream",
     "text": [
      "Enter no2\n",
      "Number is prime\n"
     ]
    }
   ],
   "source": [
    "no=int(input(\"Enter no\"))\n",
    "count=0\n",
    "\n",
    "if(no>1):\n",
    "    for i in range(1,no+1):\n",
    "        if(no%i)==0:\n",
    "            count=count+1\n",
    "    if(count==2):\n",
    "        print(\"Number is prime\")\n",
    "    else:\n",
    "        print(\"Number is Not Prime\")\n",
    "else:\n",
    "    print(\"Enter valid no\")"
   ]
  },
  {
   "cell_type": "code",
   "execution_count": 9,
   "id": "6e4227bf",
   "metadata": {},
   "outputs": [
    {
     "name": "stdout",
     "output_type": "stream",
     "text": [
      "Enter no9\n",
      "Not prime\n"
     ]
    }
   ],
   "source": [
    "no=int(input(\"Enter no\"))\n",
    "count=0\n",
    "\n",
    "if(no>1):\n",
    "    for i in range(1,no+1):\n",
    "        if no%i==0:\n",
    "            count+=1\n",
    "    if (count==2):\n",
    "        print(\"Prime\")\n",
    "    else:\n",
    "        print(\"Not prime\")\n",
    "else:\n",
    "       print(\"Enter Valid NO\")\n",
    "       "
   ]
  },
  {
   "cell_type": "code",
   "execution_count": 20,
   "id": "bdc99231",
   "metadata": {},
   "outputs": [
    {
     "name": "stdout",
     "output_type": "stream",
     "text": [
      "a: 2 b: 3\n",
      "a: 3 b: 2\n"
     ]
    }
   ],
   "source": [
    "a=2\n",
    "b=3\n",
    "print(\"a:\",a,\"b:\",b)\n",
    "\n",
    "temp=a\n",
    "a=b\n",
    "b=temp\n",
    "\n",
    "print(\"a:\",a,\"b:\",b)"
   ]
  },
  {
   "cell_type": "code",
   "execution_count": 10,
   "id": "f2aeeded",
   "metadata": {},
   "outputs": [
    {
     "name": "stdout",
     "output_type": "stream",
     "text": [
      "97 56\n"
     ]
    }
   ],
   "source": [
    "a=56\n",
    "b=97\n",
    "\n",
    "temp=a\n",
    "a=b\n",
    "b=temp\n",
    "print(a,b)"
   ]
  },
  {
   "cell_type": "code",
   "execution_count": 21,
   "id": "69260c3d",
   "metadata": {},
   "outputs": [
    {
     "name": "stdout",
     "output_type": "stream",
     "text": [
      "a: 2 b: 3\n",
      "a: 3 b: 2\n"
     ]
    }
   ],
   "source": [
    "a=2\n",
    "b=3\n",
    "print(\"a:\",a,\"b:\",b)\n",
    "\n",
    "a=a+b\n",
    "b=a-b\n",
    "a=a-b\n",
    "\n",
    "print(\"a:\",a,\"b:\",b)"
   ]
  },
  {
   "cell_type": "code",
   "execution_count": 11,
   "id": "7e06d7cb",
   "metadata": {},
   "outputs": [
    {
     "name": "stdout",
     "output_type": "stream",
     "text": [
      "97 56\n"
     ]
    }
   ],
   "source": [
    "a=56\n",
    "b=97\n",
    "\n",
    "a=a+b\n",
    "b=a-b\n",
    "a=a-b\n",
    "\n",
    "print(a,b)"
   ]
  },
  {
   "cell_type": "code",
   "execution_count": 25,
   "id": "9bf18087",
   "metadata": {},
   "outputs": [
    {
     "name": "stdout",
     "output_type": "stream",
     "text": [
      "fedcba\n"
     ]
    }
   ],
   "source": [
    "a=\"abcdef\"\n",
    "print(a[::-1])"
   ]
  },
  {
   "cell_type": "code",
   "execution_count": 36,
   "id": "27bfed42",
   "metadata": {},
   "outputs": [
    {
     "name": "stdout",
     "output_type": "stream",
     "text": [
      "fedcba\n"
     ]
    }
   ],
   "source": [
    "a=\"abcdef\"\n",
    "s=\"\"\n",
    "l=len(a)\n",
    "for i in a[l-1::-1]:\n",
    "    s += i\n",
    "print(s)"
   ]
  },
  {
   "cell_type": "code",
   "execution_count": null,
   "id": "01472997",
   "metadata": {},
   "outputs": [],
   "source": []
  },
  {
   "cell_type": "code",
   "execution_count": 44,
   "id": "bd384348",
   "metadata": {},
   "outputs": [
    {
     "name": "stdout",
     "output_type": "stream",
     "text": [
      "Enter Stringnitin\n",
      "True\n"
     ]
    }
   ],
   "source": [
    "\n",
    "a=input(\"Enter String\")\n",
    "\n",
    "def check_palindrom(x):\n",
    "    l=len(x)\n",
    "    x=x.lower()\n",
    "    i=0\n",
    "    j=l-1\n",
    "    \n",
    "    while i<j:\n",
    "        if(x[i]!=x[j]):\n",
    "            return False\n",
    "        i+=1\n",
    "        j-=1\n",
    "    return True\n",
    "print(check_palindrom(a))"
   ]
  },
  {
   "cell_type": "code",
   "execution_count": 2,
   "id": "a70cbb6a",
   "metadata": {},
   "outputs": [
    {
     "name": "stdout",
     "output_type": "stream",
     "text": [
      "Enter Stringdfgfgg\n",
      "False\n"
     ]
    }
   ],
   "source": [
    "\n",
    "st=input(\"Enter String\")\n",
    "\n",
    "def check_palin(x):\n",
    "    l=len(x)\n",
    "    x=x.lower()\n",
    "    i=0\n",
    "    j=l-1\n",
    "    \n",
    "    while i<j:\n",
    "        if x[i]!=x[j]:\n",
    "            return False\n",
    "        i+=1\n",
    "        j-=1\n",
    "    return True\n",
    "print(check_palin(st))"
   ]
  },
  {
   "cell_type": "code",
   "execution_count": 2,
   "id": "7a12dcb9",
   "metadata": {},
   "outputs": [
    {
     "name": "stdout",
     "output_type": "stream",
     "text": [
      "[1, 4, 5, 6, 7, 8, 10]\n"
     ]
    }
   ],
   "source": [
    "#sort the list\n",
    "ls=[5,8,1,10,4,6,7]\n",
    "\n",
    "for i in range(len(ls)):\n",
    "    for j in range(i+1,len(ls)):\n",
    "        if ls[j]<ls[i]:\n",
    "            ls[i],ls[j]=ls[j],ls[i]\n",
    "print(ls)\n",
    "    "
   ]
  },
  {
   "cell_type": "code",
   "execution_count": null,
   "id": "c1da8070",
   "metadata": {},
   "outputs": [],
   "source": [
    "lst = [2,5,7,5,3,4,5,2]\n",
    "a=[]\n",
    "min=lst[0]\n",
    "while lst:\n",
    "    for i in lst:\n",
    "        if i<min:\n",
    "            min=i\n",
    "            a.append(min)\n",
    "    \n",
    "a"
   ]
  },
  {
   "cell_type": "code",
   "execution_count": 1,
   "id": "77225ba8",
   "metadata": {},
   "outputs": [
    {
     "name": "stdout",
     "output_type": "stream",
     "text": [
      "9\n"
     ]
    }
   ],
   "source": [
    "arr=[5,4,3,6,9]\n",
    "max=arr[0]\n",
    "\n",
    "for i in arr:\n",
    "    if i>max:\n",
    "        max=i\n",
    "print(max)"
   ]
  },
  {
   "cell_type": "code",
   "execution_count": 3,
   "id": "cff642d9",
   "metadata": {},
   "outputs": [
    {
     "data": {
      "text/plain": [
       "[3, 4, 5, 6, 9]"
      ]
     },
     "execution_count": 3,
     "metadata": {},
     "output_type": "execute_result"
    }
   ],
   "source": [
    "arr=[5,4,3,6,9]\n",
    "new=sorted(arr)\n",
    "new"
   ]
  },
  {
   "cell_type": "code",
   "execution_count": 4,
   "id": "9f3c2d4d",
   "metadata": {},
   "outputs": [
    {
     "data": {
      "text/plain": [
       "[9, 6, 5, 4, 3]"
      ]
     },
     "execution_count": 4,
     "metadata": {},
     "output_type": "execute_result"
    }
   ],
   "source": [
    "arr=[5,4,3,6,9]\n",
    "new=sorted(arr,reverse=True)\n",
    "new"
   ]
  },
  {
   "cell_type": "code",
   "execution_count": 1,
   "id": "8f8bb592",
   "metadata": {},
   "outputs": [
    {
     "name": "stdout",
     "output_type": "stream",
     "text": [
      "[2, 5, 7, 3, 4]\n",
      "[2, 3, 4, 5, 7]\n"
     ]
    }
   ],
   "source": [
    "ls = [2,5,7,5,3,4,5,2]\n",
    "\n",
    "def duplicate(ls):\n",
    "    empty=[]\n",
    "    ass=[]\n",
    "    for i in ls:\n",
    "        if i not in empty:\n",
    "            empty.append(i)\n",
    "    print(empty)\n",
    "    for i in range(len(empty)):\n",
    "        for j in range(i+1,len(empty)):\n",
    "            if empty[j]<empty[i]:\n",
    "                  empty[i],empty[j]=empty[j],empty[i]\n",
    "    print(empty)\n",
    "duplicate( [2,5,7,5,3,4,5,2])"
   ]
  },
  {
   "cell_type": "code",
   "execution_count": null,
   "id": "150ec821",
   "metadata": {},
   "outputs": [],
   "source": []
  },
  {
   "cell_type": "code",
   "execution_count": 15,
   "id": "3e0dbaf5",
   "metadata": {},
   "outputs": [
    {
     "name": "stdout",
     "output_type": "stream",
     "text": [
      "[99, 45, 20, 10, 4]\n",
      "45\n"
     ]
    }
   ],
   "source": [
    "# Find the second largest no\n",
    "\n",
    "list1 = [10, 20, 20, 4, 45, 45, 45, 99, 99]\n",
    "empty=[]\n",
    "\n",
    "for i in list1:\n",
    "    if i not in empty:\n",
    "        empty.append(i)\n",
    "for i in range(len(empty)):\n",
    "    for j in range(i+1,len(empty)):\n",
    "        if empty[j]>empty[i]:\n",
    "            empty[i],empty[j]=empty[j],empty[i]\n",
    "print(empty)\n",
    "print(empty[1])"
   ]
  },
  {
   "cell_type": "code",
   "execution_count": 23,
   "id": "d3a5ad5b",
   "metadata": {},
   "outputs": [
    {
     "name": "stdout",
     "output_type": "stream",
     "text": [
      "Second Highest number is 45\n"
     ]
    }
   ],
   "source": [
    "list1 = [10, 20, 20, 4, 45, 45, 45, 99, 99]\n",
    "list1=list(set(list1))\n",
    "list1=sorted(list1)\n",
    "print(\"Second Highest number is\",list1[-2])"
   ]
  },
  {
   "cell_type": "code",
   "execution_count": 2,
   "id": "41603e61",
   "metadata": {},
   "outputs": [
    {
     "name": "stdout",
     "output_type": "stream",
     "text": [
      "5\n"
     ]
    }
   ],
   "source": [
    "# 0 1 1 2 3 5 8 13 21 34\n",
    "def fibonacci(n):\n",
    "    if n<0:\n",
    "        print(\"Invalid Input\")\n",
    "    elif n==0:\n",
    "        return 0\n",
    "    elif n==1 or n==2:\n",
    "        return 1\n",
    "    else:\n",
    "        return fibonacci(n-1)+fibonacci(n-2)\n",
    "    \n",
    "print(fibonacci(5))"
   ]
  },
  {
   "cell_type": "code",
   "execution_count": 26,
   "id": "b650094a",
   "metadata": {},
   "outputs": [
    {
     "data": {
      "text/plain": [
       "[3, 6, 9, 8, 5]"
      ]
     },
     "execution_count": 26,
     "metadata": {},
     "output_type": "execute_result"
    }
   ],
   "source": [
    "# reverse the string\n",
    "\n",
    "\n",
    "mylist = [5,8,9,6,3]\n",
    "mylist=mylist[::-1]\n",
    "mylist"
   ]
  },
  {
   "cell_type": "code",
   "execution_count": 29,
   "id": "42dd8d85",
   "metadata": {},
   "outputs": [
    {
     "data": {
      "text/plain": [
       "[3, 6, 9, 8, 5]"
      ]
     },
     "execution_count": 29,
     "metadata": {},
     "output_type": "execute_result"
    }
   ],
   "source": [
    "mylist = [5,8,9,6,3]\n",
    "s=[]\n",
    "for i in mylist[len(mylist)-1::-1]:\n",
    "    s.append(i)\n",
    "s"
   ]
  },
  {
   "cell_type": "code",
   "execution_count": null,
   "id": "b69c3375",
   "metadata": {},
   "outputs": [],
   "source": []
  },
  {
   "cell_type": "code",
   "execution_count": 31,
   "id": "640e1919",
   "metadata": {},
   "outputs": [
    {
     "name": "stdout",
     "output_type": "stream",
     "text": [
      "Its palindrome\n"
     ]
    }
   ],
   "source": [
    "# Checking string is palindrome or not\n",
    "mystring = 'malam'\n",
    "\n",
    "new=mystring[::-1]\n",
    "\n",
    "if(mystring==new):\n",
    "    print(\"Its palindrome\")\n",
    "else:\n",
    "    print(\"Its Not palindrome\")\n",
    "\n"
   ]
  },
  {
   "cell_type": "code",
   "execution_count": 36,
   "id": "62514591",
   "metadata": {},
   "outputs": [
    {
     "name": "stdout",
     "output_type": "stream",
     "text": [
      "[1, 3, 6]\n"
     ]
    }
   ],
   "source": [
    "# Find the duplicate numbers\n",
    "\n",
    "mylist = [1,1,1,1,2,3,3,6,9,7,6]\n",
    "new=[]\n",
    "for i in mylist:\n",
    "    if mylist.count(i)>1:\n",
    "        new.append(i)\n",
    "print(list(set(new)))"
   ]
  },
  {
   "cell_type": "code",
   "execution_count": 43,
   "id": "ca67275a",
   "metadata": {},
   "outputs": [
    {
     "data": {
      "text/plain": [
       "[1, 3, 6]"
      ]
     },
     "execution_count": 43,
     "metadata": {},
     "output_type": "execute_result"
    }
   ],
   "source": [
    "mylist = [1,1,1,1,2,3,3,6,9,7,6]\n",
    "\n",
    "new=list(set([x for x in mylist if mylist.count(x)>1]))\n",
    "new"
   ]
  },
  {
   "cell_type": "code",
   "execution_count": 47,
   "id": "3b31170e",
   "metadata": {},
   "outputs": [
    {
     "name": "stdout",
     "output_type": "stream",
     "text": [
      "10\n"
     ]
    }
   ],
   "source": [
    "# find the numbers of words in a given string\n",
    "\n",
    "mystring = 'Maintaining & expending the database of prospects for the organization.'\n",
    "print((len(mystring.split())))"
   ]
  },
  {
   "cell_type": "code",
   "execution_count": 51,
   "id": "2eac6818",
   "metadata": {},
   "outputs": [
    {
     "data": {
      "text/plain": [
       "'123451234512345'"
      ]
     },
     "execution_count": 51,
     "metadata": {},
     "output_type": "execute_result"
    }
   ],
   "source": [
    "# extract didgit from given string\n",
    "\n",
    "mystring = 'Maintaining 12345 & expending 12345 the database of prospects for 12345 the org'\n",
    "digit=''\n",
    "\n",
    "for i in mystring:\n",
    "    if i.isdigit()==True:\n",
    "        digit+=i\n",
    "digit\n"
   ]
  },
  {
   "cell_type": "code",
   "execution_count": 16,
   "id": "e5201297",
   "metadata": {},
   "outputs": [
    {
     "name": "stdout",
     "output_type": "stream",
     "text": [
      "['1', '2', '3', '4', '5', '1', '2', '3', '4', '5', '1', '2', '3', '4', '5']\n"
     ]
    }
   ],
   "source": [
    "# extract didgit from given string\n",
    "\n",
    "mystring = 'Maintaining 12345 & expending 12345 the database of prospects for 12345 the org'\n",
    "mystring.split(' ')\n",
    "new=[]\n",
    "for i in mystring:\n",
    "    if i.isdigit():\n",
    "        new.append(i)\n",
    "print(new)"
   ]
  },
  {
   "cell_type": "code",
   "execution_count": 17,
   "id": "ce69e3dc",
   "metadata": {},
   "outputs": [
    {
     "data": {
      "text/plain": [
       "['Maintaining',\n",
       " '12345',\n",
       " '&',\n",
       " 'expending',\n",
       " '12345',\n",
       " 'the',\n",
       " 'database',\n",
       " 'of',\n",
       " 'prospects',\n",
       " 'for',\n",
       " '12345',\n",
       " 'the',\n",
       " 'org']"
      ]
     },
     "execution_count": 17,
     "metadata": {},
     "output_type": "execute_result"
    }
   ],
   "source": [
    "# mystring = 'Maintaining 12345 & expending 12345 the database of prospects for 12345 the org'\n",
    "mystring.rstrip().split()"
   ]
  },
  {
   "cell_type": "code",
   "execution_count": 4,
   "id": "3ae52c10",
   "metadata": {},
   "outputs": [
    {
     "name": "stdout",
     "output_type": "stream",
     "text": [
      "1\n"
     ]
    }
   ],
   "source": [
    "# factorial of number\n",
    "\n",
    "def facto(n):\n",
    "    if n<0:\n",
    "        return \"Number Invalid\"\n",
    "    elif n==1:\n",
    "        return 1\n",
    "    elif n==0:\n",
    "        return 1\n",
    "    else:\n",
    "        return n * facto(n-1)\n",
    "# find the factorial series\n",
    "\n",
    "print(facto(0))"
   ]
  },
  {
   "cell_type": "code",
   "execution_count": 66,
   "id": "fc14a7a9",
   "metadata": {},
   "outputs": [
    {
     "name": "stdout",
     "output_type": "stream",
     "text": [
      "120\n"
     ]
    }
   ],
   "source": [
    "# factorial of number\n",
    "\n",
    "def facto(n):\n",
    "    fact=1\n",
    "    if n<0:\n",
    "        return \"Number Invalid\"\n",
    "    elif n==1:\n",
    "        return 1\n",
    "    elif n==0:\n",
    "        return 0\n",
    "    else:\n",
    "        for i in range(2,n+1):\n",
    "            fact=fact*i\n",
    "        return fact\n",
    "        \n",
    "# find the factorial series\n",
    "\n",
    "print(facto(5))"
   ]
  },
  {
   "cell_type": "code",
   "execution_count": 78,
   "id": "0da03b37",
   "metadata": {},
   "outputs": [
    {
     "name": "stdout",
     "output_type": "stream",
     "text": [
      "Its Armstrong no\n"
     ]
    }
   ],
   "source": [
    "no=153\n",
    "sum=0\n",
    "s=str(no)\n",
    "l=len(str(no))\n",
    "for i in s:\n",
    "    sum+=int(i)**l\n",
    "if sum==no:\n",
    "    print(\"Its Armstrong no\")\n",
    "else:\n",
    "    print(\"Its not Armstrong no \")"
   ]
  },
  {
   "cell_type": "code",
   "execution_count": null,
   "id": "6ae2c72f",
   "metadata": {},
   "outputs": [],
   "source": []
  },
  {
   "cell_type": "code",
   "execution_count": 86,
   "id": "5c9ad302",
   "metadata": {},
   "outputs": [
    {
     "name": "stdout",
     "output_type": "stream",
     "text": [
      "Enter number5\n",
      "* \n",
      "* * \n",
      "* * * \n",
      "* * * * \n",
      "* * * * * \n"
     ]
    }
   ],
   "source": [
    "# Right angle Triangle\n",
    "num=int(input(\"Enter number\"))\n",
    "\n",
    "for i in range(1,num+1):\n",
    "    for j in range(i):\n",
    "        print('*',end=' ')\n",
    "    print()"
   ]
  },
  {
   "cell_type": "code",
   "execution_count": 92,
   "id": "4529014d",
   "metadata": {},
   "outputs": [
    {
     "name": "stdout",
     "output_type": "stream",
     "text": [
      "Enter no5\n",
      "\n",
      "* \n",
      "* * \n",
      "* * * \n",
      "* * * * \n",
      "* * * * * \n"
     ]
    }
   ],
   "source": [
    "num=int(input(\"Enter no\"))\n",
    "\n",
    "for i in range(0,num+1):\n",
    "    for j in range(i):\n",
    "        print('*', end=\" \")\n",
    "    print()"
   ]
  },
  {
   "cell_type": "code",
   "execution_count": 94,
   "id": "d6aa1a38",
   "metadata": {},
   "outputs": [
    {
     "name": "stdout",
     "output_type": "stream",
     "text": [
      "Enter no5\n",
      "1 \n",
      "1 2 \n",
      "1 2 3 \n",
      "1 2 3 4 \n",
      "1 2 3 4 5 \n"
     ]
    }
   ],
   "source": [
    "num=int(input(\"Enter no\"))\n",
    "\n",
    "for i in range(1,num+1):\n",
    "    for j in range(i):\n",
    "        print(j+1,end=' ')\n",
    "    print()"
   ]
  },
  {
   "cell_type": "code",
   "execution_count": 97,
   "id": "cf81c0f0",
   "metadata": {},
   "outputs": [
    {
     "name": "stdout",
     "output_type": "stream",
     "text": [
      "Enter no5\n",
      "* * * * * \n",
      "* * * * \n",
      "* * * \n",
      "* * \n",
      "* \n"
     ]
    }
   ],
   "source": [
    "num=int(input(\"Enter no\"))\n",
    "\n",
    "for i in range(1,num+1):\n",
    "    for j in range((num-i)+1):\n",
    "        print('*',end=\" \")\n",
    "    print()"
   ]
  },
  {
   "cell_type": "code",
   "execution_count": 98,
   "id": "b988e7b0",
   "metadata": {},
   "outputs": [
    {
     "name": "stdout",
     "output_type": "stream",
     "text": [
      "Enter no5\n",
      "1 2 3 4 5 \n",
      "1 2 3 4 \n",
      "1 2 3 \n",
      "1 2 \n",
      "1 \n"
     ]
    }
   ],
   "source": [
    "num=int(input(\"Enter no\"))\n",
    "\n",
    "for i in range(1,num+1):\n",
    "    for j in range((num-i)+1):\n",
    "        print(j+1,end=\" \")\n",
    "    print()"
   ]
  },
  {
   "cell_type": "code",
   "execution_count": 103,
   "id": "fed67455",
   "metadata": {},
   "outputs": [
    {
     "name": "stdout",
     "output_type": "stream",
     "text": [
      "Enter no5\n",
      "    *\n",
      "   ***\n",
      "  *****\n",
      " *******\n",
      "*********\n"
     ]
    }
   ],
   "source": [
    "# pyramid of stars\n",
    "k=0\n",
    "num=int(input(\"Enter no\"))\n",
    "\n",
    "for i in range(1,num+1):\n",
    "    for space in range(1,(num-i)+1):\n",
    "        print(end=\" \")\n",
    "    while k != (2*i)-1:\n",
    "        print('*',end=\"\")\n",
    "        k+=1\n",
    "    k=0\n",
    "    print()"
   ]
  },
  {
   "cell_type": "code",
   "execution_count": 111,
   "id": "71dc08a2",
   "metadata": {},
   "outputs": [
    {
     "name": "stdout",
     "output_type": "stream",
     "text": [
      "Enter year:2052\n",
      "It's Leap Year\n"
     ]
    }
   ],
   "source": [
    "#Leap year\n",
    "\n",
    "year=int(input(\"Enter year:\"))\n",
    "\n",
    "if year%4==0:\n",
    "    print(\"It's Leap Year\")\n",
    "elif year%100==0 and year%400==0:\n",
    "    print(\"It's Leap Year\")\n",
    "else:\n",
    "    print(\"It's Not Leap Year\")\n",
    "\n",
    "\n"
   ]
  },
  {
   "cell_type": "code",
   "execution_count": 113,
   "id": "969216c2",
   "metadata": {},
   "outputs": [
    {
     "name": "stdout",
     "output_type": "stream",
     "text": [
      "Enter a number : 2\n",
      "Its prime number\n"
     ]
    }
   ],
   "source": [
    "num = int(input('Enter a number : '))\n",
    "flag = 0\n",
    "for i in range(2,num):\n",
    "     if num%i == 0:\n",
    "        flag = flag + 1\n",
    "\n",
    "if flag==0:\n",
    "     print('Its prime number')\n",
    "else:\n",
    "     print('Not Prime')"
   ]
  },
  {
   "cell_type": "code",
   "execution_count": 120,
   "id": "2a0f6dd7",
   "metadata": {},
   "outputs": [
    {
     "name": "stdout",
     "output_type": "stream",
     "text": [
      "{'H': 1, 'e': 5, 'l': 2, 'o': 6, ' ': 3, 'v': 1, 'r': 2, 'y': 1, 'n': 3, ',': 1, 'g': 1, 'd': 1, 'a': 1, 'f': 1, 't': 1}\n"
     ]
    }
   ],
   "source": [
    "# Count of maximum occouring letter and number of times it is repeated\n",
    "mystring = 'Hello everyone, good afternoon'\n",
    "dic={}\n",
    "\n",
    "for i in mystring:\n",
    "    if i in dic:\n",
    "        dic[i]=dic[i]+1\n",
    "    else:\n",
    "        dic[i]=1\n",
    "print(dic)"
   ]
  },
  {
   "cell_type": "code",
   "execution_count": 124,
   "id": "f47f2226",
   "metadata": {},
   "outputs": [
    {
     "name": "stdout",
     "output_type": "stream",
     "text": [
      "{'a': 4, 's': 9, 'd': 8, 'f': 1}\n",
      "4\n"
     ]
    }
   ],
   "source": [
    "# Display Count of any perticular element in a string\n",
    "string = 'aaaasssssssssddddddddf'\n",
    "search='a'\n",
    "l={}\n",
    "\n",
    "for i in  string:\n",
    "    if i in l:\n",
    "        l[i]=l[i]+1\n",
    "    else:\n",
    "        l[i]=1\n",
    "print(l)\n",
    "print(l[search])       \n",
    "\n",
    "\n"
   ]
  },
  {
   "cell_type": "code",
   "execution_count": 1,
   "id": "ad9d814f",
   "metadata": {},
   "outputs": [
    {
     "name": "stdout",
     "output_type": "stream",
     "text": [
      "Enter number2\n",
      "Its Prime\n"
     ]
    }
   ],
   "source": [
    "#prime\n",
    "count=0\n",
    "no=int(input(\"Enter number\"))\n",
    "if(no<1):\n",
    "    print(\"Enter valid no\")\n",
    "else:\n",
    "    for i in range(1,no+1):\n",
    "        if(no%i==0):\n",
    "            count+=1\n",
    "    if(count==2):\n",
    "        print(\"Its Prime\")\n",
    "    else:\n",
    "        print(\"Its Not prime\")"
   ]
  },
  {
   "cell_type": "code",
   "execution_count": 6,
   "id": "87357d59",
   "metadata": {},
   "outputs": [
    {
     "name": "stdout",
     "output_type": "stream",
     "text": [
      "Enter no11\n",
      "Its Prime\n"
     ]
    }
   ],
   "source": [
    "no=int(input(\"Enter no\"))\n",
    "fact=0\n",
    "if(no<1):\n",
    "    print(\"Enter valid no\")\n",
    "else:\n",
    "    for i in range(2,no):\n",
    "        if no%i==0:\n",
    "            fact=fact+1\n",
    "    if(fact==0):\n",
    "        print(\"Its Prime\")\n",
    "    else:\n",
    "        print(\"Its Not prime\")"
   ]
  },
  {
   "cell_type": "code",
   "execution_count": 20,
   "id": "3e53db6d",
   "metadata": {},
   "outputs": [
    {
     "name": "stdout",
     "output_type": "stream",
     "text": [
      "dcba\n"
     ]
    }
   ],
   "source": [
    "#reverse string\n",
    "\n",
    "a=\"abcd\"\n",
    "print(a[::-1])"
   ]
  },
  {
   "cell_type": "code",
   "execution_count": 18,
   "id": "76843cfa",
   "metadata": {},
   "outputs": [
    {
     "name": "stdout",
     "output_type": "stream",
     "text": [
      "dcba\n"
     ]
    }
   ],
   "source": [
    "a=\"abcd\"\n",
    "s=\"\"\n",
    "for i in a[len(a)-1::-1]:\n",
    "    s+=i\n",
    "print(s)"
   ]
  },
  {
   "cell_type": "code",
   "execution_count": 4,
   "id": "bb58b402",
   "metadata": {},
   "outputs": [
    {
     "name": "stdout",
     "output_type": "stream",
     "text": [
      "Its Palindrom\n"
     ]
    }
   ],
   "source": [
    "#palindrom\n",
    "a=\"Nitin\"\n",
    "l=a.lower()\n",
    "left=0\n",
    "right=len(l)-1\n",
    "while left<right:\n",
    "    if l[left]!=l[right]:\n",
    "        print(\"Not Palindrom\")\n",
    "    \n",
    "    left=left+1\n",
    "    right=right-1\n",
    "print(\"Its Palindrom\")\n",
    "    "
   ]
  },
  {
   "cell_type": "code",
   "execution_count": 2,
   "id": "3e09fa17",
   "metadata": {},
   "outputs": [
    {
     "name": "stdout",
     "output_type": "stream",
     "text": [
      "Enter StringNitin\n",
      "True\n"
     ]
    }
   ],
   "source": [
    "\n",
    "a=input(\"Enter String\")\n",
    "\n",
    "def check_palindrom(x):\n",
    "    l=len(x)\n",
    "    x=x.lower()\n",
    "    i=0\n",
    "    j=l-1\n",
    "    \n",
    "    while i<j:\n",
    "        if(x[i]!=x[j]):\n",
    "            return False\n",
    "        i+=1\n",
    "        j-=1\n",
    "    return True\n",
    "print(check_palindrom(a))"
   ]
  },
  {
   "cell_type": "code",
   "execution_count": null,
   "id": "d217c998",
   "metadata": {},
   "outputs": [],
   "source": []
  },
  {
   "cell_type": "code",
   "execution_count": 3,
   "id": "dc1abdbf",
   "metadata": {},
   "outputs": [
    {
     "name": "stdout",
     "output_type": "stream",
     "text": [
      "Enter number123\n",
      "Not Armstrong\n"
     ]
    }
   ],
   "source": [
    "no1=int(input(\"Enter number\"))\n",
    "no=str(no1)\n",
    "l=len(no)\n",
    "sum=0\n",
    "for i in no:\n",
    "     sum+=int(i)**l\n",
    "if sum==no1:\n",
    "    print(\"Its Armstrong\")\n",
    "else:\n",
    "    print(\"Not Armstrong\")\n",
    "    "
   ]
  },
  {
   "cell_type": "code",
   "execution_count": 36,
   "id": "9e7e63a2",
   "metadata": {},
   "outputs": [
    {
     "name": "stdout",
     "output_type": "stream",
     "text": [
      "Enter number5\n",
      "1 \n",
      "1 2 \n",
      "1 2 3 \n",
      "1 2 3 4 \n",
      "1 2 3 4 5 \n"
     ]
    }
   ],
   "source": [
    "num=int(input(\"Enter number\"))\n",
    "\n",
    "for i in range(1,num+1):\n",
    "    for j in range(i):\n",
    "        print(j+1,end=' ')\n",
    "    print()\n"
   ]
  },
  {
   "cell_type": "code",
   "execution_count": 35,
   "id": "ed7cb879",
   "metadata": {},
   "outputs": [
    {
     "name": "stdout",
     "output_type": "stream",
     "text": [
      "Enter number5\n",
      "* \n",
      "* * \n",
      "* * * \n",
      "* * * * \n",
      "* * * * * \n"
     ]
    }
   ],
   "source": [
    "num=int(input(\"Enter number\"))\n",
    "\n",
    "for i in range(1,num+1):\n",
    "    for j in range(i):\n",
    "        print('*',end=' ')\n",
    "    print()\n"
   ]
  },
  {
   "cell_type": "code",
   "execution_count": 34,
   "id": "f63c26ad",
   "metadata": {},
   "outputs": [
    {
     "name": "stdout",
     "output_type": "stream",
     "text": [
      "Enter number5\n",
      "* * * * * \n",
      "* * * * * \n",
      "* * * * * \n",
      "* * * * * \n",
      "* * * * * \n"
     ]
    }
   ],
   "source": [
    "num=int(input(\"Enter number\"))\n",
    "\n",
    "for i in range(1,num+1):\n",
    "    for j in range(1,num+1):\n",
    "        print('*',end=' ')\n",
    "    print()"
   ]
  },
  {
   "cell_type": "code",
   "execution_count": 33,
   "id": "2bea7399",
   "metadata": {},
   "outputs": [
    {
     "name": "stdout",
     "output_type": "stream",
     "text": [
      "Enter number5\n",
      "*         \n",
      "* *       \n",
      "*   *     \n",
      "*     *   \n",
      "* * * * * \n"
     ]
    }
   ],
   "source": [
    "num=int(input(\"Enter number\"))\n",
    "\n",
    "for row in range(1,num+1):\n",
    "    for col in range(1,num+1):\n",
    "        if col==1 or row==5 or row==col:\n",
    "            print('*',end=' ')\n",
    "        else:\n",
    "            print(end='  ')\n",
    "    print()"
   ]
  },
  {
   "cell_type": "code",
   "execution_count": 42,
   "id": "f443da2a",
   "metadata": {},
   "outputs": [
    {
     "name": "stdout",
     "output_type": "stream",
     "text": [
      "Enter number7\n",
      "      *       \n",
      "    *   *     \n",
      "  *       *   \n",
      "* * * * * * * \n",
      "              \n",
      "              \n",
      "              \n"
     ]
    }
   ],
   "source": [
    "num=int(input(\"Enter number\"))\n",
    "\n",
    "for row in range(1,num+1):\n",
    "    for col in range(1,num+1):\n",
    "        if row==4 or (row==1 and col==4)or(row==2 and col==3)or(row==2 and col==5)or(row==3 and col==2)or(row==3 and col==6):\n",
    "            print('*',end=' ')\n",
    "        else:\n",
    "            print(end='  ')\n",
    "    print()"
   ]
  },
  {
   "cell_type": "code",
   "execution_count": 43,
   "id": "273849bd",
   "metadata": {},
   "outputs": [
    {
     "name": "stdout",
     "output_type": "stream",
     "text": [
      "Enter no4\n",
      "24\n"
     ]
    }
   ],
   "source": [
    "num=int(input(\"Enter no\"))\n",
    "fact=1\n",
    "for i in range(1,num+1):\n",
    "    fact=fact*i\n",
    "print(fact)"
   ]
  },
  {
   "cell_type": "code",
   "execution_count": 50,
   "id": "3e79d6c1",
   "metadata": {},
   "outputs": [
    {
     "data": {
      "text/plain": [
       "24"
      ]
     },
     "execution_count": 50,
     "metadata": {},
     "output_type": "execute_result"
    }
   ],
   "source": [
    "import math\n",
    "result=math.factorial(4)\n",
    "result"
   ]
  },
  {
   "cell_type": "code",
   "execution_count": 52,
   "id": "ab78615c",
   "metadata": {},
   "outputs": [
    {
     "name": "stdout",
     "output_type": "stream",
     "text": [
      "Enter no4\n",
      "24\n"
     ]
    }
   ],
   "source": [
    "num=int(input(\"Enter no\"))\n",
    "def facto(no):\n",
    "    if no==0:\n",
    "        return 1\n",
    "    else:\n",
    "        return no*facto(no-1)\n",
    "\n",
    "print(facto(num))"
   ]
  },
  {
   "cell_type": "code",
   "execution_count": null,
   "id": "2576e2f9",
   "metadata": {},
   "outputs": [],
   "source": [
    "\n",
    "                "
   ]
  },
  {
   "cell_type": "code",
   "execution_count": 59,
   "id": "c2645631",
   "metadata": {},
   "outputs": [
    {
     "name": "stdout",
     "output_type": "stream",
     "text": [
      "Enter starting no1\n",
      "Enter last no50\n",
      "2\n",
      "3\n",
      "5\n",
      "7\n",
      "11\n",
      "13\n",
      "17\n",
      "19\n",
      "23\n",
      "29\n",
      "31\n",
      "37\n",
      "41\n",
      "43\n",
      "47\n"
     ]
    }
   ],
   "source": [
    "lower=int(input(\"Enter starting no\"))\n",
    "upper=int(input(\"Enter last no\"))\n",
    "\n",
    "for num in range(lower,upper+1):\n",
    "    if num>1:\n",
    "        for i in range(2,num):\n",
    "            if num%i==0:\n",
    "                break\n",
    "        else:\n",
    "                print(num)"
   ]
  },
  {
   "cell_type": "code",
   "execution_count": 10,
   "id": "a5798d2d",
   "metadata": {},
   "outputs": [
    {
     "name": "stdout",
     "output_type": "stream",
     "text": [
      "Enter no29\n",
      "Not perfect number\n"
     ]
    }
   ],
   "source": [
    "#perfect number\n",
    "num=int(input(\"Enter no\"))\n",
    "sum=0\n",
    "for i in range(1,num):\n",
    "    if num%i==0:\n",
    "        sum+=i\n",
    "if sum==num:\n",
    "     print(\"Its perfect number\")\n",
    "    \n",
    "else:\n",
    "    print(\"Not perfect number\")"
   ]
  },
  {
   "cell_type": "code",
   "execution_count": 75,
   "id": "31637131",
   "metadata": {},
   "outputs": [
    {
     "name": "stdout",
     "output_type": "stream",
     "text": [
      "pair is: 4 4\n"
     ]
    }
   ],
   "source": [
    "l=[1,2,4,4]\n",
    "for i in l:\n",
    "    for j in l[1::1]:\n",
    "        sum=i+j\n",
    "        \n",
    "if sum==8:\n",
    "    print(\"pair is:\",i,j)\n",
    "else:\n",
    "    print(\"No such pair whose sum is 8\")"
   ]
  },
  {
   "cell_type": "code",
   "execution_count": null,
   "id": "c3a345a3",
   "metadata": {},
   "outputs": [],
   "source": []
  },
  {
   "cell_type": "code",
   "execution_count": 76,
   "id": "803a72d3",
   "metadata": {},
   "outputs": [
    {
     "data": {
      "text/plain": [
       "(3, 2)"
      ]
     },
     "execution_count": 76,
     "metadata": {},
     "output_type": "execute_result"
    }
   ],
   "source": [
    "#swap no \n",
    "\n",
    "a=2\n",
    "b=3\n",
    "a,b=b,a\n",
    "a,b"
   ]
  },
  {
   "cell_type": "code",
   "execution_count": 78,
   "id": "ce1735fe",
   "metadata": {},
   "outputs": [
    {
     "data": {
      "text/plain": [
       "(3, 2)"
      ]
     },
     "execution_count": 78,
     "metadata": {},
     "output_type": "execute_result"
    }
   ],
   "source": [
    "#swap no \n",
    "\n",
    "a=2\n",
    "b=3\n",
    "\n",
    "temp=a\n",
    "a=b\n",
    "b=temp\n",
    "a,b"
   ]
  },
  {
   "cell_type": "code",
   "execution_count": 79,
   "id": "5d7ad10b",
   "metadata": {},
   "outputs": [
    {
     "data": {
      "text/plain": [
       "(3, 2)"
      ]
     },
     "execution_count": 79,
     "metadata": {},
     "output_type": "execute_result"
    }
   ],
   "source": [
    "#swap no \n",
    "\n",
    "a=2\n",
    "b=3\n",
    "\n",
    "a=a+b\n",
    "b=a-b\n",
    "a=a-b\n",
    "\n",
    "a,b"
   ]
  },
  {
   "cell_type": "code",
   "execution_count": 3,
   "id": "a7bfc4df",
   "metadata": {},
   "outputs": [
    {
     "name": "stdout",
     "output_type": "stream",
     "text": [
      "Enter number4\n",
      "Not prime\n",
      "None\n"
     ]
    }
   ],
   "source": [
    "no=int(input(\"Enter number\"))\n",
    "\n",
    "def prime(num):\n",
    "    count=0\n",
    "    if no>1:\n",
    "        for i in range(1,num+1):\n",
    "            if num%i==0:\n",
    "                count+=1\n",
    "        if count==2:\n",
    "            print(\"Its Prime\")\n",
    "        else:\n",
    "            print(\"Not prime\")\n",
    "print(prime(no))"
   ]
  },
  {
   "cell_type": "code",
   "execution_count": 7,
   "id": "35b74744",
   "metadata": {},
   "outputs": [
    {
     "name": "stdout",
     "output_type": "stream",
     "text": [
      "Enter number4\n",
      "False\n"
     ]
    }
   ],
   "source": [
    "no=int(input(\"Enter number\"))\n",
    "\n",
    "def prime(num):\n",
    "    flag=True\n",
    "    for i in range(2,num):\n",
    "        if num%2==0:\n",
    "            flag=False\n",
    "    return flag\n",
    "print(prime(no))"
   ]
  },
  {
   "cell_type": "code",
   "execution_count": 12,
   "id": "01043d64",
   "metadata": {},
   "outputs": [
    {
     "name": "stdout",
     "output_type": "stream",
     "text": [
      "Enter number0\n",
      "1\n"
     ]
    }
   ],
   "source": [
    "no=int(input(\"Enter number\"))\n",
    "\n",
    "def facto(num):\n",
    "    fact=1\n",
    "    for i in range(1,num+1):\n",
    "        fact=fact*i\n",
    "    return fact\n",
    "print(facto(no))"
   ]
  },
  {
   "cell_type": "code",
   "execution_count": 15,
   "id": "38d6430e",
   "metadata": {},
   "outputs": [
    {
     "name": "stdout",
     "output_type": "stream",
     "text": [
      "Enter number6\n",
      "720\n"
     ]
    }
   ],
   "source": [
    "no=int(input(\"Enter number\"))\n",
    "\n",
    "def facto(num):\n",
    "    if num==0:\n",
    "        return 1\n",
    "    else:\n",
    "        return num*facto(num-1)\n",
    "print(facto(no))"
   ]
  },
  {
   "cell_type": "code",
   "execution_count": 17,
   "id": "0d4c7e93",
   "metadata": {},
   "outputs": [
    {
     "name": "stdout",
     "output_type": "stream",
     "text": [
      "Enter number7\n",
      "8\n"
     ]
    }
   ],
   "source": [
    "#fibonacci\n",
    "\n",
    "no=int(input(\"Enter number\"))\n",
    "def fibo(num):\n",
    "    if num==1:\n",
    "        return 0\n",
    "    elif num==2 or num==3:\n",
    "        return 1\n",
    "    else:\n",
    "        return fibo(num-1)+fibo(num-2)\n",
    "print(fibo(no))\n"
   ]
  },
  {
   "cell_type": "code",
   "execution_count": 21,
   "id": "fb975cc6",
   "metadata": {},
   "outputs": [
    {
     "name": "stdout",
     "output_type": "stream",
     "text": [
      "1 2 3 5 8 13 21 34 "
     ]
    }
   ],
   "source": [
    "a=0\n",
    "b=1\n",
    "for i in range(8):\n",
    "    sum=a+b\n",
    "    print(sum,end=\" \")\n",
    "    a=b\n",
    "    b=sum\n",
    "    \n"
   ]
  },
  {
   "cell_type": "code",
   "execution_count": 22,
   "id": "063b2a8c",
   "metadata": {},
   "outputs": [
    {
     "name": "stdout",
     "output_type": "stream",
     "text": [
      "15\n"
     ]
    }
   ],
   "source": [
    "# sum of the elements\n",
    "sum=0\n",
    "l=[1,2,3,4,5]\n",
    "for i in l:\n",
    "    sum+=i\n",
    "print(sum)"
   ]
  },
  {
   "cell_type": "code",
   "execution_count": null,
   "id": "d92afb53",
   "metadata": {},
   "outputs": [],
   "source": []
  },
  {
   "cell_type": "code",
   "execution_count": 29,
   "id": "fc6a0a41",
   "metadata": {},
   "outputs": [
    {
     "name": "stdout",
     "output_type": "stream",
     "text": [
      "min: 1\n",
      "max: 5\n"
     ]
    }
   ],
   "source": [
    "# find max & min element\n",
    "\n",
    "arr=[1,2,3,4,5]\n",
    "min=arr[0]\n",
    "max=arr[0]\n",
    "\n",
    "for i in arr:\n",
    "    if i<min:\n",
    "        min=i\n",
    "for i in arr:\n",
    "    if i>max:\n",
    "        max=i \n",
    "print(\"min:\",min)\n",
    "print(\"max:\",max)"
   ]
  },
  {
   "cell_type": "code",
   "execution_count": 35,
   "id": "096393b0",
   "metadata": {},
   "outputs": [
    {
     "data": {
      "text/plain": [
       "[24, 35, 9, 56, 12]"
      ]
     },
     "execution_count": 35,
     "metadata": {},
     "output_type": "execute_result"
    }
   ],
   "source": [
    "l=[12,35,9,56,24]\n",
    "n1=[]\n",
    "n2=[]\n",
    "n1.append(l[0])\n",
    "l.remove(l[0])\n",
    "n2.append(l[-1])\n",
    "l.remove(l[-1])\n",
    "n2.extend(l)\n",
    "n2.extend(n1)\n",
    "n2"
   ]
  },
  {
   "cell_type": "code",
   "execution_count": 36,
   "id": "2332ae5f",
   "metadata": {},
   "outputs": [
    {
     "data": {
      "text/plain": [
       "[24, 35, 9, 56, 12]"
      ]
     },
     "execution_count": 36,
     "metadata": {},
     "output_type": "execute_result"
    }
   ],
   "source": [
    "l=[12,35,9,56,24]\n",
    "size=len(l)\n",
    "a=l[0]\n",
    "l[0]=l[size-1]\n",
    "l[size-1]=a\n",
    "\n",
    "l\n"
   ]
  },
  {
   "cell_type": "code",
   "execution_count": 51,
   "id": "d344299c",
   "metadata": {},
   "outputs": [
    {
     "name": "stdout",
     "output_type": "stream",
     "text": [
      "[4, 5, 12, 18, 25, 32, 45]\n",
      "1\n"
     ]
    }
   ],
   "source": [
    "# find the min difference betn 2 ele\n",
    "\n",
    "l1=[5,32,45,4,12,18,25]\n",
    "def min_dif(arr):\n",
    "    arr=sorted(arr)\n",
    "    size=len(arr)\n",
    "    min_diff=99*99\n",
    "    \n",
    "    for i in range(size-1):\n",
    "        if arr[i+1]-arr[i]< min_diff:\n",
    "            min_diff= arr[i+1]-arr[i]\n",
    "        print(arr)\n",
    "        return min_diff\n",
    "    \n",
    "print(min_dif(l1))\n"
   ]
  },
  {
   "cell_type": "code",
   "execution_count": null,
   "id": "4149a475",
   "metadata": {},
   "outputs": [],
   "source": []
  },
  {
   "cell_type": "code",
   "execution_count": 52,
   "id": "262077df",
   "metadata": {},
   "outputs": [
    {
     "name": "stdout",
     "output_type": "stream",
     "text": [
      "N\n"
     ]
    }
   ],
   "source": [
    "# find the common letter beetweeen two string\n",
    "\n",
    "s1=\"NAINA\"\n",
    "s2=\"REENE\"\n",
    "s3=\"\"\n",
    "s4=\"\"\n",
    "\n",
    "for i in s1:\n",
    "    if i not in s3:\n",
    "        s3+=i\n",
    "for i in s2:\n",
    "    if i not in s4:\n",
    "        s4+=i\n",
    "for i in s3:\n",
    "    if i in s4:\n",
    "        print(i)"
   ]
  },
  {
   "cell_type": "code",
   "execution_count": 53,
   "id": "83c3b2f2",
   "metadata": {},
   "outputs": [
    {
     "name": "stdout",
     "output_type": "stream",
     "text": [
      "Enter 1st stringREENA\n",
      "Enter 2nd stringNAINA\n",
      "A\n",
      "N\n",
      "None\n"
     ]
    }
   ],
   "source": [
    "\n",
    "def find_comm():\n",
    "    str1=input(\"Enter 1st string\")\n",
    "    str2=input(\"Enter 2nd string\")\n",
    "    s1=set(str1)\n",
    "    s2=set(str2)\n",
    "    for i in s1:\n",
    "        if i in s2:\n",
    "            print(i)\n",
    "print(find_comm())"
   ]
  },
  {
   "cell_type": "code",
   "execution_count": 56,
   "id": "aa87e19e",
   "metadata": {},
   "outputs": [
    {
     "data": {
      "text/plain": [
       "{'Naina': 856, 'kimi': 256, 'Sheena': 256}"
      ]
     },
     "execution_count": 56,
     "metadata": {},
     "output_type": "execute_result"
    }
   ],
   "source": [
    "# Convert two lists into dictionary\n",
    "\n",
    "list1=['Naina','kimi','Sheena']\n",
    "list2=[856,256,256]\n",
    "dic={}\n",
    "dic=dict(zip(list1,list2))\n",
    "dic"
   ]
  },
  {
   "cell_type": "code",
   "execution_count": 4,
   "id": "fc533c3e",
   "metadata": {},
   "outputs": [
    {
     "name": "stdout",
     "output_type": "stream",
     "text": [
      "{1: 'Nagpur', 2: 'pune', 3: 'mumbai', 4: 'delhi', 5: 'chennai'}\n"
     ]
    }
   ],
   "source": [
    "l1=[1,2,3,4,5]\n",
    "l2=['Nagpur','pune','mumbai','delhi','chennai']\n",
    "d1=dict(zip(l1,l2))\n",
    "print(d1)\n"
   ]
  },
  {
   "cell_type": "code",
   "execution_count": 25,
   "id": "391d8aa1",
   "metadata": {},
   "outputs": [
    {
     "name": "stdout",
     "output_type": "stream",
     "text": [
      "{1: 'Ram', 2: 'sita', 3: 'janak'}\n",
      "1\n",
      "2\n",
      "3\n",
      "Ram\n",
      "sita\n",
      "janak\n",
      "Ram\n"
     ]
    }
   ],
   "source": [
    "d1={}\n",
    "d1[1]=\"Ram\"\n",
    "d1[2]=\"sita\"\n",
    "d1[3]=\"janak\"\n",
    "\n",
    "print(d1)\n",
    "\n",
    "for i in d1.keys():\n",
    "    print(i)\n",
    "    \n",
    "for i in d1.values():\n",
    "    print(i)\n",
    "\n"
   ]
  },
  {
   "cell_type": "code",
   "execution_count": 26,
   "id": "a849174d",
   "metadata": {},
   "outputs": [
    {
     "name": "stdout",
     "output_type": "stream",
     "text": [
      "Ram\n"
     ]
    }
   ],
   "source": [
    "print(d1[1])"
   ]
  },
  {
   "cell_type": "code",
   "execution_count": 27,
   "id": "c40ab56e",
   "metadata": {},
   "outputs": [
    {
     "name": "stdout",
     "output_type": "stream",
     "text": [
      "sita\n"
     ]
    }
   ],
   "source": [
    "print(d1[2])"
   ]
  },
  {
   "cell_type": "code",
   "execution_count": 28,
   "id": "0e011254",
   "metadata": {},
   "outputs": [
    {
     "name": "stdout",
     "output_type": "stream",
     "text": [
      "janak\n"
     ]
    }
   ],
   "source": [
    "print(d1[3])"
   ]
  },
  {
   "cell_type": "code",
   "execution_count": 30,
   "id": "257e5472",
   "metadata": {},
   "outputs": [],
   "source": [
    "# update dict\n",
    "\n",
    "d1[4]=\"ravan\""
   ]
  },
  {
   "cell_type": "code",
   "execution_count": 31,
   "id": "830801aa",
   "metadata": {},
   "outputs": [
    {
     "data": {
      "text/plain": [
       "{1: 'Ram', 2: 'sita', 3: 'janak', 4: 'ravan'}"
      ]
     },
     "execution_count": 31,
     "metadata": {},
     "output_type": "execute_result"
    }
   ],
   "source": [
    "d1"
   ]
  },
  {
   "cell_type": "code",
   "execution_count": 32,
   "id": "e6cd4b0a",
   "metadata": {},
   "outputs": [
    {
     "data": {
      "text/plain": [
       "{1: 'Ram', 2: 'sita', 3: 'janak'}"
      ]
     },
     "execution_count": 32,
     "metadata": {},
     "output_type": "execute_result"
    }
   ],
   "source": [
    "#remove key 4\n",
    "del d1[4]\n",
    "d1"
   ]
  },
  {
   "cell_type": "code",
   "execution_count": 33,
   "id": "3988fb4f",
   "metadata": {},
   "outputs": [
    {
     "name": "stdout",
     "output_type": "stream",
     "text": [
      "dict_keys([1, 2, 3])\n"
     ]
    }
   ],
   "source": [
    "print(d1.keys())"
   ]
  },
  {
   "cell_type": "code",
   "execution_count": 34,
   "id": "9c2ea7d0",
   "metadata": {},
   "outputs": [
    {
     "name": "stdout",
     "output_type": "stream",
     "text": [
      "dict_items([(1, 'Ram'), (2, 'sita'), (3, 'janak')])\n"
     ]
    }
   ],
   "source": [
    "print(d1.items())"
   ]
  },
  {
   "cell_type": "code",
   "execution_count": 35,
   "id": "8cf15cc7",
   "metadata": {},
   "outputs": [
    {
     "name": "stdout",
     "output_type": "stream",
     "text": [
      "1 Ram\n",
      "2 sita\n",
      "3 janak\n"
     ]
    }
   ],
   "source": [
    "for key in d1:\n",
    "    print(key,d1[key])"
   ]
  },
  {
   "cell_type": "code",
   "execution_count": 37,
   "id": "547ce089",
   "metadata": {},
   "outputs": [
    {
     "name": "stdout",
     "output_type": "stream",
     "text": [
      "1 Ram\n",
      "2 sita\n",
      "3 janak\n"
     ]
    }
   ],
   "source": [
    "for key, value in d1.items():\n",
    "    print(key,value)"
   ]
  },
  {
   "cell_type": "code",
   "execution_count": 38,
   "id": "18b5ddb0",
   "metadata": {},
   "outputs": [
    {
     "name": "stdout",
     "output_type": "stream",
     "text": [
      "1 Ram\n",
      "2 sita\n",
      "3 janak\n"
     ]
    }
   ],
   "source": [
    "for i in d1:\n",
    "    print(i,d1[i])"
   ]
  },
  {
   "cell_type": "code",
   "execution_count": null,
   "id": "a9a89172",
   "metadata": {},
   "outputs": [],
   "source": []
  },
  {
   "cell_type": "code",
   "execution_count": 40,
   "id": "5630afb7",
   "metadata": {},
   "outputs": [
    {
     "data": {
      "text/plain": [
       "{1: 'A', 2: 'B', 3: 'C', 4: 'D'}"
      ]
     },
     "execution_count": 40,
     "metadata": {},
     "output_type": "execute_result"
    }
   ],
   "source": [
    "dic={}\n",
    "dic[1]='A'\n",
    "dic[2]='B'\n",
    "dic[3]='C'\n",
    "dic[4]='D'\n",
    "\n",
    "dic"
   ]
  },
  {
   "cell_type": "code",
   "execution_count": 41,
   "id": "0b0b74e1",
   "metadata": {},
   "outputs": [
    {
     "name": "stdout",
     "output_type": "stream",
     "text": [
      "{5: 'E', 6: 'F', 7: 'G', 8: 'H'}\n"
     ]
    }
   ],
   "source": [
    "l1=[5,6,7,8]\n",
    "l2=['E','F','G','H']\n",
    "\n",
    "print(dict(zip(l1,l2)))"
   ]
  },
  {
   "cell_type": "code",
   "execution_count": 42,
   "id": "67a7827a",
   "metadata": {},
   "outputs": [
    {
     "data": {
      "text/plain": [
       "{1: 'A', 2: 'B', 3: 'C'}"
      ]
     },
     "execution_count": 42,
     "metadata": {},
     "output_type": "execute_result"
    }
   ],
   "source": [
    "del dic[4]\n",
    "dic"
   ]
  },
  {
   "cell_type": "code",
   "execution_count": 43,
   "id": "396cdd12",
   "metadata": {},
   "outputs": [
    {
     "name": "stdout",
     "output_type": "stream",
     "text": [
      "dict_keys([1, 2, 3])\n"
     ]
    }
   ],
   "source": [
    "# display only key\n",
    "\n",
    "print(dic.keys())"
   ]
  },
  {
   "cell_type": "code",
   "execution_count": 44,
   "id": "9dc449c7",
   "metadata": {},
   "outputs": [
    {
     "name": "stdout",
     "output_type": "stream",
     "text": [
      "1\n",
      "2\n",
      "3\n"
     ]
    }
   ],
   "source": [
    "for key in dic:\n",
    "    print(key)"
   ]
  },
  {
   "cell_type": "code",
   "execution_count": 45,
   "id": "25f6ee5c",
   "metadata": {},
   "outputs": [
    {
     "name": "stdout",
     "output_type": "stream",
     "text": [
      "dict_values(['A', 'B', 'C'])\n"
     ]
    }
   ],
   "source": [
    "#display only values\n",
    "print(dic.values())"
   ]
  },
  {
   "cell_type": "code",
   "execution_count": 49,
   "id": "f3462fb6",
   "metadata": {},
   "outputs": [
    {
     "name": "stdout",
     "output_type": "stream",
     "text": [
      "A\n",
      "B\n",
      "C\n"
     ]
    }
   ],
   "source": [
    "for value in dic:\n",
    "    print(dic[value])"
   ]
  },
  {
   "cell_type": "code",
   "execution_count": 50,
   "id": "733ff806",
   "metadata": {},
   "outputs": [
    {
     "name": "stdout",
     "output_type": "stream",
     "text": [
      "{1: 'A', 2: 'B', 3: 'C'}\n"
     ]
    }
   ],
   "source": [
    "#print both key and values\n",
    "\n",
    "print(dic)"
   ]
  },
  {
   "cell_type": "code",
   "execution_count": 51,
   "id": "d5382d29",
   "metadata": {},
   "outputs": [
    {
     "name": "stdout",
     "output_type": "stream",
     "text": [
      "dict_items([(1, 'A'), (2, 'B'), (3, 'C')])\n"
     ]
    }
   ],
   "source": [
    "print(dic.items())"
   ]
  },
  {
   "cell_type": "code",
   "execution_count": 52,
   "id": "d383fcc9",
   "metadata": {},
   "outputs": [
    {
     "name": "stdout",
     "output_type": "stream",
     "text": [
      "1 A\n",
      "2 B\n",
      "3 C\n"
     ]
    }
   ],
   "source": [
    "for key in dic:\n",
    "    print(key,dic[key])"
   ]
  },
  {
   "cell_type": "code",
   "execution_count": 54,
   "id": "88a86030",
   "metadata": {},
   "outputs": [
    {
     "name": "stdout",
     "output_type": "stream",
     "text": [
      "1 A\n",
      "2 B\n",
      "3 C\n"
     ]
    }
   ],
   "source": [
    "for key, value in dic.items():\n",
    "    print(key,value)"
   ]
  },
  {
   "cell_type": "code",
   "execution_count": 58,
   "id": "c7f1e543",
   "metadata": {},
   "outputs": [
    {
     "data": {
      "text/plain": [
       "{5: 'E', 6: 'F', 7: 'G', 8: 'H'}"
      ]
     },
     "execution_count": 58,
     "metadata": {},
     "output_type": "execute_result"
    }
   ],
   "source": [
    "\n",
    "my_dict=dict(zip(l1,l2))\n",
    "my_dict"
   ]
  },
  {
   "cell_type": "code",
   "execution_count": 60,
   "id": "117cd92f",
   "metadata": {},
   "outputs": [
    {
     "name": "stdout",
     "output_type": "stream",
     "text": [
      "5\n",
      "6\n",
      "7\n",
      "8\n"
     ]
    }
   ],
   "source": [
    "for key in my_dict:\n",
    "    print(key)"
   ]
  },
  {
   "cell_type": "code",
   "execution_count": 61,
   "id": "b6f3932d",
   "metadata": {},
   "outputs": [
    {
     "name": "stdout",
     "output_type": "stream",
     "text": [
      "dict_keys([5, 6, 7, 8])\n"
     ]
    }
   ],
   "source": [
    "print(my_dict.keys())"
   ]
  },
  {
   "cell_type": "code",
   "execution_count": 62,
   "id": "96209494",
   "metadata": {},
   "outputs": [
    {
     "name": "stdout",
     "output_type": "stream",
     "text": [
      "E\n",
      "F\n",
      "G\n",
      "H\n"
     ]
    }
   ],
   "source": [
    "for value in my_dict:\n",
    "    print(my_dict[value])"
   ]
  },
  {
   "cell_type": "code",
   "execution_count": 63,
   "id": "c8cec3de",
   "metadata": {},
   "outputs": [
    {
     "name": "stdout",
     "output_type": "stream",
     "text": [
      "dict_values(['E', 'F', 'G', 'H'])\n"
     ]
    }
   ],
   "source": [
    "print(my_dict.values())"
   ]
  },
  {
   "cell_type": "code",
   "execution_count": 64,
   "id": "b552cea2",
   "metadata": {},
   "outputs": [
    {
     "name": "stdout",
     "output_type": "stream",
     "text": [
      "5 E\n",
      "6 F\n",
      "7 G\n",
      "8 H\n"
     ]
    }
   ],
   "source": [
    "for key in my_dict:\n",
    "    print(key,my_dict[key])"
   ]
  },
  {
   "cell_type": "code",
   "execution_count": 65,
   "id": "044ddae0",
   "metadata": {},
   "outputs": [
    {
     "name": "stdout",
     "output_type": "stream",
     "text": [
      "5 E\n",
      "6 F\n",
      "7 G\n",
      "8 H\n"
     ]
    }
   ],
   "source": [
    "for key,value in my_dict.items():\n",
    "    print(key,value)"
   ]
  },
  {
   "cell_type": "code",
   "execution_count": 66,
   "id": "b21e89c5",
   "metadata": {},
   "outputs": [
    {
     "data": {
      "text/plain": [
       "{}"
      ]
     },
     "execution_count": 66,
     "metadata": {},
     "output_type": "execute_result"
    }
   ],
   "source": [
    "my_dict.clear()\n",
    "my_dict"
   ]
  },
  {
   "cell_type": "code",
   "execution_count": 68,
   "id": "61a46768",
   "metadata": {},
   "outputs": [
    {
     "ename": "NameError",
     "evalue": "name 'my_dict' is not defined",
     "output_type": "error",
     "traceback": [
      "\u001b[1;31m---------------------------------------------------------------------------\u001b[0m",
      "\u001b[1;31mNameError\u001b[0m                                 Traceback (most recent call last)",
      "\u001b[1;32m~\\AppData\\Local\\Temp\\ipykernel_11520\\1370207258.py\u001b[0m in \u001b[0;36m<module>\u001b[1;34m\u001b[0m\n\u001b[1;32m----> 1\u001b[1;33m \u001b[1;32mdel\u001b[0m \u001b[0mmy_dict\u001b[0m\u001b[1;33m\u001b[0m\u001b[1;33m\u001b[0m\u001b[0m\n\u001b[0m\u001b[0;32m      2\u001b[0m \u001b[0mmy_dict\u001b[0m\u001b[1;33m\u001b[0m\u001b[1;33m\u001b[0m\u001b[0m\n",
      "\u001b[1;31mNameError\u001b[0m: name 'my_dict' is not defined"
     ]
    }
   ],
   "source": [
    "del my_dict\n",
    "my_dict"
   ]
  },
  {
   "cell_type": "code",
   "execution_count": 74,
   "id": "795167e8",
   "metadata": {},
   "outputs": [
    {
     "name": "stdout",
     "output_type": "stream",
     "text": [
      "Enter the keysuresh\n",
      "key is exist\n",
      "value of key  suresh  is: 526\n"
     ]
    }
   ],
   "source": [
    "# verified the given key is exist into dictionary or not\n",
    "\n",
    "dict1={\"suresh\":526,\"ramesh\":623,\"pankaj\":564,\"raj\":456}\n",
    "user_in=input(\"Enter the key\")\n",
    "\n",
    "if user_in in dict1:\n",
    "    print(\"key is exist\")\n",
    "    print(\"value of key\",user_in,\" is:\",dict1[user_in])\n",
    "else:\n",
    "    print(\"Key is not exist\")"
   ]
  },
  {
   "cell_type": "code",
   "execution_count": 78,
   "id": "22847998",
   "metadata": {},
   "outputs": [
    {
     "data": {
      "text/plain": [
       "{'suresh': 526,\n",
       " 'ramesh': 623,\n",
       " 'pankaj': 564,\n",
       " 'raj': 456,\n",
       " 'shyam': 523,\n",
       " 'ram': 601}"
      ]
     },
     "execution_count": 78,
     "metadata": {},
     "output_type": "execute_result"
    }
   ],
   "source": [
    "# concatenate two dictionary\n",
    "\n",
    "dict1={\"suresh\":526,\"ramesh\":623,\"pankaj\":564,\"raj\":456}\n",
    "dict2={\"shyam\":523,\"ram\":601}\n",
    "\n",
    "dict1.update(dict2)\n",
    "dict1"
   ]
  },
  {
   "cell_type": "code",
   "execution_count": 79,
   "id": "4711b43a",
   "metadata": {},
   "outputs": [
    {
     "data": {
      "text/plain": [
       "360"
      ]
     },
     "execution_count": 79,
     "metadata": {},
     "output_type": "execute_result"
    }
   ],
   "source": [
    "# multiply the all the values of dictionary\n",
    "\n",
    "dict3={\"a\":3,\"b\":4,\"c\":6,\"d\":5}\n",
    "mul=1\n",
    "\n",
    "for i in dict3.values():   # by default we iterate key\n",
    "    mul*=i\n",
    "mul\n"
   ]
  },
  {
   "cell_type": "code",
   "execution_count": 80,
   "id": "dd6eb533",
   "metadata": {},
   "outputs": [
    {
     "data": {
      "text/plain": [
       "360"
      ]
     },
     "execution_count": 80,
     "metadata": {},
     "output_type": "execute_result"
    }
   ],
   "source": [
    "\n",
    "dict3={\"a\":3,\"b\":4,\"c\":6,\"d\":5}\n",
    "mul=1\n",
    "\n",
    "for value in dict3:\n",
    "    mul*=dict3[value]\n",
    "mul"
   ]
  },
  {
   "cell_type": "code",
   "execution_count": 81,
   "id": "1df0528a",
   "metadata": {},
   "outputs": [
    {
     "data": {
      "text/plain": [
       "18"
      ]
     },
     "execution_count": 81,
     "metadata": {},
     "output_type": "execute_result"
    }
   ],
   "source": [
    "# sum the all the values of dictionary\n",
    "\n",
    "dict3={\"a\":3,\"b\":4,\"c\":6,\"d\":5}\n",
    "sum=0\n",
    "\n",
    "for value in dict3.values():\n",
    "    sum+=value\n",
    "sum\n",
    "\n"
   ]
  },
  {
   "cell_type": "code",
   "execution_count": 88,
   "id": "f69fd054",
   "metadata": {},
   "outputs": [
    {
     "data": {
      "text/plain": [
       "{1: 'Nagpur', 2: 'pune', 3: 'mumbai', 4: 'delhi', 5: 'chennai'}"
      ]
     },
     "execution_count": 88,
     "metadata": {},
     "output_type": "execute_result"
    }
   ],
   "source": [
    "d={}\n",
    "l1=[1,2,3,4,5]\n",
    "l2=['Nagpur','pune','mumbai','delhi','chennai']\n",
    "\n",
    "for key,value in zip(l1,l2):\n",
    "    d[key]=value\n",
    "d\n",
    "\n",
    "#############   OR   ###########\n",
    "\n",
    "print(dict(zip(l1,l2)))"
   ]
  },
  {
   "cell_type": "code",
   "execution_count": 106,
   "id": "b8b53ef9",
   "metadata": {},
   "outputs": [
    {
     "name": "stdout",
     "output_type": "stream",
     "text": [
      "Enter stringhi how hi hello how\n"
     ]
    },
    {
     "data": {
      "text/plain": [
       "{'hi': 2, 'how': 2, 'hello': 1}"
      ]
     },
     "execution_count": 106,
     "metadata": {},
     "output_type": "execute_result"
    }
   ],
   "source": [
    "# count the frequency of character of given string\n",
    "\n",
    "string=input(\"Enter string\")\n",
    "string=string.lower()\n",
    "l=string.split()\n",
    "d1={}\n",
    "\n",
    "for i in l:\n",
    "    if i not in d1.keys():\n",
    "        d1[i]=0\n",
    "    d1[i]=d1[i]+1\n",
    "d1"
   ]
  },
  {
   "cell_type": "code",
   "execution_count": null,
   "id": "bd759f71",
   "metadata": {},
   "outputs": [],
   "source": [
    "\n"
   ]
  },
  {
   "cell_type": "code",
   "execution_count": 109,
   "id": "a91b6c6c",
   "metadata": {},
   "outputs": [
    {
     "name": "stdout",
     "output_type": "stream",
     "text": [
      "Enter 1st no1\n",
      "Enter last no10\n"
     ]
    },
    {
     "data": {
      "text/plain": [
       "{1: 1, 2: 4, 3: 9, 4: 16, 5: 25, 6: 36, 7: 49, 8: 64, 9: 81, 10: 100}"
      ]
     },
     "execution_count": 109,
     "metadata": {},
     "output_type": "execute_result"
    }
   ],
   "source": [
    "st=int(input(\"Enter 1st no\"))\n",
    "ls=int(input(\"Enter last no\"))\n",
    "\n",
    "d2={}\n",
    "for i in range(st,ls+1):\n",
    "    d2[i]=i**2\n",
    "d2\n",
    "    \n",
    "    "
   ]
  },
  {
   "cell_type": "code",
   "execution_count": 110,
   "id": "b6463208",
   "metadata": {},
   "outputs": [
    {
     "name": "stdout",
     "output_type": "stream",
     "text": [
      "Enter 1st no1\n",
      "Enter last no10\n"
     ]
    },
    {
     "data": {
      "text/plain": [
       "{1: 1, 2: 4, 3: 9, 4: 16, 5: 25, 6: 36, 7: 49, 8: 64, 9: 81, 10: 100}"
      ]
     },
     "execution_count": 110,
     "metadata": {},
     "output_type": "execute_result"
    }
   ],
   "source": [
    "st=int(input(\"Enter 1st no\"))\n",
    "ls=int(input(\"Enter last no\"))\n",
    "\n",
    "d3={i:i**2 for i in range(st,ls+1)}\n",
    "d3"
   ]
  },
  {
   "cell_type": "code",
   "execution_count": 112,
   "id": "b3f4c176",
   "metadata": {},
   "outputs": [
    {
     "name": "stdout",
     "output_type": "stream",
     "text": [
      "{1: 'Nagpur', 2: 'pune', 3: 'mumbai', 4: 'delhi', 5: 'chennai'}\n"
     ]
    }
   ],
   "source": [
    "l1=[1,2,3,4,5]\n",
    "l2=['Nagpur','pune','mumbai','delhi','chennai']\n",
    "d={}\n",
    "\n",
    "def dic(l1,l2):\n",
    "    for i in range(len(l1)):\n",
    "        d[l1[i]]=l2[i]\n",
    "    return d\n",
    "print(dic(l1,l2))"
   ]
  },
  {
   "cell_type": "code",
   "execution_count": 113,
   "id": "c770d3a7",
   "metadata": {},
   "outputs": [
    {
     "name": "stdout",
     "output_type": "stream",
     "text": [
      "{1: 'Nagpur', 2: 'pune', 3: 'mumbai', 4: 'delhi', 5: 'chennai'}\n"
     ]
    }
   ],
   "source": [
    "l1=[1,2,3,4,5]\n",
    "l2=['Nagpur','pune','mumbai','delhi','chennai']\n",
    "d1={}\n",
    "def dictionary(key,value):\n",
    "    for i in range(len(key)):\n",
    "        d1[key[i]]=value[i]\n",
    "    return d1\n",
    "print(dictionary(l1,l2))"
   ]
  },
  {
   "cell_type": "code",
   "execution_count": 115,
   "id": "7afefebc",
   "metadata": {},
   "outputs": [
    {
     "data": {
      "text/plain": [
       "{1: 'Nagpur', 2: 'pune', 3: 'mumbai', 4: 'delhi', 5: 'chennai'}"
      ]
     },
     "execution_count": 115,
     "metadata": {},
     "output_type": "execute_result"
    }
   ],
   "source": [
    "l1=[1,2,3,4,5]\n",
    "l2=['Nagpur','pune','mumbai','delhi','chennai']\n",
    "d1={}\n",
    "\n",
    "for i,j in zip(l1,l2):\n",
    "    d[i]=j\n",
    "d"
   ]
  },
  {
   "cell_type": "code",
   "execution_count": 116,
   "id": "f3386ab7",
   "metadata": {},
   "outputs": [
    {
     "data": {
      "text/plain": [
       "{1: 'Nagpur', 2: 'pune', 3: 'mumbai', 4: 'delhi', 5: 'chennai'}"
      ]
     },
     "execution_count": 116,
     "metadata": {},
     "output_type": "execute_result"
    }
   ],
   "source": [
    "l1=[1,2,3,4,5]\n",
    "l2=['Nagpur','pune','mumbai','delhi','chennai']\n",
    "d1={}\n",
    "\n",
    "for i in range(len(l1)):\n",
    "    d1[l1[i]]=l2[i]\n",
    "d1"
   ]
  },
  {
   "cell_type": "code",
   "execution_count": 117,
   "id": "a887f206",
   "metadata": {},
   "outputs": [
    {
     "data": {
      "text/plain": [
       "{1: 'Nagpur', 2: 'pune', 3: 'mumbai', 4: 'delhi', 5: 'chennai'}"
      ]
     },
     "execution_count": 117,
     "metadata": {},
     "output_type": "execute_result"
    }
   ],
   "source": [
    "l1=[1,2,3,4,5]\n",
    "l2=['Nagpur','pune','mumbai','delhi','chennai']\n",
    "\n",
    "d1={l1[i]:l2[i] for i in range(len(l1))}\n",
    "d1\n"
   ]
  },
  {
   "cell_type": "code",
   "execution_count": 118,
   "id": "79a97f84",
   "metadata": {},
   "outputs": [
    {
     "data": {
      "text/plain": [
       "{1: 'Nagpur', 2: 'pune', 3: 'mumbai', 4: 'delhi', 5: 'chennai'}"
      ]
     },
     "execution_count": 118,
     "metadata": {},
     "output_type": "execute_result"
    }
   ],
   "source": [
    "l1=[1,2,3,4,5]\n",
    "l2=['Nagpur','pune','mumbai','delhi','chennai']\n",
    "d1={}\n",
    "for i in range(len(l1)):\n",
    "    d1[l1[i]]=l2[i]\n",
    "d1"
   ]
  },
  {
   "cell_type": "code",
   "execution_count": 119,
   "id": "80aa303b",
   "metadata": {},
   "outputs": [
    {
     "name": "stdout",
     "output_type": "stream",
     "text": [
      "{1: 'Nagpur', 2: 'pune', 3: 'mumbai', 4: 'delhi', 5: 'chennai'}\n"
     ]
    }
   ],
   "source": [
    "print(dict(zip(l1,l2)))"
   ]
  },
  {
   "cell_type": "code",
   "execution_count": 120,
   "id": "2ff9ca82",
   "metadata": {},
   "outputs": [
    {
     "data": {
      "text/plain": [
       "{1: 'Nagpur', 2: 'pune', 3: 'mumbai', 4: 'delhi', 5: 'chennai'}"
      ]
     },
     "execution_count": 120,
     "metadata": {},
     "output_type": "execute_result"
    }
   ],
   "source": [
    "l1=[1,2,3,4,5]\n",
    "l2=['Nagpur','pune','mumbai','delhi','chennai']\n",
    "d3={}\n",
    " \n",
    "for i,j in zip(l1,l2):\n",
    "    d3[i]=j\n",
    "d3"
   ]
  },
  {
   "cell_type": "code",
   "execution_count": 121,
   "id": "e04ec709",
   "metadata": {},
   "outputs": [
    {
     "data": {
      "text/plain": [
       "{1: 'Nagpur', 2: 'pune', 3: 'mumbai', 4: 'delhi', 5: 'chennai'}"
      ]
     },
     "execution_count": 121,
     "metadata": {},
     "output_type": "execute_result"
    }
   ],
   "source": [
    "l1=[1,2,3,4,5]\n",
    "l2=['Nagpur','pune','mumbai','delhi','chennai']\n",
    "\n",
    "dic={l1[i]:l2[i] for i in range(len(l1))}\n",
    "dic"
   ]
  },
  {
   "cell_type": "code",
   "execution_count": 122,
   "id": "32adad0d",
   "metadata": {},
   "outputs": [
    {
     "data": {
      "text/plain": [
       "{1: 1, 2: 8, 3: 27, 4: 64, 5: 125, 6: 216, 7: 343, 8: 512, 9: 729, 10: 1000}"
      ]
     },
     "execution_count": 122,
     "metadata": {},
     "output_type": "execute_result"
    }
   ],
   "source": [
    "\n",
    "d4={}\n",
    "for i in range(1,11):\n",
    "    d4[i]=i**3\n",
    "d4\n"
   ]
  },
  {
   "cell_type": "code",
   "execution_count": 123,
   "id": "dbefd4ce",
   "metadata": {},
   "outputs": [
    {
     "data": {
      "text/plain": [
       "{1: 1, 2: 8, 3: 27, 4: 64, 5: 125, 6: 216, 7: 343, 8: 512, 9: 729, 10: 1000}"
      ]
     },
     "execution_count": 123,
     "metadata": {},
     "output_type": "execute_result"
    }
   ],
   "source": [
    "d5={i:i**3 for i in range(1,11)}\n",
    "d5"
   ]
  },
  {
   "cell_type": "code",
   "execution_count": null,
   "id": "6454bc12",
   "metadata": {},
   "outputs": [],
   "source": []
  },
  {
   "cell_type": "code",
   "execution_count": null,
   "id": "e6db1176",
   "metadata": {},
   "outputs": [],
   "source": []
  },
  {
   "cell_type": "code",
   "execution_count": 129,
   "id": "69325dce",
   "metadata": {},
   "outputs": [
    {
     "name": "stdout",
     "output_type": "stream",
     "text": [
      "Enter the number5\n",
      "* * * * * \n",
      "* * * * * \n",
      "* * * * * \n",
      "* * * * * \n",
      "* * * * * \n"
     ]
    }
   ],
   "source": [
    "n=int(input(\"Enter the number\"))\n",
    "for i in range(n):\n",
    "    for j in range(n):\n",
    "        print(\"*\", end=\" \")\n",
    "    print()"
   ]
  },
  {
   "cell_type": "code",
   "execution_count": 131,
   "id": "76c77908",
   "metadata": {},
   "outputs": [
    {
     "name": "stdout",
     "output_type": "stream",
     "text": [
      "Enter the number5\n",
      "* \n",
      "* * \n",
      "* * * \n",
      "* * * * \n",
      "* * * * * \n"
     ]
    }
   ],
   "source": [
    "n=int(input(\"Enter the number\"))\n",
    "\n",
    "for i in range(n):\n",
    "    for j in range(i+1):\n",
    "        print(\"*\",end=\" \")\n",
    "    print()"
   ]
  },
  {
   "cell_type": "code",
   "execution_count": 132,
   "id": "b6767d6d",
   "metadata": {},
   "outputs": [
    {
     "name": "stdout",
     "output_type": "stream",
     "text": [
      "Enter the number5\n",
      "* * * * * \n",
      "* * * * \n",
      "* * * \n",
      "* * \n",
      "* \n"
     ]
    }
   ],
   "source": [
    "n=int(input(\"Enter the number\"))\n",
    "for i in range(n):\n",
    "    for j in range(n-i):\n",
    "        print(\"*\",end=\" \")\n",
    "    print()"
   ]
  },
  {
   "cell_type": "code",
   "execution_count": 139,
   "id": "454d9f02",
   "metadata": {},
   "outputs": [
    {
     "name": "stdout",
     "output_type": "stream",
     "text": [
      "Enter the number5\n",
      "          * \n",
      "        * * \n",
      "      * * * \n",
      "    * * * * \n",
      "  * * * * * \n"
     ]
    }
   ],
   "source": [
    "n=int(input(\"Enter the number\"))\n",
    "\n",
    "for i in range(n):\n",
    "    for j in range(n-i):\n",
    "        print(\" \",end=\" \")\n",
    "    for j in range(i+1):\n",
    "        print(\"*\",end=\" \")\n",
    "    print()"
   ]
  },
  {
   "cell_type": "code",
   "execution_count": 141,
   "id": "82d31cc5",
   "metadata": {},
   "outputs": [
    {
     "name": "stdout",
     "output_type": "stream",
     "text": [
      "Enter the number5\n",
      "  * * * * * \n",
      "    * * * * \n",
      "      * * * \n",
      "        * * \n",
      "          * \n"
     ]
    }
   ],
   "source": [
    "n=int(input(\"Enter the number\"))\n",
    "\n",
    "for i in range(n):\n",
    "    for j in range(i+1):\n",
    "        print(\" \",end=\" \")\n",
    "    for j in range(n-i):\n",
    "        print(\"*\", end=\" \")\n",
    "    print()"
   ]
  },
  {
   "cell_type": "code",
   "execution_count": 147,
   "id": "b7e258fb",
   "metadata": {},
   "outputs": [
    {
     "name": "stdout",
     "output_type": "stream",
     "text": [
      "Enter the number5\n",
      "          * \n",
      "        * * * \n",
      "      * * * * * \n",
      "    * * * * * * * \n",
      "  * * * * * * * * * \n"
     ]
    }
   ],
   "source": [
    "n=int(input(\"Enter the number\"))\n",
    "\n",
    "for i in range(n):\n",
    "    for j in range(n-i):\n",
    "        print(\" \",end=\" \")\n",
    "    for j in range(i):\n",
    "        print(\"*\",end=\" \")\n",
    "    for j in range(i+1):\n",
    "        print(\"*\",end=\" \")\n",
    "    print()"
   ]
  },
  {
   "cell_type": "code",
   "execution_count": 151,
   "id": "c12df38e",
   "metadata": {},
   "outputs": [
    {
     "name": "stdout",
     "output_type": "stream",
     "text": [
      "Enter the number5\n",
      "  * * * * * * * * * \n",
      "    * * * * * * * \n",
      "      * * * * * \n",
      "        * * * \n",
      "          * \n"
     ]
    }
   ],
   "source": [
    "n=int(input(\"Enter the number\"))\n",
    "\n",
    "for i in range(n):\n",
    "    for j in range(i+1):\n",
    "        print(\" \",end=\" \")\n",
    "    for j in range((n-1)-i):\n",
    "        print(\"*\",end=\" \")\n",
    "    for j in range(n-i):\n",
    "        print(\"*\",end=\" \")\n",
    "    print()"
   ]
  },
  {
   "cell_type": "code",
   "execution_count": 153,
   "id": "7cf697d3",
   "metadata": {},
   "outputs": [
    {
     "name": "stdout",
     "output_type": "stream",
     "text": [
      "Enter the number5\n",
      "          * \n",
      "        * * * \n",
      "      * * * * * \n",
      "    * * * * * * * \n",
      "  * * * * * * * * * \n",
      "    * * * * * * * \n",
      "      * * * * * \n",
      "        * * * \n",
      "          * \n"
     ]
    }
   ],
   "source": [
    "n=int(input(\"Enter the number\"))\n",
    "\n",
    "for i in range(n-1):\n",
    "    for j in range(n-i):\n",
    "        print(\" \",end=\" \")\n",
    "    for j in range(i):\n",
    "        print(\"*\",end=\" \")\n",
    "    for j in range(i+1):\n",
    "        print(\"*\",end=\" \")\n",
    "    print()\n",
    "for i in range(n):\n",
    "    for j in range(i+1):\n",
    "        print(\" \",end=\" \")\n",
    "    for j in range((n-1)-i):\n",
    "        print(\"*\",end=\" \")\n",
    "    for j in range(n-i):\n",
    "        print(\"*\",end=\" \")\n",
    "    print()"
   ]
  },
  {
   "cell_type": "code",
   "execution_count": 164,
   "id": "da0b66ff",
   "metadata": {},
   "outputs": [
    {
     "name": "stdout",
     "output_type": "stream",
     "text": [
      "Enter year2124\n",
      "It's Leap Year\n"
     ]
    }
   ],
   "source": [
    "year=int(input(\"Enter year\"))\n",
    "\n",
    "if year%4==0:\n",
    "    print(\"It's Leap Year\")\n",
    "elif year%100==0 and year%400==0:\n",
    "    print(\"It's Leap Year\")\n",
    "else:\n",
    "    print(\"Not Leap\")\n",
    "\n",
    "\n",
    "\n",
    "    "
   ]
  },
  {
   "cell_type": "code",
   "execution_count": 170,
   "id": "6ee78e94",
   "metadata": {},
   "outputs": [
    {
     "data": {
      "text/plain": [
       "[1, 5, 6, 2, 8]"
      ]
     },
     "execution_count": 170,
     "metadata": {},
     "output_type": "execute_result"
    }
   ],
   "source": [
    "# Remove Duplicate element\n",
    "l=[1,5,6,1,2,6,5,8]\n",
    "l1=[]\n",
    "for i in l:\n",
    "    if i not in l1:\n",
    "        l1.append(i)\n",
    "l1"
   ]
  },
  {
   "cell_type": "code",
   "execution_count": 171,
   "id": "1f0f6813",
   "metadata": {},
   "outputs": [
    {
     "name": "stdout",
     "output_type": "stream",
     "text": [
      "1\n",
      "2\n",
      "3\n",
      "4\n",
      "5\n",
      "6\n",
      "7\n",
      "8\n",
      "9\n",
      "10\n"
     ]
    }
   ],
   "source": [
    "for i in range(1,10+1):\n",
    "    print(i)"
   ]
  },
  {
   "cell_type": "code",
   "execution_count": 172,
   "id": "0d514cb9",
   "metadata": {},
   "outputs": [
    {
     "name": "stdout",
     "output_type": "stream",
     "text": [
      "10\n",
      "9\n",
      "8\n",
      "7\n",
      "6\n",
      "5\n",
      "4\n",
      "3\n",
      "2\n",
      "1\n"
     ]
    }
   ],
   "source": [
    "for i in range(10,0,-1):\n",
    "    print(i)"
   ]
  },
  {
   "cell_type": "code",
   "execution_count": 174,
   "id": "319b076e",
   "metadata": {},
   "outputs": [
    {
     "name": "stdout",
     "output_type": "stream",
     "text": [
      "Enter ele for checking frequency1\n"
     ]
    },
    {
     "data": {
      "text/plain": [
       "4"
      ]
     },
     "execution_count": 174,
     "metadata": {},
     "output_type": "execute_result"
    }
   ],
   "source": [
    "n=int(input(\"Enter ele for checking frequency\"))\n",
    "l1=[1,2,3,4,1,2,3,2,1,5,6,4,1,5]\n",
    "\n",
    "s=l1.count(n)\n",
    "s"
   ]
  },
  {
   "cell_type": "code",
   "execution_count": 176,
   "id": "681c2997",
   "metadata": {},
   "outputs": [
    {
     "name": "stdout",
     "output_type": "stream",
     "text": [
      "Enter ele for checking frequency1\n",
      "0 4 8 12 "
     ]
    }
   ],
   "source": [
    "# find the ele occuring on which index no\n",
    "\n",
    "n=int(input(\"Enter ele for checking frequency\"))\n",
    "l1=[1,2,3,4,1,2,3,2,1,5,6,4,1,5]\n",
    "\n",
    "index=0\n",
    "\n",
    "while index<len(l1):\n",
    "    if l1[index]==n:\n",
    "        print(index, end=\" \")\n",
    "    index+=1"
   ]
  },
  {
   "cell_type": "code",
   "execution_count": 194,
   "id": "fe067198",
   "metadata": {},
   "outputs": [
    {
     "name": "stdout",
     "output_type": "stream",
     "text": [
      "Enter number17\n",
      "True\n"
     ]
    }
   ],
   "source": [
    "#prime\n",
    "\n",
    "n=int(input(\"Enter number\"))\n",
    "\n",
    "def check_prime(num):\n",
    "    flag=True\n",
    "    if num>1:\n",
    "        for i in range(2,num-1):\n",
    "            if num%i==0:\n",
    "                 flag=False\n",
    "            \n",
    "        return flag\n",
    "print(check_prime(n))   "
   ]
  },
  {
   "cell_type": "code",
   "execution_count": 1,
   "id": "6123249f",
   "metadata": {},
   "outputs": [
    {
     "name": "stdout",
     "output_type": "stream",
     "text": [
      "Enter number5\n",
      "7\n"
     ]
    }
   ],
   "source": [
    "n=int(input(\"Enter number\"))\n",
    "\n",
    "def next_prime(num):\n",
    "    num+=1\n",
    "    while True:\n",
    "        num+=1\n",
    "        for i in range(2,num):\n",
    "            if num%i==0:\n",
    "                break\n",
    "        else:\n",
    "            return num\n",
    "print(next_prime(n))"
   ]
  },
  {
   "cell_type": "code",
   "execution_count": 3,
   "id": "6d63f485",
   "metadata": {},
   "outputs": [
    {
     "name": "stdout",
     "output_type": "stream",
     "text": [
      "Enter number4\n",
      "4 4 4 4 \n",
      "4 4 4 4 \n",
      "4 4 4 4 \n",
      "4 4 4 4 \n"
     ]
    }
   ],
   "source": [
    "n=int(input(\"Enter number\"))\n",
    "\n",
    "for i in range(n):\n",
    "    for j in range(n):\n",
    "        print(str(n),end=\" \")\n",
    "    print()"
   ]
  },
  {
   "cell_type": "code",
   "execution_count": 6,
   "id": "29443d19",
   "metadata": {},
   "outputs": [
    {
     "name": "stdout",
     "output_type": "stream",
     "text": [
      "Enter number5\n",
      "1 1 1 1 1 \n",
      "2 2 2 2 2 \n",
      "3 3 3 3 3 \n",
      "4 4 4 4 4 \n",
      "5 5 5 5 5 \n"
     ]
    }
   ],
   "source": [
    "n=int(input(\"Enter number\"))\n",
    "\n",
    "for i in range(1,n+1):\n",
    "    for j in range(1,n+1):\n",
    "        print(i,end=\" \")\n",
    "    print()"
   ]
  },
  {
   "cell_type": "code",
   "execution_count": 7,
   "id": "dc162114",
   "metadata": {},
   "outputs": [
    {
     "name": "stdout",
     "output_type": "stream",
     "text": [
      "Enter number5\n",
      "A A A A A \n",
      "A A A A A \n",
      "A A A A A \n",
      "A A A A A \n",
      "A A A A A \n"
     ]
    }
   ],
   "source": [
    "n=int(input(\"Enter number\"))\n",
    "\n",
    "for i in range(n):\n",
    "    for j in range(n):\n",
    "        print(\"A\",end=\" \")\n",
    "    print()"
   ]
  },
  {
   "cell_type": "code",
   "execution_count": 8,
   "id": "4df88406",
   "metadata": {},
   "outputs": [
    {
     "name": "stdout",
     "output_type": "stream",
     "text": [
      "Enter number5\n",
      "A A A A A \n",
      "B B B B B \n",
      "C C C C C \n",
      "D D D D D \n",
      "E E E E E \n"
     ]
    }
   ],
   "source": [
    "n=int(input(\"Enter number\"))\n",
    "\n",
    "for i in range(n):\n",
    "    for j in range(n):\n",
    "        print(chr(65+i),end=\" \")\n",
    "    print()"
   ]
  },
  {
   "cell_type": "code",
   "execution_count": 10,
   "id": "5db13973",
   "metadata": {},
   "outputs": [
    {
     "name": "stdout",
     "output_type": "stream",
     "text": [
      "Enter number5\n",
      "1 2 3 4 5 \n",
      "1 2 3 4 5 \n",
      "1 2 3 4 5 \n",
      "1 2 3 4 5 \n",
      "1 2 3 4 5 \n"
     ]
    }
   ],
   "source": [
    "n=int(input(\"Enter number\"))\n",
    "\n",
    "for i in range(n):\n",
    "    for j in range(n):\n",
    "        print(j+1,end=\" \")\n",
    "    print()"
   ]
  },
  {
   "cell_type": "code",
   "execution_count": 11,
   "id": "9b745d8b",
   "metadata": {},
   "outputs": [
    {
     "name": "stdout",
     "output_type": "stream",
     "text": [
      "Enter number5\n",
      "A B C D E \n",
      "A B C D E \n",
      "A B C D E \n",
      "A B C D E \n",
      "A B C D E \n"
     ]
    }
   ],
   "source": [
    "n=int(input(\"Enter number\"))\n",
    "\n",
    "for i in range(n):\n",
    "    for j in range(n):\n",
    "        print(chr(65+j),end=\" \")\n",
    "    print()"
   ]
  },
  {
   "cell_type": "code",
   "execution_count": 14,
   "id": "359e1899",
   "metadata": {},
   "outputs": [
    {
     "name": "stdout",
     "output_type": "stream",
     "text": [
      "Enter number5\n",
      "5 5 5 5 5 \n",
      "4 4 4 4 4 \n",
      "3 3 3 3 3 \n",
      "2 2 2 2 2 \n",
      "1 1 1 1 1 \n"
     ]
    }
   ],
   "source": [
    "n=int(input(\"Enter number\"))\n",
    "\n",
    "for i in range(n):\n",
    "    for j in range(n):\n",
    "        print(n-i,end=\" \")\n",
    "    print()"
   ]
  },
  {
   "cell_type": "code",
   "execution_count": 15,
   "id": "adc395d3",
   "metadata": {},
   "outputs": [
    {
     "name": "stdout",
     "output_type": "stream",
     "text": [
      "Enter number5\n",
      "E E E E E \n",
      "D D D D D \n",
      "C C C C C \n",
      "B B B B B \n",
      "A A A A A \n"
     ]
    }
   ],
   "source": [
    "n=int(input(\"Enter number\"))\n",
    "\n",
    "for i in range(n):\n",
    "    for j in range(n):\n",
    "        print(chr(69-i),end=\" \")\n",
    "    print()"
   ]
  },
  {
   "cell_type": "code",
   "execution_count": 16,
   "id": "1413ab68",
   "metadata": {},
   "outputs": [
    {
     "name": "stdout",
     "output_type": "stream",
     "text": [
      "Enter number5\n",
      "5 4 3 2 1 \n",
      "5 4 3 2 1 \n",
      "5 4 3 2 1 \n",
      "5 4 3 2 1 \n",
      "5 4 3 2 1 \n"
     ]
    }
   ],
   "source": [
    "n=int(input(\"Enter number\"))\n",
    "\n",
    "for i in range(n):\n",
    "    for j in range(n):\n",
    "        print(n-j,end=\" \")\n",
    "    print()"
   ]
  },
  {
   "cell_type": "code",
   "execution_count": 17,
   "id": "0cf68088",
   "metadata": {},
   "outputs": [
    {
     "name": "stdout",
     "output_type": "stream",
     "text": [
      "Enter number5\n",
      "E D C B A \n",
      "E D C B A \n",
      "E D C B A \n",
      "E D C B A \n",
      "E D C B A \n"
     ]
    }
   ],
   "source": [
    "n=int(input(\"Enter number\"))\n",
    "\n",
    "for i in range(n):\n",
    "    for j in range(n):\n",
    "        print(chr(69-j),end=\" \")\n",
    "    print()"
   ]
  },
  {
   "cell_type": "code",
   "execution_count": 18,
   "id": "14c647bf",
   "metadata": {},
   "outputs": [
    {
     "name": "stdout",
     "output_type": "stream",
     "text": [
      "Enter number5\n",
      "* \n",
      "* * \n",
      "* * * \n",
      "* * * * \n",
      "* * * * * \n"
     ]
    }
   ],
   "source": [
    "n=int(input(\"Enter number\"))\n",
    "\n",
    "for i in range(n):\n",
    "    for j in range(i+1):\n",
    "        print(\"*\",end=\" \")\n",
    "    print()"
   ]
  },
  {
   "cell_type": "code",
   "execution_count": 20,
   "id": "b5c177ef",
   "metadata": {},
   "outputs": [
    {
     "name": "stdout",
     "output_type": "stream",
     "text": [
      "Enter number5\n",
      "1 \n",
      "2 2 \n",
      "3 3 3 \n",
      "4 4 4 4 \n",
      "5 5 5 5 5 \n"
     ]
    }
   ],
   "source": [
    "n=int(input(\"Enter number\"))\n",
    "\n",
    "for i in range(n):\n",
    "    for j in range(i+1):\n",
    "        print(i+1,end=\" \")\n",
    "    print()"
   ]
  },
  {
   "cell_type": "code",
   "execution_count": 21,
   "id": "2aefe5b2",
   "metadata": {},
   "outputs": [
    {
     "name": "stdout",
     "output_type": "stream",
     "text": [
      "Enter number5\n",
      "A \n",
      "B B \n",
      "C C C \n",
      "D D D D \n",
      "E E E E E \n"
     ]
    }
   ],
   "source": [
    "n=int(input(\"Enter number\"))\n",
    "\n",
    "for i in range(n):\n",
    "    for j in range(i+1):\n",
    "        print(chr(65+i),end=\" \")\n",
    "    print()"
   ]
  },
  {
   "cell_type": "code",
   "execution_count": 22,
   "id": "826a7cf9",
   "metadata": {},
   "outputs": [
    {
     "name": "stdout",
     "output_type": "stream",
     "text": [
      "Enter number5\n",
      "5 \n",
      "5 4 \n",
      "5 4 3 \n",
      "5 4 3 2 \n",
      "5 4 3 2 1 \n"
     ]
    }
   ],
   "source": [
    "n=int(input(\"Enter number\"))\n",
    "\n",
    "for i in range(n):\n",
    "    for j in range(i+1):\n",
    "        print(n-j,end=\" \")\n",
    "    print()"
   ]
  },
  {
   "cell_type": "code",
   "execution_count": 24,
   "id": "b65de5cd",
   "metadata": {},
   "outputs": [
    {
     "name": "stdout",
     "output_type": "stream",
     "text": [
      "Enter number5\n",
      "E \n",
      "E D \n",
      "E D C \n",
      "E D C B \n",
      "E D C B A \n"
     ]
    }
   ],
   "source": [
    "n=int(input(\"Enter number\"))\n",
    "\n",
    "for i in range(n):\n",
    "    for j in range(i+1):\n",
    "        print(chr(69-j),end=\" \")\n",
    "    print()"
   ]
  },
  {
   "cell_type": "code",
   "execution_count": 31,
   "id": "6a6a1457",
   "metadata": {},
   "outputs": [
    {
     "name": "stdout",
     "output_type": "stream",
     "text": [
      "Enter number5\n",
      "* * * * * \n",
      "* * * * \n",
      "* * * \n",
      "* * \n",
      "* \n"
     ]
    }
   ],
   "source": [
    "n=int(input(\"Enter number\"))\n",
    "\n",
    "for i in range(n):\n",
    "    for j in range(n-i):\n",
    "        print(\"*\",end=\" \")\n",
    "    print()"
   ]
  },
  {
   "cell_type": "code",
   "execution_count": 34,
   "id": "cc6b425e",
   "metadata": {},
   "outputs": [
    {
     "name": "stdout",
     "output_type": "stream",
     "text": [
      "Enter number5\n",
      "A A A A A \n",
      "B B B B \n",
      "C C C \n",
      "D D \n",
      "E \n"
     ]
    }
   ],
   "source": [
    "n=int(input(\"Enter number\"))\n",
    "\n",
    "for i in range(n):\n",
    "    for j in range(n-i):\n",
    "        print(chr(65+i),end=\" \")\n",
    "    print()"
   ]
  },
  {
   "cell_type": "code",
   "execution_count": 39,
   "id": "662fc1c5",
   "metadata": {},
   "outputs": [
    {
     "name": "stdout",
     "output_type": "stream",
     "text": [
      "Enter number5\n",
      "          * \n",
      "        * * * \n",
      "      * * * * * \n",
      "    * * * * * * * \n",
      "  * * * * * * * * * \n"
     ]
    }
   ],
   "source": [
    "n=int(input(\"Enter number\"))\n",
    "\n",
    "for i in range(n):\n",
    "    for j in range(n-i):\n",
    "        print(\" \",end=\" \")\n",
    "    for j in range(i):\n",
    "        print('*',end=\" \")\n",
    "    for j in range(i+1):\n",
    "        print('*',end=\" \")\n",
    "    print()"
   ]
  },
  {
   "cell_type": "code",
   "execution_count": 47,
   "id": "f4c5a0b4",
   "metadata": {},
   "outputs": [
    {
     "name": "stdout",
     "output_type": "stream",
     "text": [
      "True\n"
     ]
    }
   ],
   "source": [
    "s=\"hi ashu keep practicing\"\n",
    "\n",
    "print(s.startswith('as',3,5))"
   ]
  },
  {
   "cell_type": "code",
   "execution_count": 52,
   "id": "fe063d90",
   "metadata": {},
   "outputs": [
    {
     "name": "stdout",
     "output_type": "stream",
     "text": [
      "Enter the mob no initials+918766880347\n",
      "Its india's number\n"
     ]
    }
   ],
   "source": [
    "mobile=input(\"Enter the mob no initials\")\n",
    "\n",
    "if mobile.startswith('+91'):\n",
    "    print(\"Its india's number\")\n",
    "elif mobile.startswith('+12'):\n",
    "    print(\"It's America's no\")\n",
    "elif mobile.startswith('+86'):\n",
    "    print(\"It's china's no\")"
   ]
  },
  {
   "cell_type": "code",
   "execution_count": null,
   "id": "3dda5a43",
   "metadata": {},
   "outputs": [],
   "source": []
  },
  {
   "cell_type": "code",
   "execution_count": 53,
   "id": "0833ac5c",
   "metadata": {},
   "outputs": [
    {
     "name": "stdout",
     "output_type": "stream",
     "text": [
      "True\n"
     ]
    }
   ],
   "source": [
    "s=\"hi ashu keep practicing\"\n",
    "\n",
    "print(s.endswith('ng'))"
   ]
  },
  {
   "cell_type": "code",
   "execution_count": 55,
   "id": "b2911b41",
   "metadata": {},
   "outputs": [
    {
     "name": "stdout",
     "output_type": "stream",
     "text": [
      "Enter name    ashu\n",
      "    ashu\n",
      "ashu\n"
     ]
    }
   ],
   "source": [
    "#  if user by mistake enter leading spaces while entering name then lstrip() function will remove the leding spaces\n",
    "name=input(\"Enter name\")\n",
    "\n",
    "print(name)\n",
    "name=name.lstrip()\n",
    "print(name)\n"
   ]
  },
  {
   "cell_type": "code",
   "execution_count": 56,
   "id": "edaf4364",
   "metadata": {},
   "outputs": [
    {
     "name": "stdout",
     "output_type": "stream",
     "text": [
      "uhsa\n"
     ]
    }
   ],
   "source": [
    "s='ashu'\n",
    "\n",
    "print(s[::-1])"
   ]
  },
  {
   "cell_type": "code",
   "execution_count": 58,
   "id": "be474898",
   "metadata": {},
   "outputs": [
    {
     "ename": "TypeError",
     "evalue": "can only concatenate str (not \"int\") to str",
     "output_type": "error",
     "traceback": [
      "\u001b[1;31m---------------------------------------------------------------------------\u001b[0m",
      "\u001b[1;31mTypeError\u001b[0m                                 Traceback (most recent call last)",
      "\u001b[1;32m~\\AppData\\Local\\Temp\\ipykernel_54484\\355558423.py\u001b[0m in \u001b[0;36m<module>\u001b[1;34m\u001b[0m\n\u001b[0;32m      3\u001b[0m \u001b[0ml\u001b[0m\u001b[1;33m=\u001b[0m\u001b[0mlen\u001b[0m\u001b[1;33m(\u001b[0m\u001b[0ms\u001b[0m\u001b[1;33m)\u001b[0m\u001b[1;33m\u001b[0m\u001b[1;33m\u001b[0m\u001b[0m\n\u001b[0;32m      4\u001b[0m \u001b[1;32mfor\u001b[0m \u001b[0mi\u001b[0m \u001b[1;32min\u001b[0m \u001b[0mrange\u001b[0m\u001b[1;33m(\u001b[0m\u001b[0ml\u001b[0m\u001b[1;33m-\u001b[0m\u001b[1;36m1\u001b[0m\u001b[1;33m,\u001b[0m\u001b[1;36m0\u001b[0m\u001b[1;33m,\u001b[0m\u001b[1;33m-\u001b[0m\u001b[1;36m1\u001b[0m\u001b[1;33m)\u001b[0m\u001b[1;33m:\u001b[0m\u001b[1;33m\u001b[0m\u001b[1;33m\u001b[0m\u001b[0m\n\u001b[1;32m----> 5\u001b[1;33m     \u001b[0ms1\u001b[0m\u001b[1;33m+=\u001b[0m\u001b[0mi\u001b[0m\u001b[1;33m\u001b[0m\u001b[1;33m\u001b[0m\u001b[0m\n\u001b[0m\u001b[0;32m      6\u001b[0m \u001b[0mprint\u001b[0m\u001b[1;33m(\u001b[0m\u001b[0ms1\u001b[0m\u001b[1;33m)\u001b[0m\u001b[1;33m\u001b[0m\u001b[1;33m\u001b[0m\u001b[0m\n",
      "\u001b[1;31mTypeError\u001b[0m: can only concatenate str (not \"int\") to str"
     ]
    }
   ],
   "source": [
    "s='ashu'\n",
    "s1=\"\"\n",
    "l=len(s)\n",
    "for i in range(l-1,0,-1):\n",
    "    s1+=i\n",
    "print(s1)"
   ]
  },
  {
   "cell_type": "code",
   "execution_count": 59,
   "id": "305b129d",
   "metadata": {},
   "outputs": [
    {
     "name": "stdout",
     "output_type": "stream",
     "text": [
      "uhsa\n"
     ]
    }
   ],
   "source": [
    "s='ashu'\n",
    "s_r=\"\"\n",
    "l=len(s)\n",
    "\n",
    "while l>0:\n",
    "    s_r=s_r+s[l-1]\n",
    "    l-=1\n",
    "print(s_r)"
   ]
  },
  {
   "cell_type": "code",
   "execution_count": 60,
   "id": "79f7b30e",
   "metadata": {},
   "outputs": [
    {
     "name": "stdout",
     "output_type": "stream",
     "text": [
      "irevalok\n"
     ]
    }
   ],
   "source": [
    "s='kolaveri'\n",
    "s_r=\"\"\n",
    "for i in s:\n",
    "    s_r=i+s_r\n",
    "print(s_r)"
   ]
  },
  {
   "cell_type": "code",
   "execution_count": 65,
   "id": "ae40dee6",
   "metadata": {},
   "outputs": [
    {
     "name": "stdout",
     "output_type": "stream",
     "text": [
      "solaveri\n"
     ]
    }
   ],
   "source": [
    "s1=s.replace('kola','sila')\n",
    "print(s1)"
   ]
  },
  {
   "cell_type": "code",
   "execution_count": null,
   "id": "58b166cd",
   "metadata": {},
   "outputs": [],
   "source": []
  },
  {
   "cell_type": "code",
   "execution_count": 66,
   "id": "19f1cae1",
   "metadata": {},
   "outputs": [
    {
     "name": "stdout",
     "output_type": "stream",
     "text": [
      "2\n"
     ]
    }
   ],
   "source": [
    "# find()  it gives the index number on 1st occurence of chararcter in a given string\n",
    "st=\"chaitanya\"\n",
    "print(st.find('a'))"
   ]
  },
  {
   "cell_type": "code",
   "execution_count": null,
   "id": "9b5aaf50",
   "metadata": {},
   "outputs": [],
   "source": []
  },
  {
   "cell_type": "code",
   "execution_count": 1,
   "id": "49f198bb",
   "metadata": {},
   "outputs": [
    {
     "name": "stdout",
     "output_type": "stream",
     "text": [
      "Enter nameashu\n",
      "Enter age24\n",
      "hi my name is ashu & my age is 24\n",
      "hi my name is ashu & my age is 24\n"
     ]
    }
   ],
   "source": [
    "# fORMATTING IN PYTHON\n",
    "\n",
    "\n",
    "name=input(\"Enter name\")\n",
    "age=int(input(\"Enter age\"))\n",
    "#simple formatting\n",
    "print(\"hi my name is\",name,\"& my age is\",age)\n",
    "\n",
    "# f-string formatting\n",
    "print(f\"hi my name is {name} & my age is {age}\")"
   ]
  },
  {
   "cell_type": "code",
   "execution_count": 2,
   "id": "cd10f02d",
   "metadata": {},
   "outputs": [
    {
     "name": "stdout",
     "output_type": "stream",
     "text": [
      "Enter city name:nagpur \n",
      "Enter state namemaharashtra\n",
      "my city name is nagpur  and state name is maharashtra\n"
     ]
    }
   ],
   "source": [
    "city=input(\"Enter city name:\")\n",
    "state=input(\"Enter state name\")\n",
    "\n",
    "print( f\"my city name is {city} and state name is {state}\")"
   ]
  },
  {
   "cell_type": "code",
   "execution_count": 6,
   "id": "0e87162f",
   "metadata": {},
   "outputs": [
    {
     "name": "stdout",
     "output_type": "stream",
     "text": [
      "['ashu-is', 'a', 'boy']\n"
     ]
    }
   ],
   "source": [
    "s='ashu-is a boy'\n",
    "print(s.split())"
   ]
  },
  {
   "cell_type": "code",
   "execution_count": 16,
   "id": "55bef8ee",
   "metadata": {},
   "outputs": [
    {
     "name": "stdout",
     "output_type": "stream",
     "text": [
      "hihellosuryarise\n",
      "<class 'str'>\n"
     ]
    }
   ],
   "source": [
    "l=['hi','hello','surya','rise']\n",
    "s=\"\".join(l)\n",
    "print(s)\n",
    "print(type(s))"
   ]
  },
  {
   "cell_type": "code",
   "execution_count": null,
   "id": "add8855f",
   "metadata": {},
   "outputs": [],
   "source": []
  },
  {
   "cell_type": "code",
   "execution_count": 22,
   "id": "0969c799",
   "metadata": {},
   "outputs": [
    {
     "data": {
      "text/plain": [
       "'HELLO MURARI'"
      ]
     },
     "execution_count": 22,
     "metadata": {},
     "output_type": "execute_result"
    }
   ],
   "source": [
    "st=\"heLlo MuraRi\"\n",
    "st1=st.upper()\n",
    "st1"
   ]
  },
  {
   "cell_type": "code",
   "execution_count": 24,
   "id": "21f7d4c2",
   "metadata": {},
   "outputs": [
    {
     "name": "stdout",
     "output_type": "stream",
     "text": [
      "hello murari\n"
     ]
    }
   ],
   "source": [
    "st2=st1.swapcase()\n",
    "print(st2)"
   ]
  },
  {
   "cell_type": "code",
   "execution_count": 25,
   "id": "6c5085a7",
   "metadata": {},
   "outputs": [
    {
     "data": {
      "text/plain": [
       "'Hello Murari'"
      ]
     },
     "execution_count": 25,
     "metadata": {},
     "output_type": "execute_result"
    }
   ],
   "source": [
    "st3=st2.title()\n",
    "st3"
   ]
  },
  {
   "cell_type": "code",
   "execution_count": 27,
   "id": "ac37a28e",
   "metadata": {},
   "outputs": [
    {
     "data": {
      "text/plain": [
       "'Hello murari'"
      ]
     },
     "execution_count": 27,
     "metadata": {},
     "output_type": "execute_result"
    }
   ],
   "source": [
    "st4=st3.capitalize()\n",
    "st4"
   ]
  },
  {
   "cell_type": "code",
   "execution_count": null,
   "id": "b6477d71",
   "metadata": {},
   "outputs": [],
   "source": []
  },
  {
   "cell_type": "code",
   "execution_count": 1,
   "id": "1074ee6d",
   "metadata": {},
   "outputs": [],
   "source": [
    "import pandas as pd"
   ]
  },
  {
   "cell_type": "code",
   "execution_count": 2,
   "id": "f1e0ac4f",
   "metadata": {},
   "outputs": [
    {
     "data": {
      "text/html": [
       "<div>\n",
       "<style scoped>\n",
       "    .dataframe tbody tr th:only-of-type {\n",
       "        vertical-align: middle;\n",
       "    }\n",
       "\n",
       "    .dataframe tbody tr th {\n",
       "        vertical-align: top;\n",
       "    }\n",
       "\n",
       "    .dataframe thead th {\n",
       "        text-align: right;\n",
       "    }\n",
       "</style>\n",
       "<table border=\"1\" class=\"dataframe\">\n",
       "  <thead>\n",
       "    <tr style=\"text-align: right;\">\n",
       "      <th></th>\n",
       "      <th>0</th>\n",
       "    </tr>\n",
       "  </thead>\n",
       "  <tbody>\n",
       "    <tr>\n",
       "      <th>0</th>\n",
       "      <td>5</td>\n",
       "    </tr>\n",
       "    <tr>\n",
       "      <th>1</th>\n",
       "      <td>4</td>\n",
       "    </tr>\n",
       "    <tr>\n",
       "      <th>2</th>\n",
       "      <td>9</td>\n",
       "    </tr>\n",
       "    <tr>\n",
       "      <th>3</th>\n",
       "      <td>7</td>\n",
       "    </tr>\n",
       "  </tbody>\n",
       "</table>\n",
       "</div>"
      ],
      "text/plain": [
       "   0\n",
       "0  5\n",
       "1  4\n",
       "2  9\n",
       "3  7"
      ]
     },
     "execution_count": 2,
     "metadata": {},
     "output_type": "execute_result"
    }
   ],
   "source": [
    "l1=[5,4,9,7]\n",
    "df=pd.DataFrame(l1)\n",
    "df"
   ]
  },
  {
   "cell_type": "code",
   "execution_count": 3,
   "id": "4a725803",
   "metadata": {},
   "outputs": [
    {
     "data": {
      "text/html": [
       "<div>\n",
       "<style scoped>\n",
       "    .dataframe tbody tr th:only-of-type {\n",
       "        vertical-align: middle;\n",
       "    }\n",
       "\n",
       "    .dataframe tbody tr th {\n",
       "        vertical-align: top;\n",
       "    }\n",
       "\n",
       "    .dataframe thead th {\n",
       "        text-align: right;\n",
       "    }\n",
       "</style>\n",
       "<table border=\"1\" class=\"dataframe\">\n",
       "  <thead>\n",
       "    <tr style=\"text-align: right;\">\n",
       "      <th></th>\n",
       "      <th>0</th>\n",
       "      <th>1</th>\n",
       "      <th>2</th>\n",
       "    </tr>\n",
       "  </thead>\n",
       "  <tbody>\n",
       "    <tr>\n",
       "      <th>0</th>\n",
       "      <td>2</td>\n",
       "      <td>5</td>\n",
       "      <td>6</td>\n",
       "    </tr>\n",
       "    <tr>\n",
       "      <th>1</th>\n",
       "      <td>9</td>\n",
       "      <td>9</td>\n",
       "      <td>5</td>\n",
       "    </tr>\n",
       "    <tr>\n",
       "      <th>2</th>\n",
       "      <td>7</td>\n",
       "      <td>6</td>\n",
       "      <td>1</td>\n",
       "    </tr>\n",
       "  </tbody>\n",
       "</table>\n",
       "</div>"
      ],
      "text/plain": [
       "   0  1  2\n",
       "0  2  5  6\n",
       "1  9  9  5\n",
       "2  7  6  1"
      ]
     },
     "execution_count": 3,
     "metadata": {},
     "output_type": "execute_result"
    }
   ],
   "source": [
    "df2=pd.DataFrame([[2,5,6],[9,9,5],[7,6,1]])\n",
    "df2"
   ]
  },
  {
   "cell_type": "code",
   "execution_count": 14,
   "id": "e815fa2b",
   "metadata": {},
   "outputs": [
    {
     "data": {
      "text/plain": [
       "[{'id': 101, 'name': 'a'}, {'id': 102, 'name': 'b'}]"
      ]
     },
     "execution_count": 14,
     "metadata": {},
     "output_type": "execute_result"
    }
   ],
   "source": [
    "d=[{'id':101,'name':'a'},{'id':102,'name':'b'}]\n",
    "d"
   ]
  },
  {
   "cell_type": "code",
   "execution_count": 6,
   "id": "434eacfd",
   "metadata": {},
   "outputs": [
    {
     "name": "stdout",
     "output_type": "stream",
     "text": [
      "id 101\n",
      "name a\n"
     ]
    }
   ],
   "source": [
    "for key,value in d.items():\n",
    "    print(key,value)"
   ]
  },
  {
   "cell_type": "code",
   "execution_count": 7,
   "id": "658a0f7b",
   "metadata": {},
   "outputs": [
    {
     "name": "stdout",
     "output_type": "stream",
     "text": [
      "id 101\n",
      "name a\n"
     ]
    }
   ],
   "source": [
    "for i in d:\n",
    "    print(i,d[i])"
   ]
  },
  {
   "cell_type": "code",
   "execution_count": 15,
   "id": "65d39adf",
   "metadata": {},
   "outputs": [
    {
     "data": {
      "text/html": [
       "<div>\n",
       "<style scoped>\n",
       "    .dataframe tbody tr th:only-of-type {\n",
       "        vertical-align: middle;\n",
       "    }\n",
       "\n",
       "    .dataframe tbody tr th {\n",
       "        vertical-align: top;\n",
       "    }\n",
       "\n",
       "    .dataframe thead th {\n",
       "        text-align: right;\n",
       "    }\n",
       "</style>\n",
       "<table border=\"1\" class=\"dataframe\">\n",
       "  <thead>\n",
       "    <tr style=\"text-align: right;\">\n",
       "      <th></th>\n",
       "      <th>id</th>\n",
       "      <th>name</th>\n",
       "    </tr>\n",
       "  </thead>\n",
       "  <tbody>\n",
       "    <tr>\n",
       "      <th>0</th>\n",
       "      <td>101</td>\n",
       "      <td>a</td>\n",
       "    </tr>\n",
       "    <tr>\n",
       "      <th>1</th>\n",
       "      <td>102</td>\n",
       "      <td>b</td>\n",
       "    </tr>\n",
       "  </tbody>\n",
       "</table>\n",
       "</div>"
      ],
      "text/plain": [
       "    id name\n",
       "0  101    a\n",
       "1  102    b"
      ]
     },
     "execution_count": 15,
     "metadata": {},
     "output_type": "execute_result"
    }
   ],
   "source": [
    "df1=pd.DataFrame(d)\n",
    "df1"
   ]
  },
  {
   "cell_type": "code",
   "execution_count": 24,
   "id": "a8278cc4",
   "metadata": {},
   "outputs": [
    {
     "data": {
      "text/html": [
       "<div>\n",
       "<style scoped>\n",
       "    .dataframe tbody tr th:only-of-type {\n",
       "        vertical-align: middle;\n",
       "    }\n",
       "\n",
       "    .dataframe tbody tr th {\n",
       "        vertical-align: top;\n",
       "    }\n",
       "\n",
       "    .dataframe thead th {\n",
       "        text-align: right;\n",
       "    }\n",
       "</style>\n",
       "<table border=\"1\" class=\"dataframe\">\n",
       "  <thead>\n",
       "    <tr style=\"text-align: right;\">\n",
       "      <th></th>\n",
       "      <th>roll</th>\n",
       "      <th>name</th>\n",
       "    </tr>\n",
       "  </thead>\n",
       "  <tbody>\n",
       "    <tr>\n",
       "      <th>0</th>\n",
       "      <td>25</td>\n",
       "      <td>a</td>\n",
       "    </tr>\n",
       "    <tr>\n",
       "      <th>1</th>\n",
       "      <td>36</td>\n",
       "      <td>b</td>\n",
       "    </tr>\n",
       "    <tr>\n",
       "      <th>2</th>\n",
       "      <td>48</td>\n",
       "      <td>c</td>\n",
       "    </tr>\n",
       "  </tbody>\n",
       "</table>\n",
       "</div>"
      ],
      "text/plain": [
       "   roll name\n",
       "0    25    a\n",
       "1    36    b\n",
       "2    48    c"
      ]
     },
     "execution_count": 24,
     "metadata": {},
     "output_type": "execute_result"
    }
   ],
   "source": [
    "df2=pd.DataFrame({'roll':[25,36,48],'name':['a','b','c']})\n",
    "df2"
   ]
  },
  {
   "cell_type": "code",
   "execution_count": 18,
   "id": "d690e521",
   "metadata": {},
   "outputs": [
    {
     "data": {
      "text/html": [
       "<div>\n",
       "<style scoped>\n",
       "    .dataframe tbody tr th:only-of-type {\n",
       "        vertical-align: middle;\n",
       "    }\n",
       "\n",
       "    .dataframe tbody tr th {\n",
       "        vertical-align: top;\n",
       "    }\n",
       "\n",
       "    .dataframe thead th {\n",
       "        text-align: right;\n",
       "    }\n",
       "</style>\n",
       "<table border=\"1\" class=\"dataframe\">\n",
       "  <thead>\n",
       "    <tr style=\"text-align: right;\">\n",
       "      <th></th>\n",
       "      <th>pid</th>\n",
       "      <th>pname</th>\n",
       "    </tr>\n",
       "  </thead>\n",
       "  <tbody>\n",
       "    <tr>\n",
       "      <th>0</th>\n",
       "      <td>455</td>\n",
       "      <td>Toy</td>\n",
       "    </tr>\n",
       "    <tr>\n",
       "      <th>1</th>\n",
       "      <td>658</td>\n",
       "      <td>Bat</td>\n",
       "    </tr>\n",
       "  </tbody>\n",
       "</table>\n",
       "</div>"
      ],
      "text/plain": [
       "   pid pname\n",
       "0  455   Toy\n",
       "1  658   Bat"
      ]
     },
     "execution_count": 18,
     "metadata": {},
     "output_type": "execute_result"
    }
   ],
   "source": [
    "df3=pd.DataFrame([{'pid':455,'pname':'Toy'},{'pid':658,'pname':'Bat'}])\n",
    "df3"
   ]
  },
  {
   "cell_type": "code",
   "execution_count": 100,
   "id": "95c87d33",
   "metadata": {},
   "outputs": [
    {
     "data": {
      "text/html": [
       "<div>\n",
       "<style scoped>\n",
       "    .dataframe tbody tr th:only-of-type {\n",
       "        vertical-align: middle;\n",
       "    }\n",
       "\n",
       "    .dataframe tbody tr th {\n",
       "        vertical-align: top;\n",
       "    }\n",
       "\n",
       "    .dataframe thead th {\n",
       "        text-align: right;\n",
       "    }\n",
       "</style>\n",
       "<table border=\"1\" class=\"dataframe\">\n",
       "  <thead>\n",
       "    <tr style=\"text-align: right;\">\n",
       "      <th></th>\n",
       "      <th>a</th>\n",
       "      <th>b</th>\n",
       "      <th>c</th>\n",
       "      <th>d</th>\n",
       "    </tr>\n",
       "  </thead>\n",
       "  <tbody>\n",
       "    <tr>\n",
       "      <th>101</th>\n",
       "      <td>5</td>\n",
       "      <td>4</td>\n",
       "      <td>6</td>\n",
       "      <td>NaN</td>\n",
       "    </tr>\n",
       "    <tr>\n",
       "      <th>102</th>\n",
       "      <td>7</td>\n",
       "      <td>4</td>\n",
       "      <td>2</td>\n",
       "      <td>3.0</td>\n",
       "    </tr>\n",
       "    <tr>\n",
       "      <th>103</th>\n",
       "      <td>9</td>\n",
       "      <td>7</td>\n",
       "      <td>6</td>\n",
       "      <td>0.0</td>\n",
       "    </tr>\n",
       "  </tbody>\n",
       "</table>\n",
       "</div>"
      ],
      "text/plain": [
       "     a  b  c    d\n",
       "101  5  4  6  NaN\n",
       "102  7  4  2  3.0\n",
       "103  9  7  6  0.0"
      ]
     },
     "execution_count": 100,
     "metadata": {},
     "output_type": "execute_result"
    }
   ],
   "source": [
    "l3=[[5,4,6],[7,4,2,3],[9,7,6,0]]\n",
    "df4=pd.DataFrame(l3,columns=['a','b','c','d'])\n",
    "df4.index=[101,102,103]\n",
    "df4"
   ]
  },
  {
   "cell_type": "code",
   "execution_count": 101,
   "id": "8c15bbe5",
   "metadata": {},
   "outputs": [
    {
     "data": {
      "text/html": [
       "<div>\n",
       "<style scoped>\n",
       "    .dataframe tbody tr th:only-of-type {\n",
       "        vertical-align: middle;\n",
       "    }\n",
       "\n",
       "    .dataframe tbody tr th {\n",
       "        vertical-align: top;\n",
       "    }\n",
       "\n",
       "    .dataframe thead th {\n",
       "        text-align: right;\n",
       "    }\n",
       "</style>\n",
       "<table border=\"1\" class=\"dataframe\">\n",
       "  <thead>\n",
       "    <tr style=\"text-align: right;\">\n",
       "      <th></th>\n",
       "      <th>a</th>\n",
       "      <th>b</th>\n",
       "      <th>c</th>\n",
       "      <th>d</th>\n",
       "    </tr>\n",
       "  </thead>\n",
       "  <tbody>\n",
       "    <tr>\n",
       "      <th>101</th>\n",
       "      <td>5</td>\n",
       "      <td>4</td>\n",
       "      <td>6</td>\n",
       "      <td>NaN</td>\n",
       "    </tr>\n",
       "    <tr>\n",
       "      <th>102</th>\n",
       "      <td>7</td>\n",
       "      <td>4</td>\n",
       "      <td>2</td>\n",
       "      <td>3.0</td>\n",
       "    </tr>\n",
       "    <tr>\n",
       "      <th>103</th>\n",
       "      <td>9</td>\n",
       "      <td>7</td>\n",
       "      <td>6</td>\n",
       "      <td>0.0</td>\n",
       "    </tr>\n",
       "  </tbody>\n",
       "</table>\n",
       "</div>"
      ],
      "text/plain": [
       "     a  b  c    d\n",
       "101  5  4  6  NaN\n",
       "102  7  4  2  3.0\n",
       "103  9  7  6  0.0"
      ]
     },
     "execution_count": 101,
     "metadata": {},
     "output_type": "execute_result"
    }
   ],
   "source": [
    "df4.fillna({'d':'no'})\n",
    "df4"
   ]
  },
  {
   "cell_type": "code",
   "execution_count": 99,
   "id": "7aedbe3e",
   "metadata": {},
   "outputs": [],
   "source": [
    "import numpy as np"
   ]
  },
  {
   "cell_type": "code",
   "execution_count": 27,
   "id": "95e7771e",
   "metadata": {},
   "outputs": [
    {
     "data": {
      "text/plain": [
       "array([[0, 1, 2],\n",
       "       [3, 4, 5],\n",
       "       [6, 7, 8]])"
      ]
     },
     "execution_count": 27,
     "metadata": {},
     "output_type": "execute_result"
    }
   ],
   "source": [
    "arr1=np.arange(9).reshape(3,3)\n",
    "arr1"
   ]
  },
  {
   "cell_type": "code",
   "execution_count": 28,
   "id": "b955057e",
   "metadata": {},
   "outputs": [
    {
     "data": {
      "text/plain": [
       "array([[ 5,  6,  7],\n",
       "       [ 8,  9, 10],\n",
       "       [11, 12, 13]])"
      ]
     },
     "execution_count": 28,
     "metadata": {},
     "output_type": "execute_result"
    }
   ],
   "source": [
    "arr2=np.arange(5,14).reshape(3,3)\n",
    "arr2"
   ]
  },
  {
   "cell_type": "code",
   "execution_count": 30,
   "id": "ae1f6978",
   "metadata": {},
   "outputs": [
    {
     "data": {
      "text/plain": [
       "array([[ 5,  7,  9],\n",
       "       [11, 13, 15],\n",
       "       [17, 19, 21]])"
      ]
     },
     "execution_count": 30,
     "metadata": {},
     "output_type": "execute_result"
    }
   ],
   "source": [
    "arr3=arr1+arr2\n",
    "arr3"
   ]
  },
  {
   "cell_type": "code",
   "execution_count": 33,
   "id": "9153b9a2",
   "metadata": {},
   "outputs": [
    {
     "data": {
      "text/plain": [
       "array([[  0,   6,  14],\n",
       "       [ 24,  36,  50],\n",
       "       [ 66,  84, 104]])"
      ]
     },
     "execution_count": 33,
     "metadata": {},
     "output_type": "execute_result"
    }
   ],
   "source": [
    "arr4=arr1*arr2\n",
    "arr4"
   ]
  },
  {
   "cell_type": "code",
   "execution_count": 34,
   "id": "316ffd89",
   "metadata": {},
   "outputs": [
    {
     "data": {
      "text/plain": [
       "array([ 0,  1,  2,  3,  4,  5,  6,  7,  8,  9, 10, 11, 12, 13, 14])"
      ]
     },
     "execution_count": 34,
     "metadata": {},
     "output_type": "execute_result"
    }
   ],
   "source": [
    "ar=np.arange(15)\n",
    "ar"
   ]
  },
  {
   "cell_type": "code",
   "execution_count": 41,
   "id": "8fadf21f",
   "metadata": {},
   "outputs": [
    {
     "data": {
      "text/plain": [
       "array([[ 0,  1,  2,  3,  4],\n",
       "       [ 5,  6,  7,  8,  9],\n",
       "       [10, 11, 12, 13, 14]])"
      ]
     },
     "execution_count": 41,
     "metadata": {},
     "output_type": "execute_result"
    }
   ],
   "source": [
    "ar=np.arange(15).reshape(3,5)\n",
    "ar"
   ]
  },
  {
   "cell_type": "code",
   "execution_count": 40,
   "id": "bdbc0544",
   "metadata": {},
   "outputs": [
    {
     "data": {
      "text/plain": [
       "array([ 0,  1,  2,  3,  4,  5,  6,  7,  8,  9, 10, 11, 12, 13, 14])"
      ]
     },
     "execution_count": 40,
     "metadata": {},
     "output_type": "execute_result"
    }
   ],
   "source": [
    "a_1=ar.reshape(-1)\n",
    "a_1"
   ]
  },
  {
   "cell_type": "code",
   "execution_count": 42,
   "id": "1789e6a9",
   "metadata": {},
   "outputs": [
    {
     "data": {
      "text/plain": [
       "array([ 0,  1,  2,  3,  4,  5,  6,  7,  8,  9, 10, 11, 12, 13, 14])"
      ]
     },
     "execution_count": 42,
     "metadata": {},
     "output_type": "execute_result"
    }
   ],
   "source": [
    "a_1d=ar.flatten()\n",
    "a_1d"
   ]
  },
  {
   "cell_type": "code",
   "execution_count": 43,
   "id": "e119837a",
   "metadata": {},
   "outputs": [
    {
     "data": {
      "text/html": [
       "<div>\n",
       "<style scoped>\n",
       "    .dataframe tbody tr th:only-of-type {\n",
       "        vertical-align: middle;\n",
       "    }\n",
       "\n",
       "    .dataframe tbody tr th {\n",
       "        vertical-align: top;\n",
       "    }\n",
       "\n",
       "    .dataframe thead th {\n",
       "        text-align: right;\n",
       "    }\n",
       "</style>\n",
       "<table border=\"1\" class=\"dataframe\">\n",
       "  <thead>\n",
       "    <tr style=\"text-align: right;\">\n",
       "      <th></th>\n",
       "      <th>id</th>\n",
       "      <th>name</th>\n",
       "      <th>age</th>\n",
       "      <th>city</th>\n",
       "    </tr>\n",
       "  </thead>\n",
       "  <tbody>\n",
       "    <tr>\n",
       "      <th>0</th>\n",
       "      <td>101</td>\n",
       "      <td>ashu</td>\n",
       "      <td>25</td>\n",
       "      <td>pune</td>\n",
       "    </tr>\n",
       "    <tr>\n",
       "      <th>1</th>\n",
       "      <td>102</td>\n",
       "      <td>diu</td>\n",
       "      <td>20</td>\n",
       "      <td>nagpur</td>\n",
       "    </tr>\n",
       "    <tr>\n",
       "      <th>2</th>\n",
       "      <td>103</td>\n",
       "      <td>aniket</td>\n",
       "      <td>26</td>\n",
       "      <td>mumbai</td>\n",
       "    </tr>\n",
       "  </tbody>\n",
       "</table>\n",
       "</div>"
      ],
      "text/plain": [
       "    id    name  age    city\n",
       "0  101    ashu   25    pune\n",
       "1  102     diu   20  nagpur\n",
       "2  103  aniket   26  mumbai"
      ]
     },
     "execution_count": 43,
     "metadata": {},
     "output_type": "execute_result"
    }
   ],
   "source": [
    "# Read csv file using pandas\n",
    "\n",
    "df=pd.read_csv('D:\\DUMMY_PROJECT_REPORT\\info.csv')\n",
    "df"
   ]
  },
  {
   "cell_type": "code",
   "execution_count": 44,
   "id": "4b9baf66",
   "metadata": {},
   "outputs": [
    {
     "data": {
      "text/plain": [
       "pandas.core.frame.DataFrame"
      ]
     },
     "execution_count": 44,
     "metadata": {},
     "output_type": "execute_result"
    }
   ],
   "source": [
    "type(df)"
   ]
  },
  {
   "cell_type": "code",
   "execution_count": 45,
   "id": "5a843413",
   "metadata": {},
   "outputs": [
    {
     "data": {
      "text/plain": [
       "builtin_function_or_method"
      ]
     },
     "execution_count": 45,
     "metadata": {},
     "output_type": "execute_result"
    }
   ],
   "source": [
    "type(id)"
   ]
  },
  {
   "cell_type": "code",
   "execution_count": 48,
   "id": "7dc8f922",
   "metadata": {},
   "outputs": [
    {
     "data": {
      "text/html": [
       "<div>\n",
       "<style scoped>\n",
       "    .dataframe tbody tr th:only-of-type {\n",
       "        vertical-align: middle;\n",
       "    }\n",
       "\n",
       "    .dataframe tbody tr th {\n",
       "        vertical-align: top;\n",
       "    }\n",
       "\n",
       "    .dataframe thead th {\n",
       "        text-align: right;\n",
       "    }\n",
       "</style>\n",
       "<table border=\"1\" class=\"dataframe\">\n",
       "  <thead>\n",
       "    <tr style=\"text-align: right;\">\n",
       "      <th></th>\n",
       "      <th>id,name</th>\n",
       "      <th>age,city</th>\n",
       "    </tr>\n",
       "  </thead>\n",
       "  <tbody>\n",
       "    <tr>\n",
       "      <th>0</th>\n",
       "      <td>101,ashu</td>\n",
       "      <td>25,pune</td>\n",
       "    </tr>\n",
       "    <tr>\n",
       "      <th>1</th>\n",
       "      <td>102,diu</td>\n",
       "      <td>20,nagpur</td>\n",
       "    </tr>\n",
       "    <tr>\n",
       "      <th>2</th>\n",
       "      <td>103,aniket</td>\n",
       "      <td>26,mumbai</td>\n",
       "    </tr>\n",
       "  </tbody>\n",
       "</table>\n",
       "</div>"
      ],
      "text/plain": [
       "      id,name   age,city\n",
       "0    101,ashu    25,pune\n",
       "1     102,diu  20,nagpur\n",
       "2  103,aniket  26,mumbai"
      ]
     },
     "execution_count": 48,
     "metadata": {},
     "output_type": "execute_result"
    }
   ],
   "source": [
    "# seperated colm by #\n",
    "df=pd.read_csv('D:\\DUMMY_PROJECT_REPORT\\info1.csv',sep='#')\n",
    "df"
   ]
  },
  {
   "cell_type": "code",
   "execution_count": 52,
   "id": "417ade79",
   "metadata": {},
   "outputs": [
    {
     "data": {
      "text/html": [
       "<div>\n",
       "<style scoped>\n",
       "    .dataframe tbody tr th:only-of-type {\n",
       "        vertical-align: middle;\n",
       "    }\n",
       "\n",
       "    .dataframe tbody tr th {\n",
       "        vertical-align: top;\n",
       "    }\n",
       "\n",
       "    .dataframe thead th {\n",
       "        text-align: right;\n",
       "    }\n",
       "</style>\n",
       "<table border=\"1\" class=\"dataframe\">\n",
       "  <thead>\n",
       "    <tr style=\"text-align: right;\">\n",
       "      <th></th>\n",
       "      <th>0</th>\n",
       "      <th>1</th>\n",
       "      <th>2</th>\n",
       "      <th>3</th>\n",
       "    </tr>\n",
       "  </thead>\n",
       "  <tbody>\n",
       "    <tr>\n",
       "      <th>0</th>\n",
       "      <td>id</td>\n",
       "      <td>name</td>\n",
       "      <td>age</td>\n",
       "      <td>city</td>\n",
       "    </tr>\n",
       "    <tr>\n",
       "      <th>1</th>\n",
       "      <td>101</td>\n",
       "      <td>ashu</td>\n",
       "      <td>25</td>\n",
       "      <td>pune</td>\n",
       "    </tr>\n",
       "    <tr>\n",
       "      <th>2</th>\n",
       "      <td>102</td>\n",
       "      <td>diu</td>\n",
       "      <td>20</td>\n",
       "      <td>nagpur</td>\n",
       "    </tr>\n",
       "    <tr>\n",
       "      <th>3</th>\n",
       "      <td>103</td>\n",
       "      <td>aniket</td>\n",
       "      <td>26</td>\n",
       "      <td>mumbai</td>\n",
       "    </tr>\n",
       "  </tbody>\n",
       "</table>\n",
       "</div>"
      ],
      "text/plain": [
       "     0       1    2       3\n",
       "0   id    name  age    city\n",
       "1  101    ashu   25    pune\n",
       "2  102     diu   20  nagpur\n",
       "3  103  aniket   26  mumbai"
      ]
     },
     "execution_count": 52,
     "metadata": {},
     "output_type": "execute_result"
    }
   ],
   "source": [
    "df=pd.read_csv('D:\\DUMMY_PROJECT_REPORT\\info.csv',header=None)\n",
    "df"
   ]
  },
  {
   "cell_type": "code",
   "execution_count": 68,
   "id": "987b836d",
   "metadata": {},
   "outputs": [
    {
     "data": {
      "text/html": [
       "<div>\n",
       "<style scoped>\n",
       "    .dataframe tbody tr th:only-of-type {\n",
       "        vertical-align: middle;\n",
       "    }\n",
       "\n",
       "    .dataframe tbody tr th {\n",
       "        vertical-align: top;\n",
       "    }\n",
       "\n",
       "    .dataframe thead th {\n",
       "        text-align: right;\n",
       "    }\n",
       "</style>\n",
       "<table border=\"1\" class=\"dataframe\">\n",
       "  <thead>\n",
       "    <tr style=\"text-align: right;\">\n",
       "      <th></th>\n",
       "      <th>name</th>\n",
       "      <th>age</th>\n",
       "      <th>city</th>\n",
       "    </tr>\n",
       "    <tr>\n",
       "      <th>id</th>\n",
       "      <th></th>\n",
       "      <th></th>\n",
       "      <th></th>\n",
       "    </tr>\n",
       "  </thead>\n",
       "  <tbody>\n",
       "    <tr>\n",
       "      <th>101</th>\n",
       "      <td>ashu</td>\n",
       "      <td>25</td>\n",
       "      <td>pune</td>\n",
       "    </tr>\n",
       "    <tr>\n",
       "      <th>102</th>\n",
       "      <td>diu</td>\n",
       "      <td>20</td>\n",
       "      <td>nagpur</td>\n",
       "    </tr>\n",
       "    <tr>\n",
       "      <th>103</th>\n",
       "      <td>aniket</td>\n",
       "      <td>26</td>\n",
       "      <td>mumbai</td>\n",
       "    </tr>\n",
       "  </tbody>\n",
       "</table>\n",
       "</div>"
      ],
      "text/plain": [
       "       name  age    city\n",
       "id                      \n",
       "101    ashu   25    pune\n",
       "102     diu   20  nagpur\n",
       "103  aniket   26  mumbai"
      ]
     },
     "execution_count": 68,
     "metadata": {},
     "output_type": "execute_result"
    }
   ],
   "source": [
    "labels=[10,20,30,40]\n",
    "\n",
    "df1=pd.read_csv('D:\\DUMMY_PROJECT_REPORT\\info.csv',index_col=0)\n",
    "#df1.columns=labels\n",
    "\n",
    "df1"
   ]
  },
  {
   "cell_type": "code",
   "execution_count": null,
   "id": "a14d00ed",
   "metadata": {},
   "outputs": [],
   "source": []
  },
  {
   "cell_type": "code",
   "execution_count": 72,
   "id": "9f5cdb5f",
   "metadata": {},
   "outputs": [
    {
     "data": {
      "text/html": [
       "<div>\n",
       "<style scoped>\n",
       "    .dataframe tbody tr th:only-of-type {\n",
       "        vertical-align: middle;\n",
       "    }\n",
       "\n",
       "    .dataframe tbody tr th {\n",
       "        vertical-align: top;\n",
       "    }\n",
       "\n",
       "    .dataframe thead th {\n",
       "        text-align: right;\n",
       "    }\n",
       "</style>\n",
       "<table border=\"1\" class=\"dataframe\">\n",
       "  <thead>\n",
       "    <tr style=\"text-align: right;\">\n",
       "      <th></th>\n",
       "      <th>a</th>\n",
       "      <th>b</th>\n",
       "      <th>c</th>\n",
       "      <th>d</th>\n",
       "    </tr>\n",
       "  </thead>\n",
       "  <tbody>\n",
       "    <tr>\n",
       "      <th>0</th>\n",
       "      <td>id</td>\n",
       "      <td>name</td>\n",
       "      <td>age</td>\n",
       "      <td>city</td>\n",
       "    </tr>\n",
       "    <tr>\n",
       "      <th>1</th>\n",
       "      <td>101</td>\n",
       "      <td>ashu</td>\n",
       "      <td>25</td>\n",
       "      <td>pune</td>\n",
       "    </tr>\n",
       "    <tr>\n",
       "      <th>2</th>\n",
       "      <td>102</td>\n",
       "      <td>diu</td>\n",
       "      <td>20</td>\n",
       "      <td>nagpur</td>\n",
       "    </tr>\n",
       "    <tr>\n",
       "      <th>3</th>\n",
       "      <td>103</td>\n",
       "      <td>aniket</td>\n",
       "      <td>26</td>\n",
       "      <td>mumbai</td>\n",
       "    </tr>\n",
       "  </tbody>\n",
       "</table>\n",
       "</div>"
      ],
      "text/plain": [
       "     a       b    c       d\n",
       "0   id    name  age    city\n",
       "1  101    ashu   25    pune\n",
       "2  102     diu   20  nagpur\n",
       "3  103  aniket   26  mumbai"
      ]
     },
     "execution_count": 72,
     "metadata": {},
     "output_type": "execute_result"
    }
   ],
   "source": [
    "    # change the col names\n",
    "col=['a','b','c','d']\n",
    "df=pd.read_csv('D:\\DUMMY_PROJECT_REPORT\\info.csv',names=col)\n",
    "df\n",
    "\n",
    "#here one problem that previous header acts as 1st row"
   ]
  },
  {
   "cell_type": "code",
   "execution_count": 73,
   "id": "11a3cbbe",
   "metadata": {},
   "outputs": [
    {
     "data": {
      "text/html": [
       "<div>\n",
       "<style scoped>\n",
       "    .dataframe tbody tr th:only-of-type {\n",
       "        vertical-align: middle;\n",
       "    }\n",
       "\n",
       "    .dataframe tbody tr th {\n",
       "        vertical-align: top;\n",
       "    }\n",
       "\n",
       "    .dataframe thead th {\n",
       "        text-align: right;\n",
       "    }\n",
       "</style>\n",
       "<table border=\"1\" class=\"dataframe\">\n",
       "  <thead>\n",
       "    <tr style=\"text-align: right;\">\n",
       "      <th></th>\n",
       "      <th>a</th>\n",
       "      <th>b</th>\n",
       "      <th>c</th>\n",
       "      <th>d</th>\n",
       "    </tr>\n",
       "  </thead>\n",
       "  <tbody>\n",
       "    <tr>\n",
       "      <th>0</th>\n",
       "      <td>101</td>\n",
       "      <td>ashu</td>\n",
       "      <td>25</td>\n",
       "      <td>pune</td>\n",
       "    </tr>\n",
       "    <tr>\n",
       "      <th>1</th>\n",
       "      <td>102</td>\n",
       "      <td>diu</td>\n",
       "      <td>20</td>\n",
       "      <td>nagpur</td>\n",
       "    </tr>\n",
       "    <tr>\n",
       "      <th>2</th>\n",
       "      <td>103</td>\n",
       "      <td>aniket</td>\n",
       "      <td>26</td>\n",
       "      <td>mumbai</td>\n",
       "    </tr>\n",
       "  </tbody>\n",
       "</table>\n",
       "</div>"
      ],
      "text/plain": [
       "     a       b   c       d\n",
       "0  101    ashu  25    pune\n",
       "1  102     diu  20  nagpur\n",
       "2  103  aniket  26  mumbai"
      ]
     },
     "execution_count": 73,
     "metadata": {},
     "output_type": "execute_result"
    }
   ],
   "source": [
    "# soln 2:\n",
    "col=['a','b','c','d']\n",
    "df=pd.read_csv('D:\\DUMMY_PROJECT_REPORT\\info.csv')\n",
    "df.columns=col\n",
    "df"
   ]
  },
  {
   "cell_type": "code",
   "execution_count": 113,
   "id": "7cff2512",
   "metadata": {},
   "outputs": [
    {
     "data": {
      "text/html": [
       "<div>\n",
       "<style scoped>\n",
       "    .dataframe tbody tr th:only-of-type {\n",
       "        vertical-align: middle;\n",
       "    }\n",
       "\n",
       "    .dataframe tbody tr th {\n",
       "        vertical-align: top;\n",
       "    }\n",
       "\n",
       "    .dataframe thead th {\n",
       "        text-align: right;\n",
       "    }\n",
       "</style>\n",
       "<table border=\"1\" class=\"dataframe\">\n",
       "  <thead>\n",
       "    <tr style=\"text-align: right;\">\n",
       "      <th></th>\n",
       "      <th>Roll_no</th>\n",
       "      <th>name</th>\n",
       "      <th>age</th>\n",
       "      <th>city</th>\n",
       "    </tr>\n",
       "  </thead>\n",
       "  <tbody>\n",
       "    <tr>\n",
       "      <th>0</th>\n",
       "      <td>101</td>\n",
       "      <td>ashu</td>\n",
       "      <td>25</td>\n",
       "      <td>pune</td>\n",
       "    </tr>\n",
       "    <tr>\n",
       "      <th>1</th>\n",
       "      <td>102</td>\n",
       "      <td>diu</td>\n",
       "      <td>20</td>\n",
       "      <td>nagpur</td>\n",
       "    </tr>\n",
       "    <tr>\n",
       "      <th>2</th>\n",
       "      <td>103</td>\n",
       "      <td>aniket</td>\n",
       "      <td>26</td>\n",
       "      <td>mumbai</td>\n",
       "    </tr>\n",
       "  </tbody>\n",
       "</table>\n",
       "</div>"
      ],
      "text/plain": [
       "   Roll_no    name  age    city\n",
       "0      101    ashu   25    pune\n",
       "1      102     diu   20  nagpur\n",
       "2      103  aniket   26  mumbai"
      ]
     },
     "execution_count": 113,
     "metadata": {},
     "output_type": "execute_result"
    }
   ],
   "source": [
    "# Rename the specific column\n",
    "\n",
    "df=pd.read_csv('D:\\DUMMY_PROJECT_REPORT\\info.csv')\n",
    "df=df.rename(columns={'id':'Roll_no'})\n",
    "df"
   ]
  },
  {
   "cell_type": "code",
   "execution_count": 116,
   "id": "0d38b205",
   "metadata": {},
   "outputs": [
    {
     "data": {
      "text/html": [
       "<div>\n",
       "<style scoped>\n",
       "    .dataframe tbody tr th:only-of-type {\n",
       "        vertical-align: middle;\n",
       "    }\n",
       "\n",
       "    .dataframe tbody tr th {\n",
       "        vertical-align: top;\n",
       "    }\n",
       "\n",
       "    .dataframe thead th {\n",
       "        text-align: right;\n",
       "    }\n",
       "</style>\n",
       "<table border=\"1\" class=\"dataframe\">\n",
       "  <thead>\n",
       "    <tr style=\"text-align: right;\">\n",
       "      <th></th>\n",
       "      <th>Roll_no</th>\n",
       "      <th>name</th>\n",
       "    </tr>\n",
       "  </thead>\n",
       "  <tbody>\n",
       "    <tr>\n",
       "      <th>0</th>\n",
       "      <td>101</td>\n",
       "      <td>ashu</td>\n",
       "    </tr>\n",
       "    <tr>\n",
       "      <th>1</th>\n",
       "      <td>102</td>\n",
       "      <td>diu</td>\n",
       "    </tr>\n",
       "    <tr>\n",
       "      <th>2</th>\n",
       "      <td>103</td>\n",
       "      <td>aniket</td>\n",
       "    </tr>\n",
       "  </tbody>\n",
       "</table>\n",
       "</div>"
      ],
      "text/plain": [
       "   Roll_no    name\n",
       "0      101    ashu\n",
       "1      102     diu\n",
       "2      103  aniket"
      ]
     },
     "execution_count": 116,
     "metadata": {},
     "output_type": "execute_result"
    }
   ],
   "source": [
    "df[['Roll_no','name']]"
   ]
  },
  {
   "cell_type": "code",
   "execution_count": 117,
   "id": "09d6b3de",
   "metadata": {},
   "outputs": [
    {
     "data": {
      "text/html": [
       "<div>\n",
       "<style scoped>\n",
       "    .dataframe tbody tr th:only-of-type {\n",
       "        vertical-align: middle;\n",
       "    }\n",
       "\n",
       "    .dataframe tbody tr th {\n",
       "        vertical-align: top;\n",
       "    }\n",
       "\n",
       "    .dataframe thead th {\n",
       "        text-align: right;\n",
       "    }\n",
       "</style>\n",
       "<table border=\"1\" class=\"dataframe\">\n",
       "  <thead>\n",
       "    <tr style=\"text-align: right;\">\n",
       "      <th></th>\n",
       "      <th>0</th>\n",
       "      <th>1</th>\n",
       "      <th>2</th>\n",
       "    </tr>\n",
       "  </thead>\n",
       "  <tbody>\n",
       "    <tr>\n",
       "      <th>Roll_no</th>\n",
       "      <td>101</td>\n",
       "      <td>102</td>\n",
       "      <td>103</td>\n",
       "    </tr>\n",
       "    <tr>\n",
       "      <th>name</th>\n",
       "      <td>ashu</td>\n",
       "      <td>diu</td>\n",
       "      <td>aniket</td>\n",
       "    </tr>\n",
       "  </tbody>\n",
       "</table>\n",
       "</div>"
      ],
      "text/plain": [
       "            0    1       2\n",
       "Roll_no   101  102     103\n",
       "name     ashu  diu  aniket"
      ]
     },
     "execution_count": 117,
     "metadata": {},
     "output_type": "execute_result"
    }
   ],
   "source": [
    "df[['Roll_no','name']].T  #transpose(T) the DataFrame"
   ]
  },
  {
   "cell_type": "code",
   "execution_count": 104,
   "id": "6ab82d97",
   "metadata": {},
   "outputs": [
    {
     "data": {
      "text/plain": [
       "array([[0, 1, 2],\n",
       "       [3, 4, 5],\n",
       "       [6, 7, 8]])"
      ]
     },
     "execution_count": 104,
     "metadata": {},
     "output_type": "execute_result"
    }
   ],
   "source": [
    "arr=np.arange(9).reshape(3,3)\n",
    "arr"
   ]
  },
  {
   "cell_type": "code",
   "execution_count": 105,
   "id": "a453cc67",
   "metadata": {},
   "outputs": [
    {
     "data": {
      "text/html": [
       "<div>\n",
       "<style scoped>\n",
       "    .dataframe tbody tr th:only-of-type {\n",
       "        vertical-align: middle;\n",
       "    }\n",
       "\n",
       "    .dataframe tbody tr th {\n",
       "        vertical-align: top;\n",
       "    }\n",
       "\n",
       "    .dataframe thead th {\n",
       "        text-align: right;\n",
       "    }\n",
       "</style>\n",
       "<table border=\"1\" class=\"dataframe\">\n",
       "  <thead>\n",
       "    <tr style=\"text-align: right;\">\n",
       "      <th></th>\n",
       "      <th>a</th>\n",
       "      <th>b</th>\n",
       "      <th>c</th>\n",
       "    </tr>\n",
       "  </thead>\n",
       "  <tbody>\n",
       "    <tr>\n",
       "      <th>0</th>\n",
       "      <td>0</td>\n",
       "      <td>1</td>\n",
       "      <td>2</td>\n",
       "    </tr>\n",
       "    <tr>\n",
       "      <th>1</th>\n",
       "      <td>3</td>\n",
       "      <td>4</td>\n",
       "      <td>5</td>\n",
       "    </tr>\n",
       "    <tr>\n",
       "      <th>2</th>\n",
       "      <td>6</td>\n",
       "      <td>7</td>\n",
       "      <td>8</td>\n",
       "    </tr>\n",
       "  </tbody>\n",
       "</table>\n",
       "</div>"
      ],
      "text/plain": [
       "   a  b  c\n",
       "0  0  1  2\n",
       "1  3  4  5\n",
       "2  6  7  8"
      ]
     },
     "execution_count": 105,
     "metadata": {},
     "output_type": "execute_result"
    }
   ],
   "source": [
    "# convert ndarry into dataframe\n",
    "\n",
    "df=pd.DataFrame(arr)\n",
    "df.columns=['a','b','c']\n",
    "df"
   ]
  },
  {
   "cell_type": "code",
   "execution_count": 106,
   "id": "a840b713",
   "metadata": {},
   "outputs": [
    {
     "data": {
      "text/html": [
       "<div>\n",
       "<style scoped>\n",
       "    .dataframe tbody tr th:only-of-type {\n",
       "        vertical-align: middle;\n",
       "    }\n",
       "\n",
       "    .dataframe tbody tr th {\n",
       "        vertical-align: top;\n",
       "    }\n",
       "\n",
       "    .dataframe thead th {\n",
       "        text-align: right;\n",
       "    }\n",
       "</style>\n",
       "<table border=\"1\" class=\"dataframe\">\n",
       "  <thead>\n",
       "    <tr style=\"text-align: right;\">\n",
       "      <th></th>\n",
       "      <th>a</th>\n",
       "      <th>b</th>\n",
       "      <th>c</th>\n",
       "    </tr>\n",
       "  </thead>\n",
       "  <tbody>\n",
       "    <tr>\n",
       "      <th>0</th>\n",
       "      <td>0</td>\n",
       "      <td>1</td>\n",
       "      <td>2</td>\n",
       "    </tr>\n",
       "    <tr>\n",
       "      <th>1</th>\n",
       "      <td>3</td>\n",
       "      <td>4</td>\n",
       "      <td>5</td>\n",
       "    </tr>\n",
       "    <tr>\n",
       "      <th>2</th>\n",
       "      <td>6</td>\n",
       "      <td>7</td>\n",
       "      <td>8</td>\n",
       "    </tr>\n",
       "  </tbody>\n",
       "</table>\n",
       "</div>"
      ],
      "text/plain": [
       "   a  b  c\n",
       "0  0  1  2\n",
       "1  3  4  5\n",
       "2  6  7  8"
      ]
     },
     "execution_count": 106,
     "metadata": {},
     "output_type": "execute_result"
    }
   ],
   "source": [
    "# in loc end value is included\n",
    "df.loc[0:2]\n"
   ]
  },
  {
   "cell_type": "code",
   "execution_count": 107,
   "id": "a2351c3e",
   "metadata": {},
   "outputs": [
    {
     "data": {
      "text/html": [
       "<div>\n",
       "<style scoped>\n",
       "    .dataframe tbody tr th:only-of-type {\n",
       "        vertical-align: middle;\n",
       "    }\n",
       "\n",
       "    .dataframe tbody tr th {\n",
       "        vertical-align: top;\n",
       "    }\n",
       "\n",
       "    .dataframe thead th {\n",
       "        text-align: right;\n",
       "    }\n",
       "</style>\n",
       "<table border=\"1\" class=\"dataframe\">\n",
       "  <thead>\n",
       "    <tr style=\"text-align: right;\">\n",
       "      <th></th>\n",
       "      <th>a</th>\n",
       "      <th>b</th>\n",
       "      <th>c</th>\n",
       "    </tr>\n",
       "  </thead>\n",
       "  <tbody>\n",
       "    <tr>\n",
       "      <th>0</th>\n",
       "      <td>0</td>\n",
       "      <td>1</td>\n",
       "      <td>2</td>\n",
       "    </tr>\n",
       "    <tr>\n",
       "      <th>1</th>\n",
       "      <td>3</td>\n",
       "      <td>4</td>\n",
       "      <td>5</td>\n",
       "    </tr>\n",
       "  </tbody>\n",
       "</table>\n",
       "</div>"
      ],
      "text/plain": [
       "   a  b  c\n",
       "0  0  1  2\n",
       "1  3  4  5"
      ]
     },
     "execution_count": 107,
     "metadata": {},
     "output_type": "execute_result"
    }
   ],
   "source": [
    "# in iloc the end value is excluded\n",
    "df.iloc[0:2]\n"
   ]
  },
  {
   "cell_type": "code",
   "execution_count": 108,
   "id": "c71bc753",
   "metadata": {},
   "outputs": [
    {
     "data": {
      "text/html": [
       "<div>\n",
       "<style scoped>\n",
       "    .dataframe tbody tr th:only-of-type {\n",
       "        vertical-align: middle;\n",
       "    }\n",
       "\n",
       "    .dataframe tbody tr th {\n",
       "        vertical-align: top;\n",
       "    }\n",
       "\n",
       "    .dataframe thead th {\n",
       "        text-align: right;\n",
       "    }\n",
       "</style>\n",
       "<table border=\"1\" class=\"dataframe\">\n",
       "  <thead>\n",
       "    <tr style=\"text-align: right;\">\n",
       "      <th></th>\n",
       "      <th>a</th>\n",
       "      <th>b</th>\n",
       "      <th>c</th>\n",
       "    </tr>\n",
       "  </thead>\n",
       "  <tbody>\n",
       "    <tr>\n",
       "      <th>0</th>\n",
       "      <td>0</td>\n",
       "      <td>1</td>\n",
       "      <td>2</td>\n",
       "    </tr>\n",
       "    <tr>\n",
       "      <th>1</th>\n",
       "      <td>3</td>\n",
       "      <td>4</td>\n",
       "      <td>5</td>\n",
       "    </tr>\n",
       "  </tbody>\n",
       "</table>\n",
       "</div>"
      ],
      "text/plain": [
       "   a  b  c\n",
       "0  0  1  2\n",
       "1  3  4  5"
      ]
     },
     "execution_count": 108,
     "metadata": {},
     "output_type": "execute_result"
    }
   ],
   "source": [
    "df.loc[[0,1]]\n",
    "\n",
    "# here list use for only rows"
   ]
  },
  {
   "cell_type": "code",
   "execution_count": 109,
   "id": "5e13de17",
   "metadata": {},
   "outputs": [
    {
     "data": {
      "text/plain": [
       "1"
      ]
     },
     "execution_count": 109,
     "metadata": {},
     "output_type": "execute_result"
    }
   ],
   "source": [
    "df.loc[0,'b']\n",
    "# row is 0 and col is 'b'"
   ]
  },
  {
   "cell_type": "code",
   "execution_count": 112,
   "id": "bfe7b0ab",
   "metadata": {},
   "outputs": [
    {
     "data": {
      "text/html": [
       "<div>\n",
       "<style scoped>\n",
       "    .dataframe tbody tr th:only-of-type {\n",
       "        vertical-align: middle;\n",
       "    }\n",
       "\n",
       "    .dataframe tbody tr th {\n",
       "        vertical-align: top;\n",
       "    }\n",
       "\n",
       "    .dataframe thead th {\n",
       "        text-align: right;\n",
       "    }\n",
       "</style>\n",
       "<table border=\"1\" class=\"dataframe\">\n",
       "  <thead>\n",
       "    <tr style=\"text-align: right;\">\n",
       "      <th></th>\n",
       "      <th>a</th>\n",
       "      <th>b</th>\n",
       "      <th>c</th>\n",
       "    </tr>\n",
       "  </thead>\n",
       "  <tbody>\n",
       "    <tr>\n",
       "      <th>0</th>\n",
       "      <td>0</td>\n",
       "      <td>1</td>\n",
       "      <td>2</td>\n",
       "    </tr>\n",
       "    <tr>\n",
       "      <th>1</th>\n",
       "      <td>3</td>\n",
       "      <td>4</td>\n",
       "      <td>5</td>\n",
       "    </tr>\n",
       "    <tr>\n",
       "      <th>2</th>\n",
       "      <td>6</td>\n",
       "      <td>7</td>\n",
       "      <td>8</td>\n",
       "    </tr>\n",
       "  </tbody>\n",
       "</table>\n",
       "</div>"
      ],
      "text/plain": [
       "   a  b  c\n",
       "0  0  1  2\n",
       "1  3  4  5\n",
       "2  6  7  8"
      ]
     },
     "execution_count": 112,
     "metadata": {},
     "output_type": "execute_result"
    }
   ],
   "source": []
  },
  {
   "cell_type": "code",
   "execution_count": 120,
   "id": "db1d728d",
   "metadata": {},
   "outputs": [
    {
     "data": {
      "text/plain": [
       "pandas.core.frame.DataFrame"
      ]
     },
     "execution_count": 120,
     "metadata": {},
     "output_type": "execute_result"
    }
   ],
   "source": [
    "#Empty dataframe\n",
    "dff=pd.DataFrame()\n",
    "dff\n",
    "type(dff)"
   ]
  },
  {
   "cell_type": "code",
   "execution_count": 121,
   "id": "542eb0e4",
   "metadata": {},
   "outputs": [
    {
     "data": {
      "text/html": [
       "<div>\n",
       "<style scoped>\n",
       "    .dataframe tbody tr th:only-of-type {\n",
       "        vertical-align: middle;\n",
       "    }\n",
       "\n",
       "    .dataframe tbody tr th {\n",
       "        vertical-align: top;\n",
       "    }\n",
       "\n",
       "    .dataframe thead th {\n",
       "        text-align: right;\n",
       "    }\n",
       "</style>\n",
       "<table border=\"1\" class=\"dataframe\">\n",
       "  <thead>\n",
       "    <tr style=\"text-align: right;\">\n",
       "      <th></th>\n",
       "      <th>name</th>\n",
       "      <th>age</th>\n",
       "    </tr>\n",
       "  </thead>\n",
       "  <tbody>\n",
       "    <tr>\n",
       "      <th>0</th>\n",
       "      <td>NaN</td>\n",
       "      <td>NaN</td>\n",
       "    </tr>\n",
       "    <tr>\n",
       "      <th>1</th>\n",
       "      <td>NaN</td>\n",
       "      <td>NaN</td>\n",
       "    </tr>\n",
       "    <tr>\n",
       "      <th>2</th>\n",
       "      <td>NaN</td>\n",
       "      <td>NaN</td>\n",
       "    </tr>\n",
       "    <tr>\n",
       "      <th>3</th>\n",
       "      <td>NaN</td>\n",
       "      <td>NaN</td>\n",
       "    </tr>\n",
       "    <tr>\n",
       "      <th>4</th>\n",
       "      <td>NaN</td>\n",
       "      <td>NaN</td>\n",
       "    </tr>\n",
       "  </tbody>\n",
       "</table>\n",
       "</div>"
      ],
      "text/plain": [
       "  name  age\n",
       "0  NaN  NaN\n",
       "1  NaN  NaN\n",
       "2  NaN  NaN\n",
       "3  NaN  NaN\n",
       "4  NaN  NaN"
      ]
     },
     "execution_count": 121,
     "metadata": {},
     "output_type": "execute_result"
    }
   ],
   "source": [
    "dn=pd.DataFrame(index=range(5),columns=['name','age'])\n",
    "dn"
   ]
  },
  {
   "cell_type": "code",
   "execution_count": 122,
   "id": "cbf023a5",
   "metadata": {},
   "outputs": [],
   "source": [
    "dn['name']=['a','b','c','d','e']"
   ]
  },
  {
   "cell_type": "code",
   "execution_count": 123,
   "id": "b9b2d5e0",
   "metadata": {},
   "outputs": [
    {
     "data": {
      "text/html": [
       "<div>\n",
       "<style scoped>\n",
       "    .dataframe tbody tr th:only-of-type {\n",
       "        vertical-align: middle;\n",
       "    }\n",
       "\n",
       "    .dataframe tbody tr th {\n",
       "        vertical-align: top;\n",
       "    }\n",
       "\n",
       "    .dataframe thead th {\n",
       "        text-align: right;\n",
       "    }\n",
       "</style>\n",
       "<table border=\"1\" class=\"dataframe\">\n",
       "  <thead>\n",
       "    <tr style=\"text-align: right;\">\n",
       "      <th></th>\n",
       "      <th>name</th>\n",
       "      <th>age</th>\n",
       "    </tr>\n",
       "  </thead>\n",
       "  <tbody>\n",
       "    <tr>\n",
       "      <th>0</th>\n",
       "      <td>a</td>\n",
       "      <td>NaN</td>\n",
       "    </tr>\n",
       "    <tr>\n",
       "      <th>1</th>\n",
       "      <td>b</td>\n",
       "      <td>NaN</td>\n",
       "    </tr>\n",
       "    <tr>\n",
       "      <th>2</th>\n",
       "      <td>c</td>\n",
       "      <td>NaN</td>\n",
       "    </tr>\n",
       "    <tr>\n",
       "      <th>3</th>\n",
       "      <td>d</td>\n",
       "      <td>NaN</td>\n",
       "    </tr>\n",
       "    <tr>\n",
       "      <th>4</th>\n",
       "      <td>e</td>\n",
       "      <td>NaN</td>\n",
       "    </tr>\n",
       "  </tbody>\n",
       "</table>\n",
       "</div>"
      ],
      "text/plain": [
       "  name  age\n",
       "0    a  NaN\n",
       "1    b  NaN\n",
       "2    c  NaN\n",
       "3    d  NaN\n",
       "4    e  NaN"
      ]
     },
     "execution_count": 123,
     "metadata": {},
     "output_type": "execute_result"
    }
   ],
   "source": [
    "dn"
   ]
  },
  {
   "cell_type": "code",
   "execution_count": 128,
   "id": "68982dad",
   "metadata": {},
   "outputs": [
    {
     "data": {
      "text/plain": [
       "array([5, 6, 9, 8, 7])"
      ]
     },
     "execution_count": 128,
     "metadata": {},
     "output_type": "execute_result"
    }
   ],
   "source": [
    "#Numpy\n",
    "#array contain only single type of datatype\n",
    "\n",
    "l1=[5,6,9,8,7]\n",
    "arr=np.array(l1)\n",
    "arr\n"
   ]
  },
  {
   "cell_type": "code",
   "execution_count": 129,
   "id": "836086ea",
   "metadata": {},
   "outputs": [
    {
     "data": {
      "text/plain": [
       "numpy.ndarray"
      ]
     },
     "execution_count": 129,
     "metadata": {},
     "output_type": "execute_result"
    }
   ],
   "source": [
    "type(arr)"
   ]
  },
  {
   "cell_type": "code",
   "execution_count": 130,
   "id": "7da09eeb",
   "metadata": {},
   "outputs": [
    {
     "data": {
      "text/plain": [
       "array(['5', '6', 'A', '8', '7'], dtype='<U11')"
      ]
     },
     "execution_count": 130,
     "metadata": {},
     "output_type": "execute_result"
    }
   ],
   "source": [
    "#  if we use multiple datatypes in array then?\n",
    "\n",
    "l1=[5,6,'A',8,7]\n",
    "arr=np.array(l1)\n",
    "arr\n",
    "\n",
    "\n",
    "# It converted all array into string"
   ]
  },
  {
   "cell_type": "code",
   "execution_count": 131,
   "id": "264afd0e",
   "metadata": {},
   "outputs": [
    {
     "data": {
      "text/plain": [
       "numpy.ndarray"
      ]
     },
     "execution_count": 131,
     "metadata": {},
     "output_type": "execute_result"
    }
   ],
   "source": [
    "type(arr)"
   ]
  },
  {
   "cell_type": "code",
   "execution_count": 132,
   "id": "71d8b981",
   "metadata": {},
   "outputs": [
    {
     "data": {
      "text/plain": [
       "1"
      ]
     },
     "execution_count": 132,
     "metadata": {},
     "output_type": "execute_result"
    }
   ],
   "source": [
    "arr.ndim"
   ]
  },
  {
   "cell_type": "code",
   "execution_count": 133,
   "id": "d3b282d4",
   "metadata": {},
   "outputs": [
    {
     "data": {
      "text/plain": [
       "(5,)"
      ]
     },
     "execution_count": 133,
     "metadata": {},
     "output_type": "execute_result"
    }
   ],
   "source": [
    "arr.shape"
   ]
  },
  {
   "cell_type": "code",
   "execution_count": 136,
   "id": "c8a03b5b",
   "metadata": {},
   "outputs": [
    {
     "data": {
      "text/plain": [
       "dtype('<U11')"
      ]
     },
     "execution_count": 136,
     "metadata": {},
     "output_type": "execute_result"
    }
   ],
   "source": [
    "arr.dtype"
   ]
  },
  {
   "cell_type": "code",
   "execution_count": 137,
   "id": "30ac3363",
   "metadata": {},
   "outputs": [
    {
     "data": {
      "text/plain": [
       "5"
      ]
     },
     "execution_count": 137,
     "metadata": {},
     "output_type": "execute_result"
    }
   ],
   "source": [
    "arr.size"
   ]
  },
  {
   "cell_type": "code",
   "execution_count": 140,
   "id": "39dab00f",
   "metadata": {},
   "outputs": [
    {
     "data": {
      "text/plain": [
       "array([ 5,  6,  7,  8,  9, 10])"
      ]
     },
     "execution_count": 140,
     "metadata": {},
     "output_type": "execute_result"
    }
   ],
   "source": [
    "np.arange(5,11)\n",
    "\n",
    "#arange return array by default"
   ]
  },
  {
   "cell_type": "code",
   "execution_count": 142,
   "id": "1fefe13f",
   "metadata": {},
   "outputs": [
    {
     "data": {
      "text/plain": [
       "array([[ 5,  6,  7],\n",
       "       [ 8,  9, 10]])"
      ]
     },
     "execution_count": 142,
     "metadata": {},
     "output_type": "execute_result"
    }
   ],
   "source": [
    "arr=np.arange(5,11).reshape(2,3)\n",
    "arr"
   ]
  },
  {
   "cell_type": "code",
   "execution_count": 144,
   "id": "6ddaa91c",
   "metadata": {},
   "outputs": [
    {
     "data": {
      "text/plain": [
       "array([ 5,  7,  9, 11, 13, 15, 17, 19])"
      ]
     },
     "execution_count": 144,
     "metadata": {},
     "output_type": "execute_result"
    }
   ],
   "source": [
    "arr=np.arange(5,21,2)\n",
    "arr"
   ]
  },
  {
   "cell_type": "code",
   "execution_count": 151,
   "id": "5347d080",
   "metadata": {},
   "outputs": [
    {
     "data": {
      "text/html": [
       "<div>\n",
       "<style scoped>\n",
       "    .dataframe tbody tr th:only-of-type {\n",
       "        vertical-align: middle;\n",
       "    }\n",
       "\n",
       "    .dataframe tbody tr th {\n",
       "        vertical-align: top;\n",
       "    }\n",
       "\n",
       "    .dataframe thead th {\n",
       "        text-align: right;\n",
       "    }\n",
       "</style>\n",
       "<table border=\"1\" class=\"dataframe\">\n",
       "  <thead>\n",
       "    <tr style=\"text-align: right;\">\n",
       "      <th></th>\n",
       "      <th>age</th>\n",
       "      <th>weight</th>\n",
       "    </tr>\n",
       "  </thead>\n",
       "  <tbody>\n",
       "    <tr>\n",
       "      <th>0</th>\n",
       "      <td>25</td>\n",
       "      <td>86</td>\n",
       "    </tr>\n",
       "    <tr>\n",
       "      <th>1</th>\n",
       "      <td>63</td>\n",
       "      <td>74</td>\n",
       "    </tr>\n",
       "    <tr>\n",
       "      <th>2</th>\n",
       "      <td>87</td>\n",
       "      <td>62</td>\n",
       "    </tr>\n",
       "    <tr>\n",
       "      <th>3</th>\n",
       "      <td>96</td>\n",
       "      <td>58</td>\n",
       "    </tr>\n",
       "    <tr>\n",
       "      <th>4</th>\n",
       "      <td>45</td>\n",
       "      <td>79</td>\n",
       "    </tr>\n",
       "    <tr>\n",
       "      <th>5</th>\n",
       "      <td>25</td>\n",
       "      <td>87</td>\n",
       "    </tr>\n",
       "  </tbody>\n",
       "</table>\n",
       "</div>"
      ],
      "text/plain": [
       "   age  weight\n",
       "0   25      86\n",
       "1   63      74\n",
       "2   87      62\n",
       "3   96      58\n",
       "4   45      79\n",
       "5   25      87"
      ]
     },
     "execution_count": 151,
     "metadata": {},
     "output_type": "execute_result"
    }
   ],
   "source": [
    "age=[25,63,87,96,45,25]\n",
    "w=[89,74,85,65,95,74]\n",
    "df=pd.DataFrame(age)\n",
    "df[1]=[86,74,62,58,79,87]\n",
    "df.columns=['age','weight']\n",
    "df"
   ]
  },
  {
   "cell_type": "code",
   "execution_count": 154,
   "id": "4a43689f",
   "metadata": {},
   "outputs": [
    {
     "data": {
      "text/html": [
       "<div>\n",
       "<style scoped>\n",
       "    .dataframe tbody tr th:only-of-type {\n",
       "        vertical-align: middle;\n",
       "    }\n",
       "\n",
       "    .dataframe tbody tr th {\n",
       "        vertical-align: top;\n",
       "    }\n",
       "\n",
       "    .dataframe thead th {\n",
       "        text-align: right;\n",
       "    }\n",
       "</style>\n",
       "<table border=\"1\" class=\"dataframe\">\n",
       "  <thead>\n",
       "    <tr style=\"text-align: right;\">\n",
       "      <th></th>\n",
       "      <th>age</th>\n",
       "    </tr>\n",
       "    <tr>\n",
       "      <th>weight</th>\n",
       "      <th></th>\n",
       "    </tr>\n",
       "  </thead>\n",
       "  <tbody>\n",
       "    <tr>\n",
       "      <th>58</th>\n",
       "      <td>96</td>\n",
       "    </tr>\n",
       "    <tr>\n",
       "      <th>62</th>\n",
       "      <td>87</td>\n",
       "    </tr>\n",
       "    <tr>\n",
       "      <th>74</th>\n",
       "      <td>63</td>\n",
       "    </tr>\n",
       "    <tr>\n",
       "      <th>79</th>\n",
       "      <td>45</td>\n",
       "    </tr>\n",
       "    <tr>\n",
       "      <th>86</th>\n",
       "      <td>25</td>\n",
       "    </tr>\n",
       "    <tr>\n",
       "      <th>87</th>\n",
       "      <td>25</td>\n",
       "    </tr>\n",
       "  </tbody>\n",
       "</table>\n",
       "</div>"
      ],
      "text/plain": [
       "        age\n",
       "weight     \n",
       "58       96\n",
       "62       87\n",
       "74       63\n",
       "79       45\n",
       "86       25\n",
       "87       25"
      ]
     },
     "execution_count": 154,
     "metadata": {},
     "output_type": "execute_result"
    }
   ],
   "source": [
    "df.groupby('weight').first()"
   ]
  },
  {
   "cell_type": "code",
   "execution_count": 4,
   "id": "d244a4d3",
   "metadata": {},
   "outputs": [
    {
     "data": {
      "text/plain": [
       "'😀😆🤣'"
      ]
     },
     "execution_count": 4,
     "metadata": {},
     "output_type": "execute_result"
    }
   ],
   "source": [
    "unicode=u\"\\U0001f600\\U0001F606\\U0001F923\"\n",
    "unicode"
   ]
  },
  {
   "cell_type": "code",
   "execution_count": 1,
   "id": "402f4280",
   "metadata": {},
   "outputs": [
    {
     "name": "stdout",
     "output_type": "stream",
     "text": [
      "11\n",
      "22\n",
      "33\n",
      "44\n",
      "55\n",
      "66\n",
      "77\n",
      "88\n",
      "99\n",
      "110\n"
     ]
    }
   ],
   "source": [
    "num=11\n",
    "i=1\n",
    "\n",
    "while i<11:\n",
    "    print(num*i)\n",
    "    i=i+1\n"
   ]
  },
  {
   "cell_type": "code",
   "execution_count": 6,
   "id": "03d4fc5f",
   "metadata": {},
   "outputs": [
    {
     "name": "stdout",
     "output_type": "stream",
     "text": [
      "Enter your guess50\n",
      "guess Higher\n",
      "Enter your guess60\n",
      "guess Higher\n",
      "Enter your guess70\n",
      "guess Higher\n",
      "Enter your guess80\n",
      "Adhbhut!!\n",
      "you took 4 Attempts\n"
     ]
    }
   ],
   "source": [
    "#Game Guess Number\n",
    "\n",
    "import random\n",
    "\n",
    "jackpot=random.randint(1,100)\n",
    "guess=int(input(\"Enter your guess\"))\n",
    "count=1\n",
    "\n",
    "while guess!= jackpot:\n",
    "    if guess<jackpot:\n",
    "        print(\"guess Higher\")\n",
    "    else:\n",
    "        print(\"guess Lower\")\n",
    "    guess=int(input(\"Enter your guess\"))\n",
    "    count+=1\n",
    "\n",
    "print(\"Adhbhut!!\")\n",
    "print(\"you took\",count,\"Attempts\")"
   ]
  },
  {
   "cell_type": "code",
   "execution_count": 12,
   "id": "ec803120",
   "metadata": {},
   "outputs": [
    {
     "name": "stdout",
     "output_type": "stream",
     "text": [
      "* \n",
      "* * \n",
      "* * * \n",
      "* * * * \n",
      "* * * * * \n"
     ]
    }
   ],
   "source": [
    "for i in range(0,5):\n",
    "    for j in range(i+1):\n",
    "        print('*',end=\" \")\n",
    "    print()"
   ]
  },
  {
   "cell_type": "code",
   "execution_count": 15,
   "id": "7e1ebd17",
   "metadata": {},
   "outputs": [
    {
     "data": {
      "text/plain": [
       "[5, 4, 3, 2, 1]"
      ]
     },
     "execution_count": 15,
     "metadata": {},
     "output_type": "execute_result"
    }
   ],
   "source": [
    "l=[1,2,3,4,5]\n",
    "l[::-1]"
   ]
  },
  {
   "cell_type": "code",
   "execution_count": 16,
   "id": "0f9df53b",
   "metadata": {},
   "outputs": [
    {
     "name": "stdout",
     "output_type": "stream",
     "text": [
      "24\n"
     ]
    }
   ],
   "source": [
    "def mul(a,b):\n",
    "    return a*b\n",
    "print(mul(8,3))"
   ]
  },
  {
   "cell_type": "code",
   "execution_count": 17,
   "id": "005c7306",
   "metadata": {},
   "outputs": [
    {
     "name": "stdout",
     "output_type": "stream",
     "text": [
      "24\n"
     ]
    }
   ],
   "source": [
    "# Lambda Function\n",
    "\n",
    "a=lambda x,y:x*y\n",
    "print(a(8,3))"
   ]
  },
  {
   "cell_type": "code",
   "execution_count": 19,
   "id": "ac3fa3b3",
   "metadata": {},
   "outputs": [
    {
     "name": "stdout",
     "output_type": "stream",
     "text": [
      "Even\n"
     ]
    }
   ],
   "source": [
    "b=lambda x:\"Even\" if x%2==0 else \"Odd\"\n",
    "print(b(8))"
   ]
  },
  {
   "cell_type": "code",
   "execution_count": 21,
   "id": "55fec10f",
   "metadata": {},
   "outputs": [
    {
     "data": {
      "text/plain": [
       "[2, 4, 6, 8, 10, 12]"
      ]
     },
     "execution_count": 21,
     "metadata": {},
     "output_type": "execute_result"
    }
   ],
   "source": [
    "##map Function\n",
    "\n",
    "list(map(lambda X:X*2,[1,2,3,4,5,6]))\n"
   ]
  },
  {
   "cell_type": "code",
   "execution_count": 2,
   "id": "59d9bf93",
   "metadata": {},
   "outputs": [
    {
     "name": "stdout",
     "output_type": "stream",
     "text": [
      "Hello\n"
     ]
    }
   ],
   "source": [
    "##  Oops concept\n",
    "\n",
    "class Car:\n",
    "    def __init__(self):     #constructor\n",
    "        print(\"Hello\")\n",
    "        \n",
    "        \n",
    "a=Car()     # a is object of car class"
   ]
  },
  {
   "cell_type": "code",
   "execution_count": 15,
   "id": "6d8ad59b",
   "metadata": {},
   "outputs": [],
   "source": [
    "# In Many programmimng lang fraction Datatype is not there so,\n",
    "# create fraction Datatype Using Oops concept\n",
    "\n",
    "class Fraction:\n",
    "    def __init__(self,n,d):\n",
    "        self.numerator_val=n           # instance variable (public)\n",
    "        self.denominator_val=d\n",
    "        \n",
    "        \n",
    "    def __str__(self):\n",
    "        return 'The Fraction Conversion is {}/{}'.format(self.numerator_val,self.denominator_val)\n",
    "    \n",
    "    def fun(self):                             ## Dummy function\n",
    "        return \"hello\"\n",
    "        "
   ]
  },
  {
   "cell_type": "code",
   "execution_count": 16,
   "id": "decb2e75",
   "metadata": {},
   "outputs": [],
   "source": [
    "a=Fraction(2,3)"
   ]
  },
  {
   "cell_type": "code",
   "execution_count": 17,
   "id": "ec0436c9",
   "metadata": {},
   "outputs": [
    {
     "name": "stdout",
     "output_type": "stream",
     "text": [
      "The Fraction Conversion is 2/3\n"
     ]
    }
   ],
   "source": [
    "print(a)"
   ]
  },
  {
   "cell_type": "code",
   "execution_count": null,
   "id": "bdf1cc3b",
   "metadata": {},
   "outputs": [],
   "source": [
    "# try with press tab button you will get instance var name in intellicence\n",
    "a."
   ]
  },
  {
   "cell_type": "code",
   "execution_count": 18,
   "id": "5f10ec3c",
   "metadata": {},
   "outputs": [],
   "source": [
    "# Make instance variable private\n",
    "\n",
    "# In Many programmimng lang fraction Datatype is not there so,\n",
    "# create fraction Datatype Using Oops concept\n",
    "\n",
    "class Fraction:\n",
    "    def __init__(self,n,d):\n",
    "        self.__numerator_val=n           # instance variable (private)\n",
    "        self.__denominator_val=d\n",
    "        \n",
    "        \n",
    "    def __str__(self):\n",
    "        return 'The Fraction Conversion is {}/{}'.format(self.__numerator_val,self.__denominator_val)\n",
    "    \n",
    "    def fun(self):                             ## Dummy function\n",
    "        return \"hello\"\n",
    "        "
   ]
  },
  {
   "cell_type": "code",
   "execution_count": 19,
   "id": "f5e868b4",
   "metadata": {},
   "outputs": [],
   "source": [
    "s=Fraction(5,2)"
   ]
  },
  {
   "cell_type": "code",
   "execution_count": 20,
   "id": "b3aee8c6",
   "metadata": {},
   "outputs": [
    {
     "name": "stdout",
     "output_type": "stream",
     "text": [
      "The Fraction Conversion is 5/2\n"
     ]
    }
   ],
   "source": [
    "print(s)"
   ]
  },
  {
   "cell_type": "code",
   "execution_count": null,
   "id": "90732592",
   "metadata": {},
   "outputs": [],
   "source": [
    "# try with press tab button you will get only method  name in intellicence\n",
    "\n",
    "s."
   ]
  },
  {
   "cell_type": "code",
   "execution_count": null,
   "id": "27de7b00",
   "metadata": {},
   "outputs": [],
   "source": []
  },
  {
   "cell_type": "code",
   "execution_count": 13,
   "id": "1d339739",
   "metadata": {},
   "outputs": [
    {
     "name": "stdout",
     "output_type": "stream",
     "text": [
      "1\n",
      "2\n",
      "3\n",
      "4\n",
      "<class 'list'>\n"
     ]
    }
   ],
   "source": [
    "## Iteration--> its general term for taking each iten of something one after another.\n",
    "# if we apply loop on any list/tuple/set/dict  the fetching an item sequentially is called iteration\n",
    "\n",
    "L=[1,2,3,4]\n",
    "for i in L:\n",
    "    print(i)\n",
    "print(type(L))"
   ]
  },
  {
   "cell_type": "code",
   "execution_count": 16,
   "id": "199661fd",
   "metadata": {},
   "outputs": [
    {
     "name": "stdout",
     "output_type": "stream",
     "text": [
      "1\n",
      "2\n",
      "3\n",
      "4\n",
      "5\n",
      "['__add__', '__class__', '__class_getitem__', '__contains__', '__delattr__', '__delitem__', '__dir__', '__doc__', '__eq__', '__format__', '__ge__', '__getattribute__', '__getitem__', '__gt__', '__hash__', '__iadd__', '__imul__', '__init__', '__init_subclass__', '__iter__', '__le__', '__len__', '__lt__', '__mul__', '__ne__', '__new__', '__reduce__', '__reduce_ex__', '__repr__', '__reversed__', '__rmul__', '__setattr__', '__setitem__', '__sizeof__', '__str__', '__subclasshook__', 'append', 'clear', 'copy', 'count', 'extend', 'index', 'insert', 'pop', 'remove', 'reverse', 'sort']\n",
      "120\n",
      "<class 'list_iterator'>\n",
      "120\n"
     ]
    }
   ],
   "source": [
    "## Iterable -->  Any Object on which we can perform loop is Called Iterable\n",
    "# Iterable object have __iter__ magic function in its dir\n",
    "#Iterable stores entire elements into memory at a time hence its slow to executes and not memory efficient\n",
    "# Every the iterable are not  Iterator\n",
    "# we can convert into iterator using (iter()) function\n",
    "\n",
    "\n",
    "L=[1,2,3,4,5]\n",
    "\n",
    "#check above object is iterable?\n",
    "#1) apply loop:\n",
    "\n",
    "for i in L:\n",
    "    print(i)   #yes its iterable\n",
    "#2) using dir() check for __iter__ magic function\n",
    "print(dir(L))  # yes it has __iter__\n",
    "\n",
    "## It take entire element to store memory\n",
    "import sys\n",
    "print(sys.getsizeof(L))   #It takes 120 bytes  \n",
    "\n",
    "\n",
    "## Now Convert it into Iterator\n",
    "print(type(iter(L)))\n",
    "\n",
    "\n"
   ]
  },
  {
   "cell_type": "code",
   "execution_count": 30,
   "id": "5fe1f816",
   "metadata": {},
   "outputs": [
    {
     "name": "stdout",
     "output_type": "stream",
     "text": [
      "40000\n",
      "<class 'generator'>\n",
      "112\n"
     ]
    }
   ],
   "source": [
    "#generator  --> python generator are simple way of creating iterators\n",
    "\n",
    "def gen_itor(num):\n",
    "    yield num**2\n",
    "    \n",
    "gen=gen_itor(200)\n",
    "for i in gen:\n",
    "    print(i)\n",
    "\n",
    "print(type(gen))\n",
    "print(sys.getsizeof(gen))   ##for any digit  number size for memory will be same"
   ]
  },
  {
   "cell_type": "code",
   "execution_count": 32,
   "id": "71fb72e2",
   "metadata": {},
   "outputs": [
    {
     "name": "stdout",
     "output_type": "stream",
     "text": [
      "0\n",
      "1\n",
      "2\n",
      "3\n",
      "4\n",
      "5\n",
      "6\n",
      "7\n",
      "8\n",
      "9\n",
      "<class 'generator'>\n",
      "112\n"
     ]
    }
   ],
   "source": [
    "## Generator Expression (Like list comprehension)\n",
    "## use (---) instead of [---]\n",
    "L=(x for x in range(10))\n",
    "for i in L:\n",
    "    print(i)\n",
    "    \n",
    "\n",
    "print(type(gen))\n",
    "print(sys.getsizeof(gen))"
   ]
  },
  {
   "cell_type": "code",
   "execution_count": null,
   "id": "735512d6",
   "metadata": {},
   "outputs": [],
   "source": []
  },
  {
   "cell_type": "code",
   "execution_count": null,
   "id": "47ceb45b",
   "metadata": {},
   "outputs": [],
   "source": []
  },
  {
   "cell_type": "code",
   "execution_count": 46,
   "id": "2b0d57ed",
   "metadata": {},
   "outputs": [
    {
     "name": "stdout",
     "output_type": "stream",
     "text": [
      "Enter Ages99 21 52\n",
      "99\n"
     ]
    }
   ],
   "source": [
    "#User will input (3ages).Find the oldest one\n",
    "\n",
    "a,b,c=input(\"Enter Ages\").split()\n",
    "a=int(a)\n",
    "b=int(b)\n",
    "c=int(c)\n",
    "\n",
    "max=a\n",
    "if max<b:\n",
    "    max=b\n",
    "if max<c:\n",
    "    max=c\n",
    "print(max)\n"
   ]
  },
  {
   "cell_type": "code",
   "execution_count": 48,
   "id": "e9ebe6c8",
   "metadata": {},
   "outputs": [
    {
     "name": "stdout",
     "output_type": "stream",
     "text": [
      "Enter Temp value100\n",
      "212.0\n"
     ]
    }
   ],
   "source": [
    "#Write a program that will convert celsius value to fahrenheit\n",
    "\n",
    "temp=float(input(\"Enter Temp value\"))\n",
    "\n",
    "fahrenheit=(temp*1.8)+32\n",
    "print(fahrenheit)"
   ]
  },
  {
   "cell_type": "code",
   "execution_count": 51,
   "id": "af237086",
   "metadata": {},
   "outputs": [
    {
     "name": "stdout",
     "output_type": "stream",
     "text": [
      "Enter two numbers4 5\n",
      "Before swap 4 5\n",
      "After swap 5 4\n",
      "After swap 4 5\n"
     ]
    }
   ],
   "source": [
    "#User will input (2numbers).Write a program to swap the numbers\n",
    "\n",
    "a,b=input('Enter two numbers').split()\n",
    "a=int(a)\n",
    "b=int(b)\n",
    "print(\"Before swap\",a,b)\n",
    "\n",
    "a,b=b,a\n",
    "print(\"After swap\",a,b)\n",
    "\n",
    "# without temp var\n",
    "a=a+b\n",
    "b=a-b\n",
    "a=a-b\n",
    "print(\"After swap\",a,b)\n"
   ]
  },
  {
   "cell_type": "code",
   "execution_count": 52,
   "id": "b3240c4a",
   "metadata": {},
   "outputs": [
    {
     "name": "stdout",
     "output_type": "stream",
     "text": [
      "Enter Three Digit Num123\n",
      "6\n"
     ]
    }
   ],
   "source": [
    "#Write a program that will give you the sum of 3 digits\n",
    "\n",
    "num=input(\"Enter Three Digit Num\")\n",
    "sum=0\n",
    "\n",
    "for i in num:\n",
    "    sum+=int(i)\n",
    "print(sum)\n",
    "    "
   ]
  },
  {
   "cell_type": "code",
   "execution_count": 61,
   "id": "72e7a6a3",
   "metadata": {},
   "outputs": [
    {
     "name": "stdout",
     "output_type": "stream",
     "text": [
      "Enter Four Digit Num1234\n",
      "Reverse_num is 4321\n",
      "False\n"
     ]
    }
   ],
   "source": [
    "#Write a program that will reverse a four digit number.Also it checks whether the reverse is true.\n",
    "\n",
    "num=int(input(\"Enter Four Digit Num\"))\n",
    "l=len(str(num))\n",
    "s=\"\"\n",
    "for i in range(l):\n",
    "    rem=num%10\n",
    "    new_num=num//10\n",
    "    s=s+str(rem)\n",
    "    num=new_num\n",
    "print(\"Reverse_num is\",s)\n",
    "\n",
    "if s==num:\n",
    "    print(True)\n",
    "else:\n",
    "    print(False)\n"
   ]
  },
  {
   "cell_type": "code",
   "execution_count": 62,
   "id": "7fe6ecf3",
   "metadata": {},
   "outputs": [],
   "source": [
    "l=[1,3,5,4]\n",
    "del l[0]"
   ]
  },
  {
   "cell_type": "code",
   "execution_count": 63,
   "id": "5f48fe71",
   "metadata": {},
   "outputs": [
    {
     "data": {
      "text/plain": [
       "[3, 5, 4]"
      ]
     },
     "execution_count": 63,
     "metadata": {},
     "output_type": "execute_result"
    }
   ],
   "source": [
    "l"
   ]
  },
  {
   "cell_type": "code",
   "execution_count": 64,
   "id": "9489f9a3",
   "metadata": {},
   "outputs": [],
   "source": [
    "a=l"
   ]
  },
  {
   "cell_type": "code",
   "execution_count": 65,
   "id": "18476000",
   "metadata": {},
   "outputs": [
    {
     "data": {
      "text/plain": [
       "[3, 5, 4]"
      ]
     },
     "execution_count": 65,
     "metadata": {},
     "output_type": "execute_result"
    }
   ],
   "source": [
    "a"
   ]
  },
  {
   "cell_type": "code",
   "execution_count": 67,
   "id": "d14f26cb",
   "metadata": {},
   "outputs": [
    {
     "data": {
      "text/plain": [
       "3"
      ]
     },
     "execution_count": 67,
     "metadata": {},
     "output_type": "execute_result"
    }
   ],
   "source": [
    "a[0]"
   ]
  },
  {
   "cell_type": "code",
   "execution_count": 106,
   "id": "589c8321",
   "metadata": {},
   "outputs": [],
   "source": [
    "l=[1,2,3]\n",
    "n=[]\n",
    "new=[]\n",
    "for i in l:\n",
    "    a=l[-1]\n",
    "del l[-1]\n",
    "n.append(a)\n",
    "n.extend(l)\n",
    "new=n"
   ]
  },
  {
   "cell_type": "code",
   "execution_count": 107,
   "id": "8d34853f",
   "metadata": {},
   "outputs": [
    {
     "data": {
      "text/plain": [
       "[1, 2]"
      ]
     },
     "execution_count": 107,
     "metadata": {},
     "output_type": "execute_result"
    }
   ],
   "source": [
    "l"
   ]
  },
  {
   "cell_type": "code",
   "execution_count": 108,
   "id": "6c260df4",
   "metadata": {},
   "outputs": [
    {
     "data": {
      "text/plain": [
       "[3, 1, 2]"
      ]
     },
     "execution_count": 108,
     "metadata": {},
     "output_type": "execute_result"
    }
   ],
   "source": [
    "n"
   ]
  },
  {
   "cell_type": "code",
   "execution_count": 109,
   "id": "ca936a45",
   "metadata": {},
   "outputs": [
    {
     "data": {
      "text/plain": [
       "[3, 1, 2]"
      ]
     },
     "execution_count": 109,
     "metadata": {},
     "output_type": "execute_result"
    }
   ],
   "source": [
    "new"
   ]
  },
  {
   "cell_type": "code",
   "execution_count": 112,
   "id": "cb21ba0e",
   "metadata": {},
   "outputs": [],
   "source": [
    "n.clear()"
   ]
  },
  {
   "cell_type": "code",
   "execution_count": 113,
   "id": "b9158295",
   "metadata": {},
   "outputs": [
    {
     "data": {
      "text/plain": [
       "[]"
      ]
     },
     "execution_count": 113,
     "metadata": {},
     "output_type": "execute_result"
    }
   ],
   "source": [
    "n"
   ]
  },
  {
   "cell_type": "code",
   "execution_count": 116,
   "id": "f6c58b3c",
   "metadata": {},
   "outputs": [],
   "source": [
    "l=[1,2,3]\n",
    "s=[]\n",
    "\n",
    "last=l[-1]\n",
    "del l[-1]\n",
    "s.append(last)\n",
    "    "
   ]
  },
  {
   "cell_type": "code",
   "execution_count": 117,
   "id": "ced57d87",
   "metadata": {},
   "outputs": [
    {
     "data": {
      "text/plain": [
       "[3]"
      ]
     },
     "execution_count": 117,
     "metadata": {},
     "output_type": "execute_result"
    }
   ],
   "source": [
    "s"
   ]
  },
  {
   "cell_type": "code",
   "execution_count": 118,
   "id": "c7bf14a3",
   "metadata": {},
   "outputs": [
    {
     "data": {
      "text/plain": [
       "[1, 2]"
      ]
     },
     "execution_count": 118,
     "metadata": {},
     "output_type": "execute_result"
    }
   ],
   "source": [
    "l"
   ]
  },
  {
   "cell_type": "code",
   "execution_count": 138,
   "id": "d75196b6",
   "metadata": {},
   "outputs": [
    {
     "name": "stdout",
     "output_type": "stream",
     "text": [
      "[3, 1, 2]\n",
      "[2, 3, 1]\n"
     ]
    }
   ],
   "source": [
    "a=[1,2,3]\n",
    "k=2\n",
    "queries=[0,1,2]\n",
    "\n",
    "\n",
    "def circularArrayRotation(a, k, queries):\n",
    "    # Write your code here\n",
    "    l=[]\n",
    "    new=[]\n",
    "    for rotation in range(k):\n",
    "        last_num=a[-1]\n",
    "        del a[-1]\n",
    "        l.append(last_num)\n",
    "        l.extend(a)\n",
    "        new=l\n",
    "        a=[]\n",
    "        a.extend(new)\n",
    "        l.clear()\n",
    "        new.clear()\n",
    "        print(a)\n",
    "    \n",
    "        \n",
    "\n",
    "circularArrayRotation(a,k,queries)        "
   ]
  },
  {
   "cell_type": "code",
   "execution_count": 5,
   "id": "96368777",
   "metadata": {},
   "outputs": [
    {
     "name": "stdout",
     "output_type": "stream",
     "text": [
      "False\n",
      "False\n",
      "False\n",
      "True\n",
      "True\n"
     ]
    }
   ],
   "source": [
    "nums=[2,14,18,22,22]\n",
    "for i in nums:\n",
    "    if nums.count(i)>1:\n",
    "        print(True)\n",
    "        \n",
    "    else:\n",
    "        print(False)"
   ]
  },
  {
   "cell_type": "code",
   "execution_count": null,
   "id": "8406578f",
   "metadata": {},
   "outputs": [],
   "source": [
    "num=int(input(\"Enter a Number\")"
   ]
  },
  {
   "cell_type": "code",
   "execution_count": 3,
   "id": "62a1d8c4",
   "metadata": {},
   "outputs": [],
   "source": [
    "l=['jay','ma']\n",
    "s=''.join(l)"
   ]
  },
  {
   "cell_type": "code",
   "execution_count": 4,
   "id": "b7243423",
   "metadata": {},
   "outputs": [
    {
     "data": {
      "text/plain": [
       "'jayma'"
      ]
     },
     "execution_count": 4,
     "metadata": {},
     "output_type": "execute_result"
    }
   ],
   "source": [
    "s"
   ]
  },
  {
   "cell_type": "code",
   "execution_count": 1,
   "id": "e0a46129",
   "metadata": {},
   "outputs": [
    {
     "name": "stdout",
     "output_type": "stream",
     "text": [
      "* * * * * \n",
      "* * * * \n",
      "* * * \n",
      "* * \n",
      "* \n"
     ]
    }
   ],
   "source": [
    "for i in range(5):\n",
    "    for j in range(5-i):\n",
    "        print(\"*\",end=\" \")\n",
    "    print()"
   ]
  },
  {
   "cell_type": "code",
   "execution_count": 7,
   "id": "9725d14f",
   "metadata": {},
   "outputs": [
    {
     "name": "stdout",
     "output_type": "stream",
     "text": [
      "Enter a number8\n",
      " 8*1 is 8\n",
      " 8*2 is 16\n",
      " 8*3 is 24\n",
      " 8*4 is 32\n",
      " 8*5 is 40\n",
      " 8*6 is 48\n",
      " 8*7 is 56\n",
      " 8*8 is 64\n",
      " 8*9 is 72\n",
      " 8*10 is 80\n"
     ]
    }
   ],
   "source": [
    "no=int(input(\"Enter a number\"))\n",
    "i=1\n",
    "while i<=10:\n",
    "    print(f\" {no}*{i} is\",no*i)\n",
    "    i+=1"
   ]
  },
  {
   "cell_type": "code",
   "execution_count": null,
   "id": "c72e4f1b",
   "metadata": {},
   "outputs": [],
   "source": []
  },
  {
   "cell_type": "code",
   "execution_count": 12,
   "id": "44351615",
   "metadata": {},
   "outputs": [],
   "source": [
    "# Find random number\n",
    "import random\n",
    "\n",
    "a=random.randint(1,100)"
   ]
  },
  {
   "cell_type": "code",
   "execution_count": 13,
   "id": "db52de4b",
   "metadata": {},
   "outputs": [
    {
     "data": {
      "text/plain": [
       "91"
      ]
     },
     "execution_count": 13,
     "metadata": {},
     "output_type": "execute_result"
    }
   ],
   "source": [
    "a"
   ]
  },
  {
   "cell_type": "code",
   "execution_count": null,
   "id": "20027625",
   "metadata": {},
   "outputs": [],
   "source": [
    "rand=random.randint(1,100)\n",
    "no=int(input(\"Enter your guess number\"))\n",
    "def guess_game(num):\n",
    "    count=0\n",
    "    while num!=rand:\n",
    "        if num > rand:\n",
    "            count+=1\n",
    "            print(\"Ohno!! guess lower\")\n",
    "        else:\n",
    "            count+=1\n",
    "            print(\"Ohno!! guess higher\")\n",
    "    \n",
    "        no=int(input(\"Enter your guess number\"))\n",
    "      \n",
    "    print(f\"Correct Guess!! and attempt is{count}\")\n",
    "        \n",
    "guess_game(no)\n"
   ]
  },
  {
   "cell_type": "code",
   "execution_count": 26,
   "id": "90013c04",
   "metadata": {},
   "outputs": [
    {
     "name": "stdout",
     "output_type": "stream",
     "text": [
      "Guess the number50\n",
      "Guess higher\n",
      "Guess the number80\n",
      "Guess higher\n",
      "Guess the number90\n",
      "Guess higher\n",
      "Guess the number98\n",
      "Guess lower\n",
      "Guess the number95\n",
      "Guess lower\n",
      "Guess the number92\n",
      "Correct guess!!  and Attempt taken 6\n"
     ]
    }
   ],
   "source": [
    "\n",
    "jackpot=random.randint(1,100)\n",
    "\n",
    "guess=int(input(\"Guess the number\"))\n",
    "count=1\n",
    "\n",
    "while guess!=jackpot:\n",
    "    if guess<jackpot:\n",
    "        print(\"Guess higher\")\n",
    "    else:\n",
    "        print(\"Guess lower\")\n",
    "    \n",
    "    guess=int(input(\"Guess the number\"))\n",
    "    count+=1    \n",
    "\n",
    "\n",
    "print(\"Correct guess!!  and Attempt taken\",count)"
   ]
  },
  {
   "cell_type": "code",
   "execution_count": null,
   "id": "70915d63",
   "metadata": {},
   "outputs": [],
   "source": []
  },
  {
   "cell_type": "code",
   "execution_count": 32,
   "id": "44c194b1",
   "metadata": {},
   "outputs": [
    {
     "name": "stdout",
     "output_type": "stream",
     "text": [
      "[10, 8, 6, 4, 2, 0]\n"
     ]
    }
   ],
   "source": [
    "print(list(range(10,-1,-2)))"
   ]
  },
  {
   "cell_type": "code",
   "execution_count": 41,
   "id": "8a693a6b",
   "metadata": {},
   "outputs": [
    {
     "name": "stdout",
     "output_type": "stream",
     "text": [
      "Enter number7\n",
      "* \n",
      "* * \n",
      "* * * \n",
      "* * * * \n",
      "* * * * * \n",
      "* * * * * * \n",
      "* * * * * * * \n"
     ]
    }
   ],
   "source": [
    "num=int(input(\"Enter number\"))\n",
    "\n",
    "for i in range(num):\n",
    "    for j in range(i+1):\n",
    "        print(\"*\",end=\" \")\n",
    "    print()"
   ]
  },
  {
   "cell_type": "code",
   "execution_count": 42,
   "id": "30cc12e6",
   "metadata": {},
   "outputs": [
    {
     "name": "stdout",
     "output_type": "stream",
     "text": [
      "1\n",
      "2\n",
      "3\n",
      "4\n",
      "6\n",
      "7\n",
      "8\n",
      "9\n",
      "10\n"
     ]
    }
   ],
   "source": [
    "for i in range(1,11):\n",
    "    if i==5:\n",
    "        continue\n",
    "    print(i)"
   ]
  },
  {
   "cell_type": "code",
   "execution_count": 45,
   "id": "0843be1d",
   "metadata": {},
   "outputs": [
    {
     "data": {
      "text/plain": [
       "97"
      ]
     },
     "execution_count": 45,
     "metadata": {},
     "output_type": "execute_result"
    }
   ],
   "source": [
    "ord('a')"
   ]
  },
  {
   "cell_type": "code",
   "execution_count": 46,
   "id": "5819971d",
   "metadata": {},
   "outputs": [
    {
     "data": {
      "text/plain": [
       "24"
      ]
     },
     "execution_count": 46,
     "metadata": {},
     "output_type": "execute_result"
    }
   ],
   "source": [
    "import math\n",
    "math.factorial(4)"
   ]
  },
  {
   "cell_type": "code",
   "execution_count": 48,
   "id": "8ec6be86",
   "metadata": {},
   "outputs": [
    {
     "data": {
      "text/plain": [
       "'Tue Dec 19 16:05:53 2023'"
      ]
     },
     "execution_count": 48,
     "metadata": {},
     "output_type": "execute_result"
    }
   ],
   "source": [
    "import time\n",
    "time.ctime()"
   ]
  },
  {
   "cell_type": "code",
   "execution_count": 49,
   "id": "d6cada1d",
   "metadata": {},
   "outputs": [
    {
     "data": {
      "text/plain": [
       "'Hello How Are You'"
      ]
     },
     "execution_count": 49,
     "metadata": {},
     "output_type": "execute_result"
    }
   ],
   "source": [
    "s=\"hello how are you\"\n",
    "\n",
    "s.title()"
   ]
  },
  {
   "cell_type": "code",
   "execution_count": 60,
   "id": "83f29951",
   "metadata": {},
   "outputs": [
    {
     "data": {
      "text/plain": [
       "['hello', 'how', 'are', 'you']"
      ]
     },
     "execution_count": 60,
     "metadata": {},
     "output_type": "execute_result"
    }
   ],
   "source": [
    "l=s.split()\n",
    "l"
   ]
  },
  {
   "cell_type": "code",
   "execution_count": 61,
   "id": "ee340365",
   "metadata": {},
   "outputs": [],
   "source": [
    "n=[]\n",
    "for i in l:\n",
    "    n.append(i.capitalize())"
   ]
  },
  {
   "cell_type": "code",
   "execution_count": 66,
   "id": "740ed04a",
   "metadata": {},
   "outputs": [
    {
     "data": {
      "text/plain": [
       "'Hello How Are You'"
      ]
     },
     "execution_count": 66,
     "metadata": {},
     "output_type": "execute_result"
    }
   ],
   "source": [
    "\" \".join(n)"
   ]
  },
  {
   "cell_type": "code",
   "execution_count": null,
   "id": "e5c3f41b",
   "metadata": {},
   "outputs": [],
   "source": []
  },
  {
   "cell_type": "code",
   "execution_count": 67,
   "id": "0242afa1",
   "metadata": {},
   "outputs": [
    {
     "data": {
      "text/plain": [
       "'chaitanyalarokar'"
      ]
     },
     "execution_count": 67,
     "metadata": {},
     "output_type": "execute_result"
    }
   ],
   "source": [
    "sample=\"chaitanyalarokar@gmail.com\"\n",
    "sample[:sample.find('@')]\n"
   ]
  },
  {
   "cell_type": "code",
   "execution_count": 68,
   "id": "bdf08eac",
   "metadata": {},
   "outputs": [],
   "source": [
    "d={'name':'ashu','add':'pune','age':25}"
   ]
  },
  {
   "cell_type": "code",
   "execution_count": 69,
   "id": "1fb4808f",
   "metadata": {},
   "outputs": [
    {
     "data": {
      "text/plain": [
       "{'name': 'ashu', 'add': 'pune', 'age': 25}"
      ]
     },
     "execution_count": 69,
     "metadata": {},
     "output_type": "execute_result"
    }
   ],
   "source": [
    "d"
   ]
  },
  {
   "cell_type": "code",
   "execution_count": 70,
   "id": "218ce331",
   "metadata": {},
   "outputs": [
    {
     "name": "stdout",
     "output_type": "stream",
     "text": [
      "name\n",
      "add\n",
      "age\n"
     ]
    }
   ],
   "source": [
    "for i in d:\n",
    "    print(i)"
   ]
  },
  {
   "cell_type": "code",
   "execution_count": 72,
   "id": "141c7cc0",
   "metadata": {},
   "outputs": [
    {
     "name": "stdout",
     "output_type": "stream",
     "text": [
      "ashu\n",
      "pune\n",
      "25\n"
     ]
    }
   ],
   "source": [
    "for i in d:\n",
    "    print(d[i])"
   ]
  },
  {
   "cell_type": "code",
   "execution_count": 74,
   "id": "b8940ff9",
   "metadata": {},
   "outputs": [
    {
     "name": "stdout",
     "output_type": "stream",
     "text": [
      "name ashu\n",
      "add pune\n",
      "age 25\n"
     ]
    }
   ],
   "source": [
    "for i in d:\n",
    "    print(i,d[i])"
   ]
  },
  {
   "cell_type": "code",
   "execution_count": 75,
   "id": "307fa74b",
   "metadata": {},
   "outputs": [
    {
     "name": "stdout",
     "output_type": "stream",
     "text": [
      "name ashu\n",
      "add pune\n",
      "age 25\n"
     ]
    }
   ],
   "source": [
    "for key,value in d.items():\n",
    "    print(key,value)"
   ]
  },
  {
   "cell_type": "code",
   "execution_count": 76,
   "id": "1d5ab0b3",
   "metadata": {},
   "outputs": [],
   "source": [
    "d[\"father\"]=\"Raju\""
   ]
  },
  {
   "cell_type": "code",
   "execution_count": 77,
   "id": "23329375",
   "metadata": {},
   "outputs": [
    {
     "data": {
      "text/plain": [
       "{'name': 'ashu', 'add': 'pune', 'age': 25, 'father': 'Raju'}"
      ]
     },
     "execution_count": 77,
     "metadata": {},
     "output_type": "execute_result"
    }
   ],
   "source": [
    "d"
   ]
  },
  {
   "cell_type": "code",
   "execution_count": 78,
   "id": "7ba85d97",
   "metadata": {},
   "outputs": [],
   "source": [
    "del d['age']"
   ]
  },
  {
   "cell_type": "code",
   "execution_count": 79,
   "id": "39431ad1",
   "metadata": {},
   "outputs": [
    {
     "data": {
      "text/plain": [
       "{'name': 'ashu', 'add': 'pune', 'father': 'Raju'}"
      ]
     },
     "execution_count": 79,
     "metadata": {},
     "output_type": "execute_result"
    }
   ],
   "source": [
    "d"
   ]
  },
  {
   "cell_type": "code",
   "execution_count": 82,
   "id": "93a65656",
   "metadata": {},
   "outputs": [],
   "source": [
    "# Arbitory Arguments\n",
    "\n",
    "def flexi(*number):      #Its make list of numbers into tuples\n",
    "    product=1\n",
    "    for i in number:\n",
    "        product*=i\n",
    "    print(product)\n",
    "    \n"
   ]
  },
  {
   "cell_type": "code",
   "execution_count": 83,
   "id": "20bf71f1",
   "metadata": {},
   "outputs": [
    {
     "name": "stdout",
     "output_type": "stream",
     "text": [
      "6\n",
      "None\n"
     ]
    }
   ],
   "source": [
    "print(flexi(1,2,3))"
   ]
  },
  {
   "cell_type": "code",
   "execution_count": 85,
   "id": "372f41e8",
   "metadata": {},
   "outputs": [
    {
     "name": "stdout",
     "output_type": "stream",
     "text": [
      "Enter number4\n",
      "24\n"
     ]
    }
   ],
   "source": [
    "num=int(input(\"Enter number\"))\n",
    "\n",
    "def facto(no):\n",
    "    fact=1\n",
    "    for i in range(1,no+1):\n",
    "        fact*=i\n",
    "    print(fact)\n",
    "\n",
    "facto(num)"
   ]
  },
  {
   "cell_type": "code",
   "execution_count": 1,
   "id": "6ba4c0df",
   "metadata": {},
   "outputs": [
    {
     "name": "stdout",
     "output_type": "stream",
     "text": [
      "Enter number4\n"
     ]
    },
    {
     "data": {
      "text/plain": [
       "24"
      ]
     },
     "execution_count": 1,
     "metadata": {},
     "output_type": "execute_result"
    }
   ],
   "source": [
    "num=int(input(\"Enter number\"))\n",
    "\n",
    "def facto(no):\n",
    "    if no==1:\n",
    "        return 1\n",
    "    else:\n",
    "        return no*facto(no-1)     # 5!=5*4!\n",
    "\n",
    "facto(num)"
   ]
  },
  {
   "cell_type": "code",
   "execution_count": 14,
   "id": "cfc5a6b8",
   "metadata": {},
   "outputs": [
    {
     "name": "stdout",
     "output_type": "stream",
     "text": [
      "Enter stringdfjgfjd\n",
      "Its Pallimdrome\n",
      "Not Pallimdrome\n"
     ]
    }
   ],
   "source": [
    "s=input(\"Enter string\")\n",
    "\n",
    "s=s.lower()\n",
    "i=0\n",
    "j=len(s)-1\n",
    "\n",
    "while i<j:\n",
    "    if s[i]!=s[j]:\n",
    "        print(\"Not Pallimdrome\")\n",
    "        break\n",
    "    else:\n",
    "        i+=1\n",
    "        j-=1\n",
    "        \n",
    "        print(\"Its Pallimdrome\")\n",
    "\n",
    "        "
   ]
  },
  {
   "cell_type": "code",
   "execution_count": 19,
   "id": "93c2f1ee",
   "metadata": {},
   "outputs": [
    {
     "name": "stdout",
     "output_type": "stream",
     "text": [
      "Enter stringbaab\n",
      "It's Pallimdrome\n"
     ]
    }
   ],
   "source": [
    "st=input(\"Enter string\")\n",
    "\n",
    "def palim(text):\n",
    "    if len(text)<=1:\n",
    "        print(\"It's Pallimdrome\")\n",
    "    else:\n",
    "        if text[0]==text[-1]:\n",
    "            palim(text[1:-1])\n",
    "        else:\n",
    "            print(\"Not Pallimdrome\")\n",
    "            \n",
    "palim(st)\n"
   ]
  },
  {
   "cell_type": "code",
   "execution_count": null,
   "id": "73b27ebd",
   "metadata": {},
   "outputs": [],
   "source": []
  },
  {
   "cell_type": "code",
   "execution_count": 25,
   "id": "f2ce0389",
   "metadata": {},
   "outputs": [
    {
     "name": "stdout",
     "output_type": "stream",
     "text": [
      "233\n"
     ]
    }
   ],
   "source": [
    "def fiboo(m):\n",
    "    if m==0 or m==1:\n",
    "        return 1\n",
    "    else:\n",
    "        return fiboo(m-1)+fiboo(m-2)\n",
    "    \n",
    "print(fiboo(12))"
   ]
  },
  {
   "cell_type": "code",
   "execution_count": 33,
   "id": "65ebc4a2",
   "metadata": {},
   "outputs": [
    {
     "data": {
      "text/plain": [
       "16"
      ]
     },
     "execution_count": 33,
     "metadata": {},
     "output_type": "execute_result"
    }
   ],
   "source": [
    "#lambda function\n",
    "# it has no name (Anonymeous function)\n",
    "#it dont returns value but it returns function\n",
    "# one line function\n",
    "# not use for code reusability\n",
    "\n",
    "s=lambda a:a**2\n",
    "s(4)\n"
   ]
  },
  {
   "cell_type": "code",
   "execution_count": 34,
   "id": "62261bc9",
   "metadata": {},
   "outputs": [
    {
     "data": {
      "text/plain": [
       "30"
      ]
     },
     "execution_count": 34,
     "metadata": {},
     "output_type": "execute_result"
    }
   ],
   "source": [
    "b=lambda x,y:x*y\n",
    "b(5,6)"
   ]
  },
  {
   "cell_type": "code",
   "execution_count": 40,
   "id": "1cebc250",
   "metadata": {},
   "outputs": [
    {
     "data": {
      "text/plain": [
       "['odd', 'Even', 'odd', 'Even', 'odd', 'Even', 'odd', 'Even', 'odd', 'Even']"
      ]
     },
     "execution_count": 40,
     "metadata": {},
     "output_type": "execute_result"
    }
   ],
   "source": [
    "l=[1,2,3,4,5,6,7,8,9,10]\n",
    "\n",
    "f=list(map(lambda a:\"Even\" if a%2==0 else \"odd\",l))\n",
    "f\n"
   ]
  },
  {
   "cell_type": "code",
   "execution_count": 42,
   "id": "98f80c7d",
   "metadata": {},
   "outputs": [
    {
     "data": {
      "text/plain": [
       "[2, 4, 6, 8, 10]"
      ]
     },
     "execution_count": 42,
     "metadata": {},
     "output_type": "execute_result"
    }
   ],
   "source": [
    "l=[1,2,3,4,5,6,7,8,9,10]\n",
    "\n",
    "f=list(filter(lambda a:a%2==0 ,l))\n",
    "f\n"
   ]
  },
  {
   "cell_type": "code",
   "execution_count": null,
   "id": "9825f1aa",
   "metadata": {},
   "outputs": [],
   "source": []
  },
  {
   "cell_type": "code",
   "execution_count": null,
   "id": "91c3516f",
   "metadata": {},
   "outputs": [],
   "source": []
  },
  {
   "cell_type": "code",
   "execution_count": null,
   "id": "fd463605",
   "metadata": {},
   "outputs": [],
   "source": []
  },
  {
   "cell_type": "code",
   "execution_count": null,
   "id": "0ae3f33a",
   "metadata": {},
   "outputs": [],
   "source": []
  },
  {
   "cell_type": "code",
   "execution_count": null,
   "id": "15d25a72",
   "metadata": {},
   "outputs": [],
   "source": []
  },
  {
   "cell_type": "code",
   "execution_count": 49,
   "id": "a7a6eaa0",
   "metadata": {},
   "outputs": [
    {
     "name": "stdout",
     "output_type": "stream",
     "text": [
      "Enter first age9\n",
      "Enter second age4\n",
      "Enter third age52\n",
      "c is olddest\n"
     ]
    }
   ],
   "source": [
    "# 1 User will input (3ages).Find the oldest one\n",
    "\n",
    "a=int(input(\"Enter first age\"))\n",
    "b=int(input(\"Enter second age\"))\n",
    "c=int(input(\"Enter third age\"))\n",
    "\n",
    "if a>b and a>c:\n",
    "    print(\"a is oldest\")\n",
    "elif b>a and b>a:\n",
    "    print(\"b is oldest\")\n",
    "else:\n",
    "    print(\"c is olddest\")\n",
    "\n"
   ]
  },
  {
   "cell_type": "code",
   "execution_count": 50,
   "id": "0bb5d020",
   "metadata": {},
   "outputs": [
    {
     "name": "stdout",
     "output_type": "stream",
     "text": [
      "Enter celcius value32\n"
     ]
    },
    {
     "data": {
      "text/plain": [
       "89.6"
      ]
     },
     "execution_count": 50,
     "metadata": {},
     "output_type": "execute_result"
    }
   ],
   "source": [
    "#2. Write a program that will convert celsius value to fahrenheit\n",
    "\n",
    "def cel_to_fah(val):\n",
    "    return (val*9/5)+32\n",
    "\n",
    "no=int(input(\"Enter celcius value\"))\n",
    "cel_to_fah(no)"
   ]
  },
  {
   "cell_type": "code",
   "execution_count": 53,
   "id": "83812038",
   "metadata": {},
   "outputs": [
    {
     "name": "stdout",
     "output_type": "stream",
     "text": [
      "Enter 1st num3\n",
      "Enter 2nd num2\n",
      "Before swap a= 3 b= 2\n",
      " After Swap a= 2 b= 3\n"
     ]
    }
   ],
   "source": [
    "#3. User will input (2numbers).Write a program to swap the numbers\n",
    "\n",
    "num1=int(input(\"Enter 1st num\"))\n",
    "num2=int(input(\"Enter 2nd num\"))\n",
    "\n",
    "def swap(a,b):\n",
    "    print(\"Before swap a=\",a,\"b=\",b)\n",
    "    a=a+b\n",
    "    b=a-b\n",
    "    a=a-b\n",
    "    print(\" After Swap a=\",a,\"b=\",b)\n",
    "    \n",
    "swap(num1,num2)"
   ]
  },
  {
   "cell_type": "code",
   "execution_count": 54,
   "id": "6d6a0eda",
   "metadata": {},
   "outputs": [
    {
     "name": "stdout",
     "output_type": "stream",
     "text": [
      "Enter number321\n",
      "6\n"
     ]
    }
   ],
   "source": [
    "#4. Write a program that will give you the sum of 3 digits\n",
    "num=input(\"Enter number\")\n",
    "\n",
    "def sum(no):\n",
    "    sum=0\n",
    "    for i in no:\n",
    "        sum=sum+int(i)\n",
    "    return sum\n",
    "print(sum(num))\n",
    "        "
   ]
  },
  {
   "cell_type": "code",
   "execution_count": 58,
   "id": "14cf248d",
   "metadata": {},
   "outputs": [
    {
     "ename": "AttributeError",
     "evalue": "'str' object has no attribute 'reverse'",
     "output_type": "error",
     "traceback": [
      "\u001b[1;31m---------------------------------------------------------------------------\u001b[0m",
      "\u001b[1;31mAttributeError\u001b[0m                            Traceback (most recent call last)",
      "\u001b[1;32m~\\AppData\\Local\\Temp\\ipykernel_35468\\457672691.py\u001b[0m in \u001b[0;36m<module>\u001b[1;34m\u001b[0m\n\u001b[0;32m      1\u001b[0m \u001b[0mno\u001b[0m\u001b[1;33m=\u001b[0m\u001b[0mstr\u001b[0m\u001b[1;33m(\u001b[0m\u001b[1;36m123\u001b[0m\u001b[1;33m)\u001b[0m\u001b[1;33m\u001b[0m\u001b[1;33m\u001b[0m\u001b[0m\n\u001b[1;32m----> 2\u001b[1;33m \u001b[0mprint\u001b[0m\u001b[1;33m(\u001b[0m\u001b[0mstr\u001b[0m\u001b[1;33m(\u001b[0m\u001b[0mno\u001b[0m\u001b[1;33m)\u001b[0m\u001b[1;33m.\u001b[0m\u001b[0mreverse\u001b[0m\u001b[1;33m(\u001b[0m\u001b[1;33m)\u001b[0m\u001b[1;33m)\u001b[0m\u001b[1;33m\u001b[0m\u001b[1;33m\u001b[0m\u001b[0m\n\u001b[0m",
      "\u001b[1;31mAttributeError\u001b[0m: 'str' object has no attribute 'reverse'"
     ]
    }
   ],
   "source": [
    "no=str(123)\n",
    "print(str(no).reverse())"
   ]
  },
  {
   "cell_type": "code",
   "execution_count": null,
   "id": "3dad94b7",
   "metadata": {},
   "outputs": [],
   "source": [
    "#5.Write a program that will reverse a four digit number.Also it checks whether the reverse is true.\n",
    "\n",
    "num=input(\"Enter a number\")\n",
    "\n",
    "def reverse(no):\n",
    "    return no.reverse()"
   ]
  },
  {
   "cell_type": "code",
   "execution_count": 60,
   "id": "85a923fd",
   "metadata": {},
   "outputs": [
    {
     "data": {
      "text/plain": [
       "['__add__',\n",
       " '__class__',\n",
       " '__contains__',\n",
       " '__delattr__',\n",
       " '__dir__',\n",
       " '__doc__',\n",
       " '__eq__',\n",
       " '__format__',\n",
       " '__ge__',\n",
       " '__getattribute__',\n",
       " '__getitem__',\n",
       " '__getnewargs__',\n",
       " '__gt__',\n",
       " '__hash__',\n",
       " '__init__',\n",
       " '__init_subclass__',\n",
       " '__iter__',\n",
       " '__le__',\n",
       " '__len__',\n",
       " '__lt__',\n",
       " '__mod__',\n",
       " '__mul__',\n",
       " '__ne__',\n",
       " '__new__',\n",
       " '__reduce__',\n",
       " '__reduce_ex__',\n",
       " '__repr__',\n",
       " '__rmod__',\n",
       " '__rmul__',\n",
       " '__setattr__',\n",
       " '__sizeof__',\n",
       " '__str__',\n",
       " '__subclasshook__',\n",
       " 'capitalize',\n",
       " 'casefold',\n",
       " 'center',\n",
       " 'count',\n",
       " 'encode',\n",
       " 'endswith',\n",
       " 'expandtabs',\n",
       " 'find',\n",
       " 'format',\n",
       " 'format_map',\n",
       " 'index',\n",
       " 'isalnum',\n",
       " 'isalpha',\n",
       " 'isascii',\n",
       " 'isdecimal',\n",
       " 'isdigit',\n",
       " 'isidentifier',\n",
       " 'islower',\n",
       " 'isnumeric',\n",
       " 'isprintable',\n",
       " 'isspace',\n",
       " 'istitle',\n",
       " 'isupper',\n",
       " 'join',\n",
       " 'ljust',\n",
       " 'lower',\n",
       " 'lstrip',\n",
       " 'maketrans',\n",
       " 'partition',\n",
       " 'removeprefix',\n",
       " 'removesuffix',\n",
       " 'replace',\n",
       " 'rfind',\n",
       " 'rindex',\n",
       " 'rjust',\n",
       " 'rpartition',\n",
       " 'rsplit',\n",
       " 'rstrip',\n",
       " 'split',\n",
       " 'splitlines',\n",
       " 'startswith',\n",
       " 'strip',\n",
       " 'swapcase',\n",
       " 'title',\n",
       " 'translate',\n",
       " 'upper',\n",
       " 'zfill']"
      ]
     },
     "execution_count": 60,
     "metadata": {},
     "output_type": "execute_result"
    }
   ],
   "source": [
    "dir(str)"
   ]
  },
  {
   "cell_type": "code",
   "execution_count": 61,
   "id": "879dce22",
   "metadata": {},
   "outputs": [],
   "source": [
    "# oops concepts\n",
    "\n",
    "class atm:\n",
    "    def __init__(self):\n",
    "        print(\"Hello\")\n",
    "        \n",
    "    def menu(self):\n",
    "        pass\n",
    "    \n",
    "    "
   ]
  },
  {
   "cell_type": "code",
   "execution_count": 62,
   "id": "f6a03a0a",
   "metadata": {},
   "outputs": [
    {
     "name": "stdout",
     "output_type": "stream",
     "text": [
      "Hello\n"
     ]
    }
   ],
   "source": [
    "sbi=atm()"
   ]
  },
  {
   "cell_type": "code",
   "execution_count": 73,
   "id": "b85ea2d8",
   "metadata": {},
   "outputs": [
    {
     "name": "stdout",
     "output_type": "stream",
     "text": [
      "Even\n"
     ]
    },
    {
     "data": {
      "text/plain": [
       "<__main__.even_odd at 0x2beb505ff40>"
      ]
     },
     "execution_count": 73,
     "metadata": {},
     "output_type": "execute_result"
    }
   ],
   "source": [
    "#create class of checking even and odd\n",
    "\n",
    "class even_odd:\n",
    "    def __init__(self,num):\n",
    "        self.num=num\n",
    "        self.Even_or_Odd(num)\n",
    "        \n",
    "    def Even_or_Odd(self,num):\n",
    "        if self.num%2==0:\n",
    "            print(\"Even\")\n",
    "        else:\n",
    "            print(\"odd\")\n",
    "even_odd(2)           "
   ]
  },
  {
   "cell_type": "code",
   "execution_count": 75,
   "id": "23f1d516",
   "metadata": {},
   "outputs": [
    {
     "name": "stdout",
     "output_type": "stream",
     "text": [
      "odd\n"
     ]
    }
   ],
   "source": [
    "a=even_odd(5)"
   ]
  },
  {
   "cell_type": "code",
   "execution_count": null,
   "id": "5d5bb79a",
   "metadata": {},
   "outputs": [],
   "source": []
  },
  {
   "cell_type": "code",
   "execution_count": 130,
   "id": "d403ed52",
   "metadata": {},
   "outputs": [],
   "source": [
    "class Atm():\n",
    "    def __init__(self):\n",
    "        self.pin=0\n",
    "        self.balance=0\n",
    "        self.menu()\n",
    "        \n",
    "    def menu(self):\n",
    "        user_input=input(\"\"\" Hello! How would you like to proceed?\n",
    "                1.Enter 1 to create pin\n",
    "                2.Enter 2 for deposit\n",
    "                3.Enter 3 for withdraw\n",
    "                4.Enter 4 for check Balance\n",
    "                5.Enter 5 for Exit\n",
    "        \"\"\")\n",
    "        \n",
    "        if user_input=='1':\n",
    "            self.create_pin()\n",
    "        elif user_input=='2':\n",
    "            self.deposit()\n",
    "        elif user_input=='3':\n",
    "            self.withdraw()\n",
    "        elif user_input=='4':\n",
    "            self.check_balance()\n",
    "        else:\n",
    "            print(\"session end\")\n",
    "            \n",
    "    def create_pin(self):\n",
    "        self.pin=int(input(\"Enter your pin\"))\n",
    "        print(\"pin set sucessfully\")\n",
    "        \n",
    "    def deposit(self):\n",
    "        temp=int(input(\"Enter your pin\"))\n",
    "        \n",
    "        if temp==self.pin:\n",
    "            deposit=int(input(\"Enter deposit amount\"))\n",
    "            self.balance+=deposit\n",
    "            print(\"Deposit Sucessfully\")\n",
    "        else:\n",
    "            print(\"Invalid pin\")\n",
    "            \n",
    "    def withdraw(self):\n",
    "        temp=int(input(\"Enter your pin\"))\n",
    "        \n",
    "        if temp==self.pin:\n",
    "            withdraw=int(input(\"Enter withdraw amount\"))\n",
    "            if withdraw<=self.balance:\n",
    "                self.balance-=withdraw\n",
    "                print(\"Operation Sucessful\")\n",
    "            else:\n",
    "                print(\"Insufficient fund\")\n",
    "                \n",
    "        else:\n",
    "            print(\"Invalid pin\")\n",
    "            \n",
    "    def check_balance(self):\n",
    "        temp=int(input(\"Enter your pin\"))\n",
    "        if temp==self.pin:\n",
    "            print(self.balance)\n",
    "            \n",
    "        else:\n",
    "            print(\"Invalid pin\")\n",
    "        "
   ]
  },
  {
   "cell_type": "code",
   "execution_count": 124,
   "id": "4193a2fe",
   "metadata": {
    "scrolled": false
   },
   "outputs": [
    {
     "name": "stdout",
     "output_type": "stream",
     "text": [
      " Hello! How would you like to proceed?\n",
      "                1.Enter 1 to create pin\n",
      "                2.Enter 2 for deposit\n",
      "                3.Enter 3 for withdraw\n",
      "                4.Enter 4 for check Balance\n",
      "                5.Enter 5 for Exit\n",
      "        1\n",
      "Enter your pin5353\n",
      "pin set sucessfully\n"
     ]
    }
   ],
   "source": [
    "sbi=Atm()"
   ]
  },
  {
   "cell_type": "code",
   "execution_count": 125,
   "id": "f9815b0f",
   "metadata": {},
   "outputs": [
    {
     "name": "stdout",
     "output_type": "stream",
     "text": [
      "Enter your pin5353\n",
      "0\n"
     ]
    }
   ],
   "source": [
    "sbi.check_balance()"
   ]
  },
  {
   "cell_type": "code",
   "execution_count": 126,
   "id": "2ebbd164",
   "metadata": {},
   "outputs": [
    {
     "name": "stdout",
     "output_type": "stream",
     "text": [
      "Enter your pin5353\n",
      "Enter deposit amount50000\n",
      "Deposit Sucessfully\n"
     ]
    }
   ],
   "source": [
    "sbi.deposit()"
   ]
  },
  {
   "cell_type": "code",
   "execution_count": 127,
   "id": "5fa54f58",
   "metadata": {},
   "outputs": [
    {
     "name": "stdout",
     "output_type": "stream",
     "text": [
      "Enter your pin5353\n",
      "50000\n"
     ]
    }
   ],
   "source": [
    "sbi.check_balance()"
   ]
  },
  {
   "cell_type": "code",
   "execution_count": 128,
   "id": "66106875",
   "metadata": {},
   "outputs": [
    {
     "name": "stdout",
     "output_type": "stream",
     "text": [
      "Enter your pin5353\n",
      "Enter withdraw amount10000\n",
      "Operation Sucessful\n"
     ]
    }
   ],
   "source": [
    "sbi.withdraw()"
   ]
  },
  {
   "cell_type": "code",
   "execution_count": 129,
   "id": "303a770b",
   "metadata": {},
   "outputs": [
    {
     "name": "stdout",
     "output_type": "stream",
     "text": [
      "Enter your pin5353\n",
      "40000\n"
     ]
    }
   ],
   "source": [
    "sbi.check_balance()"
   ]
  },
  {
   "cell_type": "code",
   "execution_count": 131,
   "id": "36340be6",
   "metadata": {},
   "outputs": [
    {
     "name": "stdout",
     "output_type": "stream",
     "text": [
      " Hello! How would you like to proceed?\n",
      "                1.Enter 1 to create pin\n",
      "                2.Enter 2 for deposit\n",
      "                3.Enter 3 for withdraw\n",
      "                4.Enter 4 for check Balance\n",
      "                5.Enter 5 for Exit\n",
      "        5\n",
      "exit\n"
     ]
    }
   ],
   "source": [
    "sbi.menu()"
   ]
  },
  {
   "cell_type": "code",
   "execution_count": 132,
   "id": "2965b13e",
   "metadata": {},
   "outputs": [],
   "source": [
    "# This is user defined fraction datatype code\n",
    "\n",
    "class fraction():\n",
    "    def __init__(self,n,d):\n",
    "        self.num=n\n",
    "        self.den=d\n",
    "        \n",
    "    def __str__(self):\n",
    "        \n",
    "        \"\"\"\n",
    "            __str__ is one of the magic function.this method invoked by after __init__\n",
    "            execute.used to cocat numerator and denominator values\n",
    "        \"\"\"\n",
    "        return \"{}/{}\".format(self.num,self.den)\n",
    "    \n",
    "    \n",
    "    def __add__(self,other):\n",
    "        \n",
    "        \"\"\"\n",
    "            __add__ is also magic method of python used to adding two \n",
    "            fraction values\n",
    "        \"\"\"\n",
    "        temp_num=self.num*other.den+self.den*other.num\n",
    "        temp_den=self.den*other.den\n",
    "        \n",
    "        return \"{}/{}\".format(temp_num,temp_den)"
   ]
  },
  {
   "cell_type": "code",
   "execution_count": 137,
   "id": "4f625df8",
   "metadata": {},
   "outputs": [],
   "source": [
    "a=fraction(2,3)\n",
    "b=fraction(3,4)"
   ]
  },
  {
   "cell_type": "code",
   "execution_count": 135,
   "id": "9ebddc28",
   "metadata": {},
   "outputs": [
    {
     "name": "stdout",
     "output_type": "stream",
     "text": [
      "2/3\n"
     ]
    }
   ],
   "source": [
    "print(a)"
   ]
  },
  {
   "cell_type": "code",
   "execution_count": 138,
   "id": "2a1a5cbf",
   "metadata": {},
   "outputs": [
    {
     "name": "stdout",
     "output_type": "stream",
     "text": [
      "3/4\n"
     ]
    }
   ],
   "source": [
    "print(b)"
   ]
  },
  {
   "cell_type": "code",
   "execution_count": 140,
   "id": "acaac222",
   "metadata": {},
   "outputs": [
    {
     "name": "stdout",
     "output_type": "stream",
     "text": [
      "17/12\n"
     ]
    }
   ],
   "source": [
    "print(a+b)"
   ]
  },
  {
   "cell_type": "code",
   "execution_count": null,
   "id": "f847b715",
   "metadata": {},
   "outputs": [],
   "source": []
  }
 ],
 "metadata": {
  "kernelspec": {
   "display_name": "Python 3 (ipykernel)",
   "language": "python",
   "name": "python3"
  },
  "language_info": {
   "codemirror_mode": {
    "name": "ipython",
    "version": 3
   },
   "file_extension": ".py",
   "mimetype": "text/x-python",
   "name": "python",
   "nbconvert_exporter": "python",
   "pygments_lexer": "ipython3",
   "version": "3.9.13"
  }
 },
 "nbformat": 4,
 "nbformat_minor": 5
}
