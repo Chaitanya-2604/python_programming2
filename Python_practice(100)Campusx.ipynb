{
 "cells": [
  {
   "cell_type": "code",
   "execution_count": 3,
   "id": "f895f45d",
   "metadata": {},
   "outputs": [
    {
     "name": "stdout",
     "output_type": "stream",
     "text": [
      "Enter first age56\n",
      "Enter second age45\n",
      "Enter third age78\n",
      "c= 78\n"
     ]
    }
   ],
   "source": [
    "#1.User will input (3ages).Find the oldest one\n",
    "\n",
    "\n",
    "a=int(input(\"Enter first age\"))\n",
    "b=int(input(\"Enter second age\"))\n",
    "c=int(input(\"Enter third age\"))\n",
    "\n",
    "if a>b and a>c:\n",
    "    print(\"a=\",a)\n",
    "elif b>a and b>c:\n",
    "    print(\"b=\",b)\n",
    "else:\n",
    "    print(\"c=\",c)"
   ]
  },
  {
   "cell_type": "code",
   "execution_count": 4,
   "id": "4a8d37e2",
   "metadata": {},
   "outputs": [
    {
     "name": "stdout",
     "output_type": "stream",
     "text": [
      "Enter cel value32\n"
     ]
    },
    {
     "data": {
      "text/plain": [
       "89.6"
      ]
     },
     "execution_count": 4,
     "metadata": {},
     "output_type": "execute_result"
    }
   ],
   "source": [
    "#2.Write a program that will convert celsius value to fahrenheit\n",
    "\n",
    "def cel_to_fah(c_num):\n",
    "    return(c_num*9/5)+32\n",
    "\n",
    "no=int(input(\"Enter cel value\"))\n",
    "cel_to_fah(no)\n",
    "    "
   ]
  },
  {
   "cell_type": "code",
   "execution_count": 6,
   "id": "0766f8bb",
   "metadata": {},
   "outputs": [
    {
     "name": "stdout",
     "output_type": "stream",
     "text": [
      "Enter 1st num3\n",
      "Enter 2nd num2\n",
      "a = 2 b = 3\n"
     ]
    }
   ],
   "source": [
    "#3.User will input (2numbers).Write a program to swap the numbers\n",
    "\n",
    "def swap(a,b):\n",
    "    \n",
    "    a=a+b\n",
    "    b=a-b\n",
    "    a=a-b\n",
    "    print(\"a =\",a,\"b =\",b)\n",
    "    \n",
    "num1=int(input(\"Enter 1st num\"))\n",
    "num2=int(input(\"Enter 2nd num\"))\n",
    "\n",
    "swap(num1,num2)"
   ]
  },
  {
   "cell_type": "code",
   "execution_count": 7,
   "id": "ada36da6",
   "metadata": {},
   "outputs": [
    {
     "name": "stdout",
     "output_type": "stream",
     "text": [
      "Enter 3 digit number123\n",
      "sum of number is 6\n"
     ]
    }
   ],
   "source": [
    "#4. Write a program that will give you the sum of 3 digits\n",
    "\n",
    "num=int(input(\"Enter 3 digit number\"))\n",
    "\n",
    "def sum_digit(no):\n",
    "    sum=0\n",
    "    no1=str(no)\n",
    "    for i in no1:\n",
    "        sum=sum+int(i)\n",
    "    print(\"sum of number is\",sum)\n",
    "    \n",
    "sum_digit(num)\n",
    "        "
   ]
  },
  {
   "cell_type": "code",
   "execution_count": 17,
   "id": "89dd6812",
   "metadata": {},
   "outputs": [
    {
     "name": "stdout",
     "output_type": "stream",
     "text": [
      "Enter 3 digit number12345\n",
      "15\n"
     ]
    }
   ],
   "source": [
    "num=int(input(\"Enter 3 digit number\"))\n",
    "num_str=len(str(num))\n",
    "sum=0\n",
    "for i in range(num_str):\n",
    "    rem=num%10\n",
    "    num=num//10\n",
    "    sum=sum+rem\n",
    "print(sum)\n"
   ]
  },
  {
   "cell_type": "code",
   "execution_count": 22,
   "id": "01c11cd1",
   "metadata": {},
   "outputs": [
    {
     "data": {
      "text/plain": [
       "4321"
      ]
     },
     "execution_count": 22,
     "metadata": {},
     "output_type": "execute_result"
    }
   ],
   "source": [
    "#5. Write a program that will reverse a four digit number.Also it checks whether the reverse is true.\n",
    "\n",
    "num=1234\n",
    "s=str(num)\n",
    "num1=int(s[::-1])\n",
    "num1"
   ]
  },
  {
   "cell_type": "code",
   "execution_count": null,
   "id": "2a23ffec",
   "metadata": {},
   "outputs": [],
   "source": []
  },
  {
   "cell_type": "code",
   "execution_count": 48,
   "id": "b442f195",
   "metadata": {},
   "outputs": [
    {
     "name": "stdout",
     "output_type": "stream",
     "text": [
      "Enter a Number545\n",
      "It's Odd\n"
     ]
    }
   ],
   "source": [
    "#6. Write a program that will tell whether the number entered by the user is odd or even.\n",
    "\n",
    "class Number():\n",
    "    def __init__(self,no):\n",
    "        self.no=no\n",
    "        self.Even_odd(self.no)\n",
    "        \n",
    "        \n",
    "    def Even_odd(self,no):\n",
    "        if self.no%2==0:\n",
    "            print(\"It's Even\")\n",
    "        else:\n",
    "            print(\"It's Odd\")\n",
    "            \n",
    "            \n",
    "            \n",
    "\n",
    "num=int(input(\"Enter a Number\"))\n",
    "a=Number(num)        "
   ]
  },
  {
   "cell_type": "code",
   "execution_count": 53,
   "id": "fbe75860",
   "metadata": {},
   "outputs": [
    {
     "name": "stdout",
     "output_type": "stream",
     "text": [
      "Enter year2000\n",
      "Leap year\n"
     ]
    }
   ],
   "source": [
    "#7. Write a program that will tell whether the given year is a leap year or not.\n",
    "\n",
    "# just remember this two points\n",
    "#1. /4 and /400\n",
    "#2. /4 and !/100\n",
    "\n",
    "year=int(input(\"Enter year\"))\n",
    "\n",
    "if (year%4==0 and year%400==0) or (year%4==0 and year%100!=0):\n",
    "    print(\"Leap year\")\n",
    "    \n",
    "else:\n",
    "    print(\"Not Leap Year\")\n",
    "    \n"
   ]
  },
  {
   "cell_type": "code",
   "execution_count": 56,
   "id": "87b7442b",
   "metadata": {},
   "outputs": [
    {
     "name": "stdout",
     "output_type": "stream",
     "text": [
      "Enter year2000\n",
      "Leap year\n"
     ]
    }
   ],
   "source": [
    "#2nd way but same logic\n",
    "\n",
    "year=int(input(\"Enter year\"))\n",
    "\n",
    "if (year%4==0 and year%400==0 or year%100!=0):\n",
    "    print(\"Leap year\")\n",
    "    \n",
    "else:\n",
    "    print(\"Not Leap Year\")"
   ]
  },
  {
   "cell_type": "code",
   "execution_count": 61,
   "id": "bb32505a",
   "metadata": {},
   "outputs": [
    {
     "name": "stdout",
     "output_type": "stream",
     "text": [
      "Enter x1 value26\n",
      "Enter x2 value21\n",
      "Enter y1 value18\n",
      "Enter y2 value15\n"
     ]
    },
    {
     "data": {
      "text/plain": [
       "5"
      ]
     },
     "execution_count": 61,
     "metadata": {},
     "output_type": "execute_result"
    }
   ],
   "source": [
    "#8. Write a program to find the euclidean distance between two coordinates.\n",
    "\n",
    "import math\n",
    "\n",
    "x1=int(input(\"Enter x1 value\"))\n",
    "x2=int(input(\"Enter x2 value\"))\n",
    "y1=int(input(\"Enter y1 value\"))\n",
    "y2=int(input(\"Enter y2 value\"))\n",
    "\n",
    "Euclidean_dist=math.isqrt(((x2-x1)**2) + ((y2-y1)**2))\n",
    "Euclidean_dist"
   ]
  },
  {
   "cell_type": "code",
   "execution_count": 63,
   "id": "bb615911",
   "metadata": {},
   "outputs": [
    {
     "name": "stdout",
     "output_type": "stream",
     "text": [
      "Enter x1 value26\n",
      "Enter x2 value21\n",
      "Enter y1 value18\n",
      "Enter y2 value15\n"
     ]
    },
    {
     "data": {
      "text/plain": [
       "5.830951894845301"
      ]
     },
     "execution_count": 63,
     "metadata": {},
     "output_type": "execute_result"
    }
   ],
   "source": [
    "# 2nd way without import math pakage\n",
    "\n",
    "x1=int(input(\"Enter x1 value\"))\n",
    "x2=int(input(\"Enter x2 value\"))\n",
    "y1=int(input(\"Enter y1 value\"))\n",
    "y2=int(input(\"Enter y2 value\"))\n",
    "\n",
    "Euclidean_dist=(((x2-x1)**2) + ((y2-y1)**2))**0.5\n",
    "Euclidean_dist"
   ]
  },
  {
   "cell_type": "code",
   "execution_count": null,
   "id": "6be20532",
   "metadata": {},
   "outputs": [],
   "source": []
  },
  {
   "cell_type": "code",
   "execution_count": 67,
   "id": "a2545503",
   "metadata": {},
   "outputs": [
    {
     "name": "stdout",
     "output_type": "stream",
     "text": [
      "Enter 1st degree0\n",
      "Enter 2nd degree0\n",
      "Enter 3rd degree0\n",
      "Not Triangle\n"
     ]
    }
   ],
   "source": [
    "#9. Write a program that take a user inputr of three angles and will find out whether it can form a triangle or not.\n",
    "\n",
    "degree1=int(input(\"Enter 1st degree\"))\n",
    "degree2=int(input(\"Enter 2nd degree\"))\n",
    "degree3=int(input(\"Enter 3rd degree\"))\n",
    "\n",
    "angle=180\n",
    "if degree1+degree2+degree3 == 180 and degree1!=0 and degree2!=0 and degree3!=0:\n",
    "    print(\"It's Triangle\")\n",
    "else:\n",
    "    print(\"Not Triangle\")\n"
   ]
  },
  {
   "cell_type": "code",
   "execution_count": null,
   "id": "5e00d3db",
   "metadata": {},
   "outputs": [],
   "source": []
  },
  {
   "cell_type": "code",
   "execution_count": 75,
   "id": "4cf960cc",
   "metadata": {},
   "outputs": [
    {
     "name": "stdout",
     "output_type": "stream",
     "text": [
      "Enter cost price1000\n",
      "Enter selling price876\n",
      "Loss by 124 /- Rs & %loss is 12.4 %\n"
     ]
    }
   ],
   "source": [
    "#10. Write a program that will take user input of cost price and selling price and determines whether its a loss or a profit with %\n",
    "\n",
    "c_p=int(input(\"Enter cost price\"))\n",
    "s_p=int(input(\"Enter selling price\"))\n",
    "\n",
    "def profit_loss(cp,sp):\n",
    "    if cp>=1:\n",
    "        if sp>cp:\n",
    "            profit=sp-cp\n",
    "            per_profit=round((profit/cp)*100,2)\n",
    "            print(\"Profit by\",profit,\"/- Rs & %profit is\",per_profit,\"%\")\n",
    "\n",
    "        elif sp<cp:\n",
    "            loss=cp-sp\n",
    "            per_loss=round((loss/cp)*100,2)\n",
    "            print(\"Loss by\",loss,\"/- Rs & %loss is\",per_loss,\"%\")\n",
    "\n",
    "        elif sp==cp:\n",
    "            print(\"No profit or loss\")\n",
    "            \n",
    "    else:\n",
    "        print(\"Not Allowed!!  cost price atleast 1\")\n",
    "        \n",
    "profit_loss(c_p,s_p)\n",
    "        \n",
    "        "
   ]
  },
  {
   "cell_type": "code",
   "execution_count": 4,
   "id": "2048c842",
   "metadata": {},
   "outputs": [
    {
     "name": "stdout",
     "output_type": "stream",
     "text": [
      "Enter principle value22000\n",
      "Enter rate of intrest12\n",
      "Enter time duration1\n",
      "simple Intrest is 2640.0 and Amount is 24640.0\n"
     ]
    }
   ],
   "source": [
    "#11 Write a program to find the simple interest when the value of principle,rate of interest and time period is given.\n",
    "\n",
    "principle=int(input(\"Enter principle value\"))\n",
    "r_o_i=int(input(\"Enter rate of intrest\"))\n",
    "time=int(input(\"Enter time duration\"))\n",
    "\n",
    "\n",
    "def find_s_i(p,r,n):\n",
    "    s_i=(p*r*n)/100\n",
    "    amount=p+s_i\n",
    "    print(f\"simple Intrest is {s_i} and Amount is {amount}\")\n",
    "\n",
    "find_s_i(principle,r_o_i,time)"
   ]
  },
  {
   "cell_type": "code",
   "execution_count": 5,
   "id": "8c0e2544",
   "metadata": {},
   "outputs": [
    {
     "name": "stdout",
     "output_type": "stream",
     "text": [
      "Enter radius value12\n",
      "Enter height value20.2\n",
      "The volume of cylinder is 9133.632\n",
      "365.34528\n"
     ]
    }
   ],
   "source": [
    "#12. Write a program to find the volume of the cylinder. Also find the cost when ,when the cost of 1litre milk is 40Rs.\n",
    "\n",
    "r=float(input(\"Enter radius value\"))\n",
    "h=float(input(\"Enter height value\"))\n",
    "lit_1=40\n",
    "vol=3.14*(r**2)*h\n",
    "print(f\"The volume of cylinder is {vol}\")\n",
    "\n",
    "cost=(vol/1000)*lit_1\n",
    "print(cost)"
   ]
  },
  {
   "cell_type": "code",
   "execution_count": 37,
   "id": "283ce8d4",
   "metadata": {},
   "outputs": [
    {
     "name": "stdout",
     "output_type": "stream",
     "text": [
      "Enter number156\n",
      "yess no is /by 3\n",
      "yess no is /by 6\n"
     ]
    }
   ],
   "source": [
    "#13. Write  a program that will tell whether the given number is divisible by 3 & 6.\n",
    "\n",
    "class Div():\n",
    "    def __init__(self,no):\n",
    "        self.no=no\n",
    "        self.div_3(self.no)\n",
    "        self.div_6(self.no)\n",
    "    \n",
    "    def div_3(self,no):\n",
    "        if no>0:\n",
    "            no=str(no)\n",
    "            sum=0\n",
    "            for i in no:\n",
    "                sum+=int(i)\n",
    "            if sum%3==0:\n",
    "                print(\"yess no is /by 3\")\n",
    "                \n",
    "            else:\n",
    "                print(\"Not Divisible by 3\")\n",
    "                \n",
    "            \n",
    "        else:\n",
    "            print(\"Enter greater than 1 value\")\n",
    "            \n",
    "    def div_6(self,no):\n",
    "        if no>0:\n",
    "            if no%3==0 and no%2==0:\n",
    "                print(\"yess no is /by 6\")\n",
    "            else:\n",
    "                print(\"Not Divisible by 6\")\n",
    "            \n",
    "        else:\n",
    "            print(\"Enter greater than 1 value\")\n",
    "        \n",
    "            \n",
    "num=int(input(\"Enter number\"))            \n",
    "a=Div(num)\n"
   ]
  },
  {
   "cell_type": "code",
   "execution_count": 38,
   "id": "a24f1db7",
   "metadata": {},
   "outputs": [],
   "source": [
    "#14.https://practice.geeksforgeeks.org/problems/angle-between-hour-and-minute-hand0545/1?page=2&category[]=Mathematical&category[]=Numbers&category[]=number-theory&sortBy=submissions\n"
   ]
  },
  {
   "cell_type": "code",
   "execution_count": 39,
   "id": "e016e8c9",
   "metadata": {},
   "outputs": [],
   "source": [
    "#15.https://practice.geeksforgeeks.org/problems/overlapping-rectangles1924/1?page=3&category[]=Mathematical&category[]=Numbers&category[]=number-theory&sortBy=submissions\n"
   ]
  },
  {
   "cell_type": "code",
   "execution_count": 59,
   "id": "52669aa7",
   "metadata": {},
   "outputs": [
    {
     "name": "stdout",
     "output_type": "stream",
     "text": [
      "Enter temp value12\n",
      "Enter humd value96\n",
      "Cool and Humid\n"
     ]
    }
   ],
   "source": [
    "#16.Write a program that will determine weather when the value of temperature and humidity is provided by the user.\n",
    "\n",
    "#TEMPERATURE(C)      HUMIDITY(%)      WEATHER\n",
    "\n",
    "#     >= 30         >=90                Hot and Humid\n",
    "#     >= 30         < 90                 Hot\n",
    "#     <30           >= 90               Cool and Humid\n",
    "#     <30          <90                 Cool\n",
    "\n",
    "\n",
    "t=int(input(\"Enter temp value\"))\n",
    "h=int(input(\"Enter humd value\"))\n",
    "\n",
    "def weather(temp,humd):\n",
    "    if temp<30 and humd<90:\n",
    "        print(\"Cool\")\n",
    "    elif temp<30 and humd>=90:\n",
    "        print(\"Cool and Humid\")\n",
    "    elif temp>=30 and humd<90:\n",
    "        print(\"Hot\")\n",
    "    elif temp>=30 and humd>=90:\n",
    "        print(\"Hot and Humid\")\n",
    "        \n",
    "weather(t,h)\n",
    "\n"
   ]
  },
  {
   "cell_type": "code",
   "execution_count": 60,
   "id": "f3b35278",
   "metadata": {},
   "outputs": [
    {
     "name": "stdout",
     "output_type": "stream",
     "text": [
      "Enter three digit number123\n",
      "14\n"
     ]
    }
   ],
   "source": [
    "#17. Write a program that will take three digits from the user and add the square of each digit.\n",
    "\n",
    "no=input(\"Enter three digit number\")\n",
    "sum=0\n",
    "for i in no:\n",
    "    sum+=int(i)**2\n",
    "print(sum)"
   ]
  },
  {
   "cell_type": "code",
   "execution_count": 66,
   "id": "cf03eab4",
   "metadata": {},
   "outputs": [
    {
     "name": "stdout",
     "output_type": "stream",
     "text": [
      "Enter a number370\n",
      "It's Armstrong Number\n"
     ]
    }
   ],
   "source": [
    "#18.Write a program that will check whether the number is armstrong number or not.\n",
    "\n",
    "no=input(\"Enter a number\")\n",
    "l=len(no)\n",
    "sum=0\n",
    "\n",
    "for i in no:\n",
    "    sum+=int(i)**l\n",
    "if sum==int(no):\n",
    "    print(\"It's Armstrong Number\")\n",
    "else:\n",
    "    print(\"It's Not Armstrong Number\")"
   ]
  },
  {
   "cell_type": "code",
   "execution_count": 68,
   "id": "b946ecbd",
   "metadata": {},
   "outputs": [
    {
     "name": "stdout",
     "output_type": "stream",
     "text": [
      "Enter a number1634\n",
      "It's narcissist Number\n"
     ]
    }
   ],
   "source": [
    "#19.Write a program that will take user input of (4 digits number) and check whether the number is narcissist number or not.\n",
    "\n",
    "no=input(\"Enter a number\")\n",
    "l=len(no)\n",
    "sum=0\n",
    "\n",
    "for i in no:\n",
    "    sum+=int(i)**l\n",
    "if sum==int(no):\n",
    "    print(\"It's Narcissist Number\")\n",
    "else:\n",
    "    print(\"It's Not Narcissist Number\")"
   ]
  },
  {
   "cell_type": "code",
   "execution_count": 74,
   "id": "81651548",
   "metadata": {},
   "outputs": [
    {
     "name": "stdout",
     "output_type": "stream",
     "text": [
      "Enter the salary500000\n",
      "369000.0\n"
     ]
    }
   ],
   "source": [
    "#20.Write a program that will give you the in hand salary after deduction of HRA(10%),DA(5%),PF(3%), and tax(if salary is between 5-10 lakh–10%),(11-20lakh–20%),(20< _   – 30%)(0-1lakh print k)\n",
    "\n",
    "sal=int(input(\"Enter the salary\"))\n",
    "\n",
    "new_sal=sal-sal*0.18\n",
    "if sal>=500000 or sal<=1000000:\n",
    "    new_sal-=new_sal*0.1\n",
    "    print(new_sal)\n",
    "elif sal>=1000000 or sal<=2000000:\n",
    "    new_sal=new_sal-new_sal*0.2\n",
    "    print(new_sal) \n",
    "elif sal>=2000000:\n",
    "    new_sal=new_sal-new_sal*0.3\n",
    "    print(new_sal)\n",
    "\n"
   ]
  },
  {
   "cell_type": "code",
   "execution_count": 96,
   "id": "0409d1cf",
   "metadata": {},
   "outputs": [
    {
     "name": "stdout",
     "output_type": "stream",
     "text": [
      "Hello! How Would You Like To Proceed:\n",
      "\n",
      "            1.Conversion for cm to ft\n",
      "            2.Conversion for km to miles\n",
      "            3.Conversion for Usd to Inr\n",
      "            4.Exit\n",
      "            2\n",
      "Enter km value13\n",
      "8.0796 in miles\n"
     ]
    }
   ],
   "source": [
    "#21.Write a menu driven program - 1.cm to ft  2.kl to miles  3.usd to inr  4.exit\n",
    "\n",
    "class Conversion():\n",
    "    def __init__(self):\n",
    "        self.menu()\n",
    "        \n",
    "    def menu(self):\n",
    "        user_input=input(\"\"\"Hello! How Would You Like To Proceed:\n",
    "\n",
    "            1.Conversion for cm to ft\n",
    "            2.Conversion for km to miles\n",
    "            3.Conversion for Usd to Inr\n",
    "            4.Exit\n",
    "            \"\"\")\n",
    "        if user_input=='1':\n",
    "            self.cm_to_ft()\n",
    "        elif user_input=='2':\n",
    "            self.km_to_miles()\n",
    "        elif user_input=='3':\n",
    "            self.usd_to_inr()\n",
    "        else:\n",
    "            print(\"Session End\")\n",
    "        \n",
    "    def cm_to_ft(self):\n",
    "        cm=float(input(\"Enter cm value\"))\n",
    "        cm=round((cm/30.48),4)\n",
    "        print(cm,\"in foot\")\n",
    "        \n",
    "    \n",
    "    def km_to_miles(self):\n",
    "        km=float(input(\"Enter km value\"))\n",
    "        km=round((km/1.609),4)\n",
    "        print(km,\"in miles\")\n",
    "        \n",
    "    def usd_to_inr(self):\n",
    "        usd=float(input(\"Enter Usd currency\"))\n",
    "        usd=round((usd*80),2)\n",
    "        print(usd,\"in Inr\")\n",
    "    \n",
    "\n",
    "a=Conversion()\n",
    "\n"
   ]
  },
  {
   "cell_type": "code",
   "execution_count": null,
   "id": "b1103a8f",
   "metadata": {},
   "outputs": [],
   "source": []
  }
 ],
 "metadata": {
  "kernelspec": {
   "display_name": "Python 3 (ipykernel)",
   "language": "python",
   "name": "python3"
  },
  "language_info": {
   "codemirror_mode": {
    "name": "ipython",
    "version": 3
   },
   "file_extension": ".py",
   "mimetype": "text/x-python",
   "name": "python",
   "nbconvert_exporter": "python",
   "pygments_lexer": "ipython3",
   "version": "3.9.13"
  }
 },
 "nbformat": 4,
 "nbformat_minor": 5
}
