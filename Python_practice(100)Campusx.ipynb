{
 "cells": [
  {
   "cell_type": "code",
   "execution_count": 3,
   "id": "f895f45d",
   "metadata": {},
   "outputs": [
    {
     "name": "stdout",
     "output_type": "stream",
     "text": [
      "Enter first age56\n",
      "Enter second age45\n",
      "Enter third age78\n",
      "c= 78\n"
     ]
    }
   ],
   "source": [
    "#1.User will input (3ages).Find the oldest one\n",
    "\n",
    "\n",
    "a=int(input(\"Enter first age\"))\n",
    "b=int(input(\"Enter second age\"))\n",
    "c=int(input(\"Enter third age\"))\n",
    "\n",
    "if a>b and a>c:\n",
    "    print(\"a=\",a)\n",
    "elif b>a and b>c:\n",
    "    print(\"b=\",b)\n",
    "else:\n",
    "    print(\"c=\",c)"
   ]
  },
  {
   "cell_type": "code",
   "execution_count": 4,
   "id": "4a8d37e2",
   "metadata": {},
   "outputs": [
    {
     "name": "stdout",
     "output_type": "stream",
     "text": [
      "Enter cel value32\n"
     ]
    },
    {
     "data": {
      "text/plain": [
       "89.6"
      ]
     },
     "execution_count": 4,
     "metadata": {},
     "output_type": "execute_result"
    }
   ],
   "source": [
    "#2.Write a program that will convert celsius value to fahrenheit\n",
    "\n",
    "def cel_to_fah(c_num):\n",
    "    return(c_num*9/5)+32\n",
    "\n",
    "no=int(input(\"Enter cel value\"))\n",
    "cel_to_fah(no)\n",
    "    "
   ]
  },
  {
   "cell_type": "code",
   "execution_count": 6,
   "id": "0766f8bb",
   "metadata": {},
   "outputs": [
    {
     "name": "stdout",
     "output_type": "stream",
     "text": [
      "Enter 1st num3\n",
      "Enter 2nd num2\n",
      "a = 2 b = 3\n"
     ]
    }
   ],
   "source": [
    "#3.User will input (2numbers).Write a program to swap the numbers\n",
    "\n",
    "def swap(a,b):\n",
    "    \n",
    "    a=a+b\n",
    "    b=a-b\n",
    "    a=a-b\n",
    "    print(\"a =\",a,\"b =\",b)\n",
    "    \n",
    "num1=int(input(\"Enter 1st num\"))\n",
    "num2=int(input(\"Enter 2nd num\"))\n",
    "\n",
    "swap(num1,num2)"
   ]
  },
  {
   "cell_type": "code",
   "execution_count": 7,
   "id": "ada36da6",
   "metadata": {},
   "outputs": [
    {
     "name": "stdout",
     "output_type": "stream",
     "text": [
      "Enter 3 digit number123\n",
      "sum of number is 6\n"
     ]
    }
   ],
   "source": [
    "#4. Write a program that will give you the sum of 3 digits\n",
    "\n",
    "num=int(input(\"Enter 3 digit number\"))\n",
    "\n",
    "def sum_digit(no):\n",
    "    sum=0\n",
    "    no1=str(no)\n",
    "    for i in no1:\n",
    "        sum=sum+int(i)\n",
    "    print(\"sum of number is\",sum)\n",
    "    \n",
    "sum_digit(num)\n",
    "        "
   ]
  },
  {
   "cell_type": "code",
   "execution_count": 17,
   "id": "89dd6812",
   "metadata": {},
   "outputs": [
    {
     "name": "stdout",
     "output_type": "stream",
     "text": [
      "Enter 3 digit number12345\n",
      "15\n"
     ]
    }
   ],
   "source": [
    "num=int(input(\"Enter 3 digit number\"))\n",
    "num_str=len(str(num))\n",
    "sum=0\n",
    "for i in range(num_str):\n",
    "    rem=num%10\n",
    "    num=num//10\n",
    "    sum=sum+rem\n",
    "print(sum)\n"
   ]
  },
  {
   "cell_type": "code",
   "execution_count": 22,
   "id": "01c11cd1",
   "metadata": {},
   "outputs": [
    {
     "data": {
      "text/plain": [
       "4321"
      ]
     },
     "execution_count": 22,
     "metadata": {},
     "output_type": "execute_result"
    }
   ],
   "source": [
    "#5. Write a program that will reverse a four digit number.Also it checks whether the reverse is true.\n",
    "\n",
    "num=1234\n",
    "s=str(num)\n",
    "num1=int(s[::-1])\n",
    "num1"
   ]
  },
  {
   "cell_type": "code",
   "execution_count": null,
   "id": "2a23ffec",
   "metadata": {},
   "outputs": [],
   "source": []
  },
  {
   "cell_type": "code",
   "execution_count": 48,
   "id": "b442f195",
   "metadata": {},
   "outputs": [
    {
     "name": "stdout",
     "output_type": "stream",
     "text": [
      "Enter a Number545\n",
      "It's Odd\n"
     ]
    }
   ],
   "source": [
    "#6. Write a program that will tell whether the number entered by the user is odd or even.\n",
    "\n",
    "class Number():\n",
    "    def __init__(self,no):\n",
    "        self.no=no\n",
    "        self.Even_odd(self.no)\n",
    "        \n",
    "        \n",
    "    def Even_odd(self,no):\n",
    "        if self.no%2==0:\n",
    "            print(\"It's Even\")\n",
    "        else:\n",
    "            print(\"It's Odd\")\n",
    "            \n",
    "            \n",
    "            \n",
    "\n",
    "num=int(input(\"Enter a Number\"))\n",
    "a=Number(num)        "
   ]
  },
  {
   "cell_type": "code",
   "execution_count": 53,
   "id": "fbe75860",
   "metadata": {},
   "outputs": [
    {
     "name": "stdout",
     "output_type": "stream",
     "text": [
      "Enter year2000\n",
      "Leap year\n"
     ]
    }
   ],
   "source": [
    "#7. Write a program that will tell whether the given year is a leap year or not.\n",
    "\n",
    "# just remember this two points\n",
    "#1. /4 and /400\n",
    "#2. /4 and !/100\n",
    "\n",
    "year=int(input(\"Enter year\"))\n",
    "\n",
    "if (year%4==0 and year%400==0) or (year%4==0 and year%100!=0):\n",
    "    print(\"Leap year\")\n",
    "    \n",
    "else:\n",
    "    print(\"Not Leap Year\")\n",
    "    \n"
   ]
  },
  {
   "cell_type": "code",
   "execution_count": 56,
   "id": "87b7442b",
   "metadata": {},
   "outputs": [
    {
     "name": "stdout",
     "output_type": "stream",
     "text": [
      "Enter year2000\n",
      "Leap year\n"
     ]
    }
   ],
   "source": [
    "#2nd way but same logic\n",
    "\n",
    "year=int(input(\"Enter year\"))\n",
    "\n",
    "if (year%4==0 and year%400==0 or year%100!=0):\n",
    "    print(\"Leap year\")\n",
    "    \n",
    "else:\n",
    "    print(\"Not Leap Year\")"
   ]
  },
  {
   "cell_type": "code",
   "execution_count": 61,
   "id": "bb32505a",
   "metadata": {},
   "outputs": [
    {
     "name": "stdout",
     "output_type": "stream",
     "text": [
      "Enter x1 value26\n",
      "Enter x2 value21\n",
      "Enter y1 value18\n",
      "Enter y2 value15\n"
     ]
    },
    {
     "data": {
      "text/plain": [
       "5"
      ]
     },
     "execution_count": 61,
     "metadata": {},
     "output_type": "execute_result"
    }
   ],
   "source": [
    "#8. Write a program to find the euclidean distance between two coordinates.\n",
    "\n",
    "import math\n",
    "\n",
    "x1=int(input(\"Enter x1 value\"))\n",
    "x2=int(input(\"Enter x2 value\"))\n",
    "y1=int(input(\"Enter y1 value\"))\n",
    "y2=int(input(\"Enter y2 value\"))\n",
    "\n",
    "Euclidean_dist=math.isqrt(((x2-x1)**2) + ((y2-y1)**2))\n",
    "Euclidean_dist"
   ]
  },
  {
   "cell_type": "code",
   "execution_count": 63,
   "id": "bb615911",
   "metadata": {},
   "outputs": [
    {
     "name": "stdout",
     "output_type": "stream",
     "text": [
      "Enter x1 value26\n",
      "Enter x2 value21\n",
      "Enter y1 value18\n",
      "Enter y2 value15\n"
     ]
    },
    {
     "data": {
      "text/plain": [
       "5.830951894845301"
      ]
     },
     "execution_count": 63,
     "metadata": {},
     "output_type": "execute_result"
    }
   ],
   "source": [
    "# 2nd way without import math pakage\n",
    "\n",
    "x1=int(input(\"Enter x1 value\"))\n",
    "x2=int(input(\"Enter x2 value\"))\n",
    "y1=int(input(\"Enter y1 value\"))\n",
    "y2=int(input(\"Enter y2 value\"))\n",
    "\n",
    "Euclidean_dist=(((x2-x1)**2) + ((y2-y1)**2))**0.5\n",
    "Euclidean_dist"
   ]
  },
  {
   "cell_type": "code",
   "execution_count": null,
   "id": "6be20532",
   "metadata": {},
   "outputs": [],
   "source": []
  },
  {
   "cell_type": "code",
   "execution_count": 67,
   "id": "a2545503",
   "metadata": {},
   "outputs": [
    {
     "name": "stdout",
     "output_type": "stream",
     "text": [
      "Enter 1st degree0\n",
      "Enter 2nd degree0\n",
      "Enter 3rd degree0\n",
      "Not Triangle\n"
     ]
    }
   ],
   "source": [
    "#9. Write a program that take a user inputr of three angles and will find out whether it can form a triangle or not.\n",
    "\n",
    "degree1=int(input(\"Enter 1st degree\"))\n",
    "degree2=int(input(\"Enter 2nd degree\"))\n",
    "degree3=int(input(\"Enter 3rd degree\"))\n",
    "\n",
    "angle=180\n",
    "if degree1+degree2+degree3 == 180 and degree1!=0 and degree2!=0 and degree3!=0:\n",
    "    print(\"It's Triangle\")\n",
    "else:\n",
    "    print(\"Not Triangle\")\n"
   ]
  },
  {
   "cell_type": "code",
   "execution_count": null,
   "id": "5e00d3db",
   "metadata": {},
   "outputs": [],
   "source": []
  },
  {
   "cell_type": "code",
   "execution_count": 75,
   "id": "4cf960cc",
   "metadata": {},
   "outputs": [
    {
     "name": "stdout",
     "output_type": "stream",
     "text": [
      "Enter cost price1000\n",
      "Enter selling price876\n",
      "Loss by 124 /- Rs & %loss is 12.4 %\n"
     ]
    }
   ],
   "source": [
    "#10. Write a program that will take user input of cost price and selling price and determines whether its a loss or a profit with %\n",
    "\n",
    "c_p=int(input(\"Enter cost price\"))\n",
    "s_p=int(input(\"Enter selling price\"))\n",
    "\n",
    "def profit_loss(cp,sp):\n",
    "    if cp>=1:\n",
    "        if sp>cp:\n",
    "            profit=sp-cp\n",
    "            per_profit=round((profit/cp)*100,2)\n",
    "            print(\"Profit by\",profit,\"/- Rs & %profit is\",per_profit,\"%\")\n",
    "\n",
    "        elif sp<cp:\n",
    "            loss=cp-sp\n",
    "            per_loss=round((loss/cp)*100,2)\n",
    "            print(\"Loss by\",loss,\"/- Rs & %loss is\",per_loss,\"%\")\n",
    "\n",
    "        elif sp==cp:\n",
    "            print(\"No profit or loss\")\n",
    "            \n",
    "    else:\n",
    "        print(\"Not Allowed!!  cost price atleast 1\")\n",
    "        \n",
    "profit_loss(c_p,s_p)\n",
    "        \n",
    "        "
   ]
  },
  {
   "cell_type": "code",
   "execution_count": 4,
   "id": "2048c842",
   "metadata": {},
   "outputs": [
    {
     "name": "stdout",
     "output_type": "stream",
     "text": [
      "Enter principle value22000\n",
      "Enter rate of intrest12\n",
      "Enter time duration1\n",
      "simple Intrest is 2640.0 and Amount is 24640.0\n"
     ]
    }
   ],
   "source": [
    "#11 Write a program to find the simple interest when the value of principle,rate of interest and time period is given.\n",
    "\n",
    "principle=int(input(\"Enter principle value\"))\n",
    "r_o_i=int(input(\"Enter rate of intrest\"))\n",
    "time=int(input(\"Enter time duration\"))\n",
    "\n",
    "\n",
    "def find_s_i(p,r,n):\n",
    "    s_i=(p*r*n)/100\n",
    "    amount=p+s_i\n",
    "    print(f\"simple Intrest is {s_i} and Amount is {amount}\")\n",
    "\n",
    "find_s_i(principle,r_o_i,time)"
   ]
  },
  {
   "cell_type": "code",
   "execution_count": 5,
   "id": "8d7ad3ec",
   "metadata": {},
   "outputs": [
    {
     "name": "stdout",
     "output_type": "stream",
     "text": [
      "Enter radius value12\n",
      "Enter height value20.2\n",
      "The volume of cylinder is 9133.632\n",
      "365.34528\n"
     ]
    }
   ],
   "source": [
    "#12. Write a program to find the volume of the cylinder. Also find the cost when ,when the cost of 1litre milk is 40Rs.\n",
    "\n",
    "r=float(input(\"Enter radius value\"))\n",
    "h=float(input(\"Enter height value\"))\n",
    "lit_1=40\n",
    "vol=3.14*(r**2)*h\n",
    "print(f\"The volume of cylinder is {vol}\")\n",
    "\n",
    "cost=(vol/1000)*lit_1\n",
    "print(cost)"
   ]
  },
  {
   "cell_type": "code",
   "execution_count": 37,
   "id": "2a5dce71",
   "metadata": {},
   "outputs": [
    {
     "name": "stdout",
     "output_type": "stream",
     "text": [
      "Enter number156\n",
      "yess no is /by 3\n",
      "yess no is /by 6\n"
     ]
    }
   ],
   "source": [
    "#13. Write  a program that will tell whether the given number is divisible by 3 & 6.\n",
    "\n",
    "class Div():\n",
    "    def __init__(self,no):\n",
    "        self.no=no\n",
    "        self.div_3(self.no)\n",
    "        self.div_6(self.no)\n",
    "    \n",
    "    def div_3(self,no):\n",
    "        if no>0:\n",
    "            no=str(no)\n",
    "            sum=0\n",
    "            for i in no:\n",
    "                sum+=int(i)\n",
    "            if sum%3==0:\n",
    "                print(\"yess no is /by 3\")\n",
    "                \n",
    "            else:\n",
    "                print(\"Not Divisible by 3\")\n",
    "                \n",
    "            \n",
    "        else:\n",
    "            print(\"Enter greater than 1 value\")\n",
    "            \n",
    "    def div_6(self,no):\n",
    "        if no>0:\n",
    "            if no%3==0 and no%2==0:\n",
    "                print(\"yess no is /by 6\")\n",
    "            else:\n",
    "                print(\"Not Divisible by 6\")\n",
    "            \n",
    "        else:\n",
    "            print(\"Enter greater than 1 value\")\n",
    "        \n",
    "            \n",
    "num=int(input(\"Enter number\"))            \n",
    "a=Div(num)\n"
   ]
  },
  {
   "cell_type": "code",
   "execution_count": 38,
   "id": "7fa5dc99",
   "metadata": {},
   "outputs": [],
   "source": [
    "#14.https://practice.geeksforgeeks.org/problems/angle-between-hour-and-minute-hand0545/1?page=2&category[]=Mathematical&category[]=Numbers&category[]=number-theory&sortBy=submissions\n"
   ]
  },
  {
   "cell_type": "code",
   "execution_count": 39,
   "id": "40710c0a",
   "metadata": {},
   "outputs": [],
   "source": [
    "#15.https://practice.geeksforgeeks.org/problems/overlapping-rectangles1924/1?page=3&category[]=Mathematical&category[]=Numbers&category[]=number-theory&sortBy=submissions\n"
   ]
  },
  {
   "cell_type": "code",
   "execution_count": 59,
   "id": "b38ce2ec",
   "metadata": {},
   "outputs": [
    {
     "name": "stdout",
     "output_type": "stream",
     "text": [
      "Enter temp value12\n",
      "Enter humd value96\n",
      "Cool and Humid\n"
     ]
    }
   ],
   "source": [
    "#16.Write a program that will determine weather when the value of temperature and humidity is provided by the user.\n",
    "\n",
    "#TEMPERATURE(C)      HUMIDITY(%)      WEATHER\n",
    "\n",
    "#     >= 30         >=90                Hot and Humid\n",
    "#     >= 30         < 90                 Hot\n",
    "#     <30           >= 90               Cool and Humid\n",
    "#     <30          <90                 Cool\n",
    "\n",
    "\n",
    "t=int(input(\"Enter temp value\"))\n",
    "h=int(input(\"Enter humd value\"))\n",
    "\n",
    "def weather(temp,humd):\n",
    "    if temp<30 and humd<90:\n",
    "        print(\"Cool\")\n",
    "    elif temp<30 and humd>=90:\n",
    "        print(\"Cool and Humid\")\n",
    "    elif temp>=30 and humd<90:\n",
    "        print(\"Hot\")\n",
    "    elif temp>=30 and humd>=90:\n",
    "        print(\"Hot and Humid\")\n",
    "        \n",
    "weather(t,h)\n",
    "\n"
   ]
  },
  {
   "cell_type": "code",
   "execution_count": 60,
   "id": "647d8710",
   "metadata": {},
   "outputs": [
    {
     "name": "stdout",
     "output_type": "stream",
     "text": [
      "Enter three digit number123\n",
      "14\n"
     ]
    }
   ],
   "source": [
    "#17. Write a program that will take three digits from the user and add the square of each digit.\n",
    "\n",
    "no=input(\"Enter three digit number\")\n",
    "sum=0\n",
    "for i in no:\n",
    "    sum+=int(i)**2\n",
    "print(sum)"
   ]
  },
  {
   "cell_type": "code",
   "execution_count": 66,
   "id": "190f08da",
   "metadata": {},
   "outputs": [
    {
     "name": "stdout",
     "output_type": "stream",
     "text": [
      "Enter a number370\n",
      "It's Armstrong Number\n"
     ]
    }
   ],
   "source": [
    "#18.Write a program that will check whether the number is armstrong number or not.\n",
    "\n",
    "no=input(\"Enter a number\")\n",
    "l=len(no)\n",
    "sum=0\n",
    "\n",
    "for i in no:\n",
    "    sum+=int(i)**l\n",
    "if sum==int(no):\n",
    "    print(\"It's Armstrong Number\")\n",
    "else:\n",
    "    print(\"It's Not Armstrong Number\")"
   ]
  },
  {
   "cell_type": "code",
   "execution_count": 68,
   "id": "73b9544d",
   "metadata": {},
   "outputs": [
    {
     "name": "stdout",
     "output_type": "stream",
     "text": [
      "Enter a number1634\n",
      "It's narcissist Number\n"
     ]
    }
   ],
   "source": [
    "#19.Write a program that will take user input of (4 digits number) and check whether the number is narcissist number or not.\n",
    "\n",
    "no=input(\"Enter a number\")\n",
    "l=len(no)\n",
    "sum=0\n",
    "\n",
    "for i in no:\n",
    "    sum+=int(i)**l\n",
    "if sum==int(no):\n",
    "    print(\"It's Narcissist Number\")\n",
    "else:\n",
    "    print(\"It's Not Narcissist Number\")"
   ]
  },
  {
   "cell_type": "code",
   "execution_count": 74,
   "id": "baaadae7",
   "metadata": {},
   "outputs": [
    {
     "name": "stdout",
     "output_type": "stream",
     "text": [
      "Enter the salary500000\n",
      "369000.0\n"
     ]
    }
   ],
   "source": [
    "#20.Write a program that will give you the in hand salary after deduction of HRA(10%),DA(5%),PF(3%), and tax(if salary is between 5-10 lakh–10%),(11-20lakh–20%),(20< _   – 30%)(0-1lakh print k)\n",
    "\n",
    "sal=int(input(\"Enter the salary\"))\n",
    "\n",
    "new_sal=sal-sal*0.18\n",
    "if sal>=500000 or sal<=1000000:\n",
    "    new_sal-=new_sal*0.1\n",
    "    print(new_sal)\n",
    "elif sal>=1000000 or sal<=2000000:\n",
    "    new_sal=new_sal-new_sal*0.2\n",
    "    print(new_sal) \n",
    "elif sal>=2000000:\n",
    "    new_sal=new_sal-new_sal*0.3\n",
    "    print(new_sal)\n",
    "\n"
   ]
  },
  {
   "cell_type": "code",
   "execution_count": 96,
   "id": "ac7c5ea8",
   "metadata": {},
   "outputs": [
    {
     "name": "stdout",
     "output_type": "stream",
     "text": [
      "Hello! How Would You Like To Proceed:\n",
      "\n",
      "            1.Conversion for cm to ft\n",
      "            2.Conversion for km to miles\n",
      "            3.Conversion for Usd to Inr\n",
      "            4.Exit\n",
      "            2\n",
      "Enter km value13\n",
      "8.0796 in miles\n"
     ]
    }
   ],
   "source": [
    "#21.Write a menu driven program - 1.cm to ft  2.kl to miles  3.usd to inr  4.exit\n",
    "\n",
    "class Conversion():\n",
    "    def __init__(self):\n",
    "        self.menu()\n",
    "        \n",
    "    def menu(self):\n",
    "        user_input=input(\"\"\"Hello! How Would You Like To Proceed:\n",
    "\n",
    "            1.Conversion for cm to ft\n",
    "            2.Conversion for km to miles\n",
    "            3.Conversion for Usd to Inr\n",
    "            4.Exit\n",
    "            \"\"\")\n",
    "        if user_input=='1':\n",
    "            self.cm_to_ft()\n",
    "        elif user_input=='2':\n",
    "            self.km_to_miles()\n",
    "        elif user_input=='3':\n",
    "            self.usd_to_inr()\n",
    "        else:\n",
    "            print(\"Session End\")\n",
    "        \n",
    "    def cm_to_ft(self):\n",
    "        cm=float(input(\"Enter cm value\"))\n",
    "        cm=round((cm/30.48),4)\n",
    "        print(cm,\"in foot\")\n",
    "        \n",
    "    \n",
    "    def km_to_miles(self):\n",
    "        km=float(input(\"Enter km value\"))\n",
    "        km=round((km/1.609),4)\n",
    "        print(km,\"in miles\")\n",
    "        \n",
    "    def usd_to_inr(self):\n",
    "        usd=float(input(\"Enter Usd currency\"))\n",
    "        usd=round((usd*80),2)\n",
    "        print(usd,\"in Inr\")\n",
    "    \n",
    "\n",
    "a=Conversion()\n",
    "\n"
   ]
  },
  {
   "cell_type": "code",
   "execution_count": 102,
   "id": "a4276d59",
   "metadata": {},
   "outputs": [
    {
     "name": "stdout",
     "output_type": "stream",
     "text": [
      "Enter Total Heads35\n",
      "Enter Total Legs110\n",
      "Number of Dogs are 20\n",
      "Number of Chickens are 15\n"
     ]
    }
   ],
   "source": [
    "#22.Write a program that will tell the number of dogs and chicken are there when the user will provide the value of total heads and legs.\n",
    "\n",
    "Total_head=int(input(\"Enter Total Heads\"))\n",
    "Total_legs=int(input(\"Enter Total Legs\"))\n",
    "\n",
    "def Find_no_Animal(t_h,t_l):\n",
    "    h_dogs=round((t_l-(t_h*2))/2)\n",
    "    h_chiken=Total_head-h_dogs\n",
    "    print(\"Number of Dogs are\",h_dogs)\n",
    "    print(\"Number of Chickens are\",h_chiken)\n",
    "    \n",
    "Find_no_Animal(Total_head,Total_legs)"
   ]
  },
  {
   "cell_type": "code",
   "execution_count": 103,
   "id": "d5fb5dd7",
   "metadata": {},
   "outputs": [
    {
     "name": "stdout",
     "output_type": "stream",
     "text": [
      "Enter a value3\n",
      "Enter b value5\n",
      "Before Swapping values a=3 and b=5\n",
      "After Swapping values a=5 and b=3\n"
     ]
    }
   ],
   "source": [
    "#23.Write a program that will swap numbers\n",
    "\n",
    "a=int(input(\"Enter a value\"))\n",
    "b=int(input(\"Enter b value\"))\n",
    "\n",
    "print(f\"Before Swapping values a={a} and b={b}\")\n",
    "a=a+b\n",
    "b=a-b\n",
    "a=a-b\n",
    "print(f\"After Swapping values a={a} and b={b}\")\n",
    "\n"
   ]
  },
  {
   "cell_type": "code",
   "execution_count": 105,
   "id": "4bfcf46e",
   "metadata": {},
   "outputs": [
    {
     "name": "stdout",
     "output_type": "stream",
     "text": [
      "Enter the nth number8\n",
      "The Sum of first 8 number is 36\n"
     ]
    }
   ],
   "source": [
    "#24.Write a program to find the sum of first n numbers, where n will be provided by the user. Eg if the user provides n=10 the output should be 55.\n",
    "\n",
    "n=int(input(\"Enter the nth number\"))\n",
    "sum=0\n",
    "for i in range(n+1):\n",
    "    sum+=i\n",
    "print(f\"The Sum of first {n} number is\",sum)"
   ]
  },
  {
   "cell_type": "code",
   "execution_count": 115,
   "id": "499a052c",
   "metadata": {},
   "outputs": [
    {
     "name": "stdout",
     "output_type": "stream",
     "text": [
      "Enter 1st number5\n",
      "Enter 2nd number6\n",
      "Multiplication of 5 and 6 is 30\n"
     ]
    }
   ],
   "source": [
    "#25.Write a program that can multiply 2 numbers provided by the user without using the * operator\n",
    "\n",
    "num1=int(input(\"Enter 1st number\"))\n",
    "num2=int(input(\"Enter 2nd number\"))\n",
    "sum=0\n",
    "for i in range(num2):\n",
    "    sum+=num1\n",
    "print(f\"Multiplication of {num1} and {num2} is\",sum)\n"
   ]
  },
  {
   "cell_type": "code",
   "execution_count": 129,
   "id": "12e29f9b",
   "metadata": {},
   "outputs": [
    {
     "name": "stdout",
     "output_type": "stream",
     "text": [
      "120\n"
     ]
    }
   ],
   "source": [
    "#26. Write a program that can find the factorial of a given number provided by the user.\n",
    "\n",
    "def facto(no):\n",
    "    if no==0 or no==1:\n",
    "        return 1\n",
    "    elif no>=2:\n",
    "        return no * facto(no-1)\n",
    "\n",
    "print(facto(5))\n"
   ]
  },
  {
   "cell_type": "code",
   "execution_count": 134,
   "id": "1fa48941",
   "metadata": {},
   "outputs": [
    {
     "name": "stdout",
     "output_type": "stream",
     "text": [
      "[1, 3, 5, 7, 9, 11, 13, 15, 17, 19, 21, 23, 25, 27, 29, 31, 33, 35, 37, 39, 41, 43, 45, 47, 49]"
     ]
    }
   ],
   "source": [
    "#27. Write a program to print the first 25 odd numbers\n",
    "\n",
    "l=[x for x in range(50) if x%2==1]\n",
    "print(l,end=\"\")"
   ]
  },
  {
   "cell_type": "code",
   "execution_count": 139,
   "id": "d23524c2",
   "metadata": {},
   "outputs": [
    {
     "name": "stdout",
     "output_type": "stream",
     "text": [
      "Enter a Number1\n",
      "Enter valid Number\n"
     ]
    }
   ],
   "source": [
    "#28. Write a program to print whether a given number is prime number or not\n",
    "\n",
    "num=int(input(\"Enter a Number\"))\n",
    "\n",
    "def check_prime(no):\n",
    "    count=0\n",
    "    if no>1:\n",
    "        for i in range(1,no+1):\n",
    "            if no%i==0:\n",
    "                count+=1\n",
    "        if count==2:\n",
    "            print(f\"yes {no} is Prime Number\")\n",
    "        else:\n",
    "            print(f\"{no} is Not Prime Number\")\n",
    "    else:\n",
    "        print(\"Enter valid Number\")\n",
    "check_prime(num)\n",
    "        "
   ]
  },
  {
   "cell_type": "code",
   "execution_count": 151,
   "id": "e0f811d4",
   "metadata": {},
   "outputs": [
    {
     "data": {
      "text/plain": [
       "[153, 370, 371, 407]"
      ]
     },
     "execution_count": 151,
     "metadata": {},
     "output_type": "execute_result"
    }
   ],
   "source": [
    "#29.Print all the armstrong numbers in the range of 100 to 1000\n",
    "\n",
    "def Armstrong(no):\n",
    "    num1=str(no)\n",
    "    l=len(num1)\n",
    "    total=0\n",
    "    for i in num1:\n",
    "        total+=int(i)**l\n",
    "    return total==no\n",
    "        \n",
    "\n",
    "a=list(filter(Armstrong,range(100,1001)))\n",
    "a"
   ]
  },
  {
   "cell_type": "code",
   "execution_count": 157,
   "id": "0089ace4",
   "metadata": {},
   "outputs": [
    {
     "name": "stdout",
     "output_type": "stream",
     "text": [
      "10 th year population= 10000\n",
      "9 th year population= 9000\n",
      "8 th year population= 8100\n",
      "7 th year population= 7290\n",
      "6 th year population= 6561\n",
      "5 th year population= 5905\n",
      "4 th year population= 5314\n",
      "3 th year population= 4783\n",
      "2 th year population= 4305\n",
      "1 th year population= 3874\n"
     ]
    }
   ],
   "source": [
    "#30.The current population of a town is 10000. The population of the town is increasing at the rate of 10% per year. You have to write a program to find out the population at the end of each of the last 10 years. For eg current population is 10000 so the output should be like this:\n",
    "# 10th year - 10000\n",
    "# 9th year - 9000\n",
    "# 8th year - 8100 and so on\n",
    "\n",
    "curr_pop=10000\n",
    "print(f\"10 th year population=\",10000)\n",
    "for i in range(9,0,-1):\n",
    "    new_pop=curr_pop-(curr_pop*0.1)\n",
    "    print(f\"{i} th year population=\",round(new_pop))\n",
    "    curr_pop=new_pop"
   ]
  },
  {
   "cell_type": "code",
   "execution_count": 163,
   "id": "5636167a",
   "metadata": {},
   "outputs": [
    {
     "name": "stdout",
     "output_type": "stream",
     "text": [
      "1 2 3 1\n",
      "1 2 3 4\n",
      "1 2 4 1\n",
      "1 2 4 3\n",
      "1 3 2 1\n",
      "1 3 2 4\n",
      "1 3 4 1\n",
      "1 3 4 2\n",
      "1 4 2 1\n",
      "1 4 2 3\n",
      "1 4 3 1\n",
      "1 4 3 2\n",
      "2 1 3 2\n",
      "2 1 3 4\n",
      "2 1 4 2\n",
      "2 1 4 3\n",
      "2 3 1 2\n",
      "2 3 1 4\n",
      "2 3 4 1\n",
      "2 3 4 2\n",
      "2 4 1 2\n",
      "2 4 1 3\n",
      "2 4 3 1\n",
      "2 4 3 2\n",
      "3 1 2 3\n",
      "3 1 2 4\n",
      "3 1 4 2\n",
      "3 1 4 3\n",
      "3 2 1 3\n",
      "3 2 1 4\n",
      "3 2 4 1\n",
      "3 2 4 3\n",
      "3 4 1 2\n",
      "3 4 1 3\n",
      "3 4 2 1\n",
      "3 4 2 3\n",
      "4 1 2 3\n",
      "4 1 2 4\n",
      "4 1 3 2\n",
      "4 1 3 4\n",
      "4 2 1 3\n",
      "4 2 1 4\n",
      "4 2 3 1\n",
      "4 2 3 4\n",
      "4 3 1 2\n",
      "4 3 1 4\n",
      "4 3 2 1\n",
      "4 3 2 4\n"
     ]
    }
   ],
   "source": [
    "#31. Write a program to print all the unique combinations of 1,2,3 and 4\n",
    "\n",
    "\n",
    "def combination(X):\n",
    "     for i in range(4):\n",
    "        for j in range(4):\n",
    "               for k in range(4):\n",
    "                    for l in range(4):\n",
    "                         if (i !=j and j !=k and k !=l and j != l and i != k):\n",
    "                              print(X[i],X[j],X[k],X[l])\n",
    "\n",
    "combination([1,2,3,4])"
   ]
  },
  {
   "cell_type": "code",
   "execution_count": 167,
   "id": "95349219",
   "metadata": {},
   "outputs": [
    {
     "name": "stdout",
     "output_type": "stream",
     "text": [
      "Enter 1st Number29\n",
      "Enter 2nd Number145\n",
      "29\n"
     ]
    }
   ],
   "source": [
    "#32.User will provide 2 numbers you have to find the HCF of those 2 numbers\n",
    "\n",
    "a=int(input(\"Enter 1st Number\"))\n",
    "b=int(input(\"Enter 2nd Number\"))\n",
    "\n",
    "l=[]\n",
    "for i in range(1,b+1):\n",
    "    if a%i==0 and b%i==0:\n",
    "        l.append(i)\n",
    "print(max(l))\n",
    "    "
   ]
  },
  {
   "cell_type": "code",
   "execution_count": 179,
   "id": "5a72620e",
   "metadata": {},
   "outputs": [
    {
     "name": "stdout",
     "output_type": "stream",
     "text": [
      "Enter 1st Number25\n",
      "Enter 2nd Number100\n",
      "100\n"
     ]
    }
   ],
   "source": [
    "#33. User will provide 2 numbers you have to find the by LCM of those 2 numbers\n",
    "\n",
    "a=int(input(\"Enter 1st Number\"))\n",
    "b=int(input(\"Enter 2nd Number\"))\n",
    "greater=b\n",
    "while(True):\n",
    "    if greater%a==0 and greater%b==0:\n",
    "        print(greater)\n",
    "        break\n",
    "    greater+=1"
   ]
  },
  {
   "cell_type": "code",
   "execution_count": 184,
   "id": "8e7819d6",
   "metadata": {},
   "outputs": [
    {
     "name": "stdout",
     "output_type": "stream",
     "text": [
      "2\n",
      "3\n",
      "5\n",
      "7\n",
      "11\n",
      "13\n",
      "17\n",
      "19\n",
      "23\n",
      "29\n",
      "31\n",
      "37\n",
      "41\n",
      "43\n",
      "47\n",
      "53\n",
      "59\n",
      "61\n",
      "67\n",
      "71\n",
      "73\n",
      "79\n",
      "83\n",
      "89\n",
      "97\n"
     ]
    }
   ],
   "source": [
    "#34.Print first 25 prime numbers\n",
    "\n",
    "for i in range(2,100):\n",
    "    count=0\n",
    "    for j in range(1,i+1):\n",
    "        if i%j==0:\n",
    "            count+=1\n",
    "    if count==2:\n",
    "        print(i)"
   ]
  },
  {
   "cell_type": "code",
   "execution_count": 188,
   "id": "f9f45d79",
   "metadata": {},
   "outputs": [
    {
     "name": "stdout",
     "output_type": "stream",
     "text": [
      "[0, 1, 1, 2, 3, 5, 8, 13, 21, 34, 55, 89, 144, 233, 377, 610, 987, 1597, 2584, 4181]\n"
     ]
    }
   ],
   "source": [
    "#35. Print the first 20 numbers of a Fibonacci series\n",
    "\n",
    "def fibonacci(n):\n",
    "    if n <1:\n",
    "        return 0\n",
    "    elif n==1:\n",
    "        return 1\n",
    "    else:\n",
    "        return fibonacci(n-1)+fibonacci(n-2)\n",
    "    \n",
    "fibo_series=[]\n",
    "\n",
    "for i in range(20):\n",
    "    fibo_series.append(fibonacci(i))\n",
    "    \n",
    "print(fibo_series)\n",
    "  \n",
    "    "
   ]
  },
  {
   "cell_type": "code",
   "execution_count": 192,
   "id": "a489102b",
   "metadata": {},
   "outputs": [
    {
     "name": "stdout",
     "output_type": "stream",
     "text": [
      "Enter principle value150000\n",
      "Enter interest value25\n",
      "Enter duration value2\n",
      "The compound interest would be 84375.0\n"
     ]
    }
   ],
   "source": [
    "#36. Write a program to find the compound interest \n",
    "\n",
    "principle=float(input(\"Enter principle value\"))\n",
    "rate_of_int=float(input(\"Enter interest value\"))\n",
    "duration=float(input(\"Enter duration value\"))\n",
    "\n",
    "def c_i(p,r,n):\n",
    "    return (p*(1+r/100)**n)-p\n",
    "\n",
    "compound_Interest=c_i(principle,rate_of_int,duration)\n",
    "print(f\"The compound interest would be\",compound_Interest)"
   ]
  },
  {
   "cell_type": "code",
   "execution_count": 201,
   "id": "039bd556",
   "metadata": {},
   "outputs": [
    {
     "name": "stdout",
     "output_type": "stream",
     "text": [
      "Enter a Number2\n",
      "n is: 2\n",
      "nn is: 22\n",
      "nnn is: 222\n",
      "The sum of 2+22+222 is 246\n"
     ]
    }
   ],
   "source": [
    "#37. Write a Python program that accepts an integer (n) and computes the value of n+nn+nnn.\n",
    "\n",
    "no=input(\"Enter a Number\")\n",
    "print(\"n is:\",no)\n",
    "\n",
    "nn=no+no\n",
    "print(\"nn is:\",nn)\n",
    "\n",
    "nnn=nn+no\n",
    "print(\"nnn is:\",nnn)\n",
    "\n",
    "total=int(no)+int(nn)+int(nnn)\n",
    "print(f\"The sum of {no}+{nn}+{nnn} is\",total)"
   ]
  },
  {
   "cell_type": "code",
   "execution_count": 204,
   "id": "745cd522",
   "metadata": {},
   "outputs": [
    {
     "name": "stdout",
     "output_type": "stream",
     "text": [
      "Enter a Number23564\n",
      "The number of digits in 23564 is 5\n"
     ]
    }
   ],
   "source": [
    "#38.Take a number from the user and find the number of digits in it. \n",
    "\n",
    "input_user=int(input(\"Enter a Number\"))\n",
    "\n",
    "num=str(input_user)\n",
    "count=0\n",
    "for i in num:\n",
    "    count+=1\n",
    "print(f\"The number of digits in {input_user} is\",count)"
   ]
  },
  {
   "cell_type": "code",
   "execution_count": 214,
   "id": "4dd4a4f6",
   "metadata": {},
   "outputs": [
    {
     "name": "stdout",
     "output_type": "stream",
     "text": [
      "Enter a Number81\n",
      "1 3 9 27 81 "
     ]
    }
   ],
   "source": [
    "#39. Print all factors of a given number provided by the user.\n",
    "\n",
    "input_user=int(input(\"Enter a Number\"))\n",
    "\n",
    "for i in range(1,input_user+1):\n",
    "    if input_user%i==0:\n",
    "        print(i,end=\" \")\n",
    "        "
   ]
  },
  {
   "cell_type": "code",
   "execution_count": 217,
   "id": "28bc9f64",
   "metadata": {},
   "outputs": [
    {
     "name": "stdout",
     "output_type": "stream",
     "text": [
      "Enter a Number1234\n",
      "4321\n"
     ]
    }
   ],
   "source": [
    "#40.Find the reverse of a number provided by the user(any number of digit) \n",
    "\n",
    "no=int(input(\"Enter a Number\"))\n",
    "no=str(no)\n",
    "print(int(no[::-1]))"
   ]
  },
  {
   "cell_type": "code",
   "execution_count": 220,
   "id": "bfba8df4",
   "metadata": {},
   "outputs": [
    {
     "name": "stdout",
     "output_type": "stream",
     "text": [
      "* \n",
      "* * \n",
      "* * * \n",
      "* * * * \n",
      "* * * * * \n"
     ]
    }
   ],
   "source": [
    "#41. Write a program to print the following pattern\n",
    "#         *\n",
    "#         * *\n",
    "#         * * *\n",
    "#         * * * *\n",
    "#         * * * * *\n",
    "\n",
    "for i in range(5):\n",
    "    for j in range(i+1):\n",
    "        print(\"*\",end=\" \")\n",
    "    print()\n",
    "\n"
   ]
  },
  {
   "cell_type": "code",
   "execution_count": 224,
   "id": "299868e2",
   "metadata": {},
   "outputs": [
    {
     "name": "stdout",
     "output_type": "stream",
     "text": [
      "* \n",
      "* * \n",
      "* * * \n",
      "* * \n",
      "* \n"
     ]
    }
   ],
   "source": [
    "#42. Write a program to print the following pattern\n",
    "#         *\n",
    "#         * *\n",
    "#         * * *\n",
    "#         * *\n",
    "#         *\n",
    "\n",
    "for i in range(3):\n",
    "    for j in range(i+1):\n",
    "        print(\"*\",end=\" \")\n",
    "    print()\n",
    "for l in range(2):\n",
    "    for m in range(2-l):\n",
    "        print(\"*\",end=\" \")\n",
    "    print()\n"
   ]
  },
  {
   "cell_type": "code",
   "execution_count": 230,
   "id": "5360070a",
   "metadata": {},
   "outputs": [
    {
     "name": "stdout",
     "output_type": "stream",
     "text": [
      "Enter no if rows5\n",
      "          * \n",
      "        * * * \n",
      "      * * * * * \n",
      "    * * * * * * * \n",
      "  * * * * * * * * * \n"
     ]
    }
   ],
   "source": [
    "#43.Write  a program to print the following pattern\n",
    "#             *\n",
    "#           * * *\n",
    "#         * * * * *\n",
    "#        * * * * * * *\n",
    "#     * * * * * * * * *\n",
    "\n",
    "num=int(input(\"Enter no of rows\"))\n",
    "for i in range(num):\n",
    "    for j in range(num-i):\n",
    "        print(\" \",end=\" \")\n",
    "    for k in range(i+1):\n",
    "        print(\"*\",end=\" \")\n",
    "    for l in range(i+1-1):\n",
    "        print('*',end=\" \")\n",
    "    print()\n"
   ]
  },
  {
   "cell_type": "code",
   "execution_count": 246,
   "id": "8232026b",
   "metadata": {},
   "outputs": [
    {
     "name": "stdout",
     "output_type": "stream",
     "text": [
      "Enter no of rows5\n",
      "1 \n",
      "1 2 1 \n",
      "1 2 3 2 1 \n",
      "1 2 3 4 3 2 1 \n",
      "1 2 3 4 5 4 3 2 1 \n"
     ]
    }
   ],
   "source": [
    "#44. Write a program to print the following pattern\n",
    "#         1\n",
    "#         1 2 1\n",
    "#         1 2 3 2 1\n",
    "#         1 2 3 4 3 2 1\n",
    "#         1 2 3 4 5 4 3 2 1\n",
    "\n",
    "num=int(input(\"Enter no of rows\"))\n",
    "\n",
    "for i in range(1,num+1):\n",
    "    for j in range(1,i+1):\n",
    "        print(j,end=\" \")\n",
    "    for k in range(i-1):\n",
    "        print(i-1-k, end=\" \")\n",
    "    print()\n"
   ]
  },
  {
   "cell_type": "code",
   "execution_count": 250,
   "id": "c4485027",
   "metadata": {},
   "outputs": [
    {
     "name": "stdout",
     "output_type": "stream",
     "text": [
      "Enter no of rows4\n",
      "1 \n",
      "2 3 \n",
      "4 5 6 \n",
      "7 8 9 10 \n"
     ]
    }
   ],
   "source": [
    "#45. Write a program to print the following pattern\n",
    "#         1\n",
    "#         2 3\n",
    "#         4 5 6\n",
    "#         7 8 9 10\n",
    "\n",
    "num=int(input(\"Enter no of rows\"))\n",
    "number=1\n",
    "for i in range(num):\n",
    "    for j in range(i+1):\n",
    "        print(number,end=\" \")\n",
    "        number+=1\n",
    "    print()"
   ]
  },
  {
   "cell_type": "code",
   "execution_count": 23,
   "id": "75babc1d",
   "metadata": {},
   "outputs": [
    {
     "name": "stdout",
     "output_type": "stream",
     "text": [
      "Enter a Number5\n",
      "Sum: 2.71\n"
     ]
    }
   ],
   "source": [
    "#46.Write a program to calculate the sum of the following series till the nth term\n",
    "#         1/1! + 2/2! + 3/3! + 4/4! +…….+ n/n!\n",
    "#         n will be provided by the user\n",
    "\n",
    "no=int(input(\"Enter a Number\"))\n",
    "\n",
    "def calculate(num):\n",
    "    sum=0\n",
    "    fact=1\n",
    "    for i in range(1,num+1):\n",
    "        fact*=i\n",
    "        sum=sum+(i/fact)\n",
    "    return round(sum,2)\n",
    "\n",
    "a=calculate(no)\n",
    "print(\"Sum:\",a)\n",
    "        \n",
    "        "
   ]
  },
  {
   "cell_type": "code",
   "execution_count": 26,
   "id": "9d0ec7c5",
   "metadata": {},
   "outputs": [
    {
     "name": "stdout",
     "output_type": "stream",
     "text": [
      "Enter a Number3\n",
      "Enter a Number1\n",
      "Sum: 1.83\n"
     ]
    }
   ],
   "source": [
    "#47. Write a Python Program to Find the Sum of the Series till the nth term: \n",
    "#         1 + x^2/2 + x^3/3 + … x^n/n\n",
    "#         n will be provided by the user\n",
    "\n",
    "no=int(input(\"Enter a Number\"))\n",
    "x=int(input(\"Enter a Number\"))\n",
    "\n",
    "def calculate(num,X):\n",
    "    sum=1\n",
    "    for i in range(2,num+1):\n",
    "        sum+=((X**i)/i)\n",
    "    return round(sum,2)\n",
    "\n",
    "\n",
    "a=calculate(no,x)\n",
    "print(\"Sum:\",a)\n",
    "        \n",
    "        \n"
   ]
  },
  {
   "cell_type": "code",
   "execution_count": 29,
   "id": "77e61f28",
   "metadata": {},
   "outputs": [
    {
     "name": "stdout",
     "output_type": "stream",
     "text": [
      "Enter a number10\n",
      "2.3476639500000003\n"
     ]
    }
   ],
   "source": [
    "#48.The natural logarithm can be approximated by the following series.\n",
    "\n",
    "#If x is input through the keyboard, write a program to calculate the sum of the first seven terms of this series.\n",
    "\n",
    "x=int(input(\"Enter a number\"))\n",
    "sum=0\n",
    "for i in range(1,8):\n",
    "    sum+=0.5*((x-1)/x)**i\n",
    "print(sum)"
   ]
  },
  {
   "cell_type": "code",
   "execution_count": 57,
   "id": "f5085361",
   "metadata": {},
   "outputs": [
    {
     "name": "stdout",
     "output_type": "stream",
     "text": [
      "Enter a number56\n",
      "Enter a number45\n",
      "Enter a number12\n",
      "Enter a number0\n",
      "sum: 113 & Avg: 37.67\n"
     ]
    }
   ],
   "source": [
    "#49. Write a program that keeps on accepting a number from the user until the user enters Zero. Display the sum and average of all the numbers.\n",
    "\n",
    "\n",
    "count=1\n",
    "sum=avg=0\n",
    "\n",
    "while(True):\n",
    "    num=int(input(\"Enter a number\"))\n",
    "    if num!=0:\n",
    "        sum+=num\n",
    "        avg=(sum/count)\n",
    "        count+=1\n",
    "    else:\n",
    "        print(\"sum:\",sum,\"& Avg:\",round(avg,2))\n",
    "        break"
   ]
  },
  {
   "cell_type": "code",
   "execution_count": 66,
   "id": "8b20fea6",
   "metadata": {},
   "outputs": [
    {
     "name": "stdout",
     "output_type": "stream",
     "text": [
      "Enter a Numerator value6\n",
      "Enter a denominator value9\n",
      "Solution in fraction:2/3\n"
     ]
    }
   ],
   "source": [
    "#50.Write a program that accepts 2 numbers from the user a numerator and a denominator and then simplifies it\n",
    "#         Eg if the num = 5, den = 15 the answer should be ⅓\n",
    "#         Eg if the num = 6, den = 9 the answer should be ⅔\n",
    "\n",
    "\n",
    "num=int(input(\"Enter a Numerator value\"))\n",
    "den=int(input(\"Enter a denominator value\"))\n",
    "\n",
    "for i in range(1,den+1):\n",
    "    if num%i==0 and den%i==0:\n",
    "        n=num//i\n",
    "        d=den//i\n",
    "print(f\"Solution in fraction:{n}/{d}\")\n"
   ]
  },
  {
   "cell_type": "code",
   "execution_count": 68,
   "id": "ad701ad0",
   "metadata": {},
   "outputs": [
    {
     "name": "stdout",
     "output_type": "stream",
     "text": [
      "Enter a stringjaimahakal\n",
      "Length of jaimahakal is 10\n"
     ]
    }
   ],
   "source": [
    "#51.Find the length of a given string without using the len() function. \n",
    "\n",
    "st=input(\"Enter a string\")\n",
    "length=0\n",
    "for i in st:\n",
    "    length+=1\n",
    "print(f\"Length of {st} is\",length)"
   ]
  },
  {
   "cell_type": "code",
   "execution_count": 69,
   "id": "50104e1c",
   "metadata": {},
   "outputs": [
    {
     "name": "stdout",
     "output_type": "stream",
     "text": [
      "Enter email idchaitanyalarokar9@gmail.com\n",
      "chaitanyalarokar9\n"
     ]
    }
   ],
   "source": [
    "#52.Extract username from a given email. \n",
    "#Eg if the email is nitish24singh@gmail.com then the username should be nitish24singh\n",
    "\n",
    "email=input(\"Enter email id\")\n",
    "user_name=\"\"\n",
    "\n",
    "for i in email:\n",
    "    if i!='@':\n",
    "        user_name+=i\n",
    "    else:\n",
    "        print(user_name)\n"
   ]
  },
  {
   "cell_type": "code",
   "execution_count": 74,
   "id": "462191db",
   "metadata": {},
   "outputs": [
    {
     "name": "stdout",
     "output_type": "stream",
     "text": [
      "Enter a stringhello how are you\n",
      "Enter a Characterh\n",
      "Count of h in hello how are you string is 2\n"
     ]
    }
   ],
   "source": [
    "#53.Count the frequency of a particular character in a provided string. \n",
    "#Eg 'hello how are you' is the string, the frequency of h in this string is 2.\n",
    "\n",
    "st=input(\"Enter a string\")\n",
    "ch=input(\"Enter a Character\")\n",
    "\n",
    "a=st.count(ch)\n",
    "print(f\"Count of {ch} in {st} string is\",a)\n"
   ]
  },
  {
   "cell_type": "code",
   "execution_count": 76,
   "id": "d561d03d",
   "metadata": {},
   "outputs": [
    {
     "name": "stdout",
     "output_type": "stream",
     "text": [
      "Enter a stringhow are you?\n",
      "Enter a Characterw\n",
      "Index of w in how are you? string is 2\n"
     ]
    }
   ],
   "source": [
    "#54. Find the index position of a particular character in another string. \n",
    "\n",
    "st=input(\"Enter a string\")\n",
    "ch=input(\"Enter a Character\")\n",
    "\n",
    "a=st.index(ch)\n",
    "print(f\"Index of {ch} in {st} string is\",a)\n",
    "\n"
   ]
  },
  {
   "cell_type": "code",
   "execution_count": 80,
   "id": "ba231902",
   "metadata": {},
   "outputs": [
    {
     "name": "stdout",
     "output_type": "stream",
     "text": [
      "Enter a stringCHAItanya\n",
      "count of vowels: 4\n"
     ]
    }
   ],
   "source": [
    "#55.Count the number of vowels in a string provided by the user.\n",
    "\n",
    "st=input(\"Enter a string\")\n",
    "st=st.lower()\n",
    "count=0\n",
    "for i in st:\n",
    "    if i in 'aeiou':\n",
    "        count+=1\n",
    "print(\"count of vowels:\",count)"
   ]
  },
  {
   "cell_type": "code",
   "execution_count": 91,
   "id": "b255a01f",
   "metadata": {
    "scrolled": true
   },
   "outputs": [
    {
     "name": "stdout",
     "output_type": "stream",
     "text": [
      "Enter a stringchaitanya\n",
      "Enter a index no which you have to remove:6\n",
      "chaitnya\n"
     ]
    }
   ],
   "source": [
    "#56.Write a program which can remove a particular character from a string. \n",
    "\n",
    "st=input(\"Enter a string\")\n",
    "ch=int(input(\"Enter a index no which you have to remove:\"))\n",
    "\n",
    "c=st[0:ch-1]\n",
    "d=st[ch::]\n",
    "print(c+d)"
   ]
  },
  {
   "cell_type": "code",
   "execution_count": 98,
   "id": "dc899a12",
   "metadata": {},
   "outputs": [
    {
     "name": "stdout",
     "output_type": "stream",
     "text": [
      "Enter a stringMaam\n",
      "maam is palindrome\n"
     ]
    }
   ],
   "source": [
    "#57.Write a program that can check whether a given string is palindrome or not\n",
    "\n",
    "st=input(\"Enter a string\")\n",
    "st=st.lower()\n",
    "new_st=st[::-1]\n",
    "if st == new_st:\n",
    "    print(f\"{st} is palindrome\")\n",
    "else:\n",
    "    print(f\"{st} is Not palindrome\")\n"
   ]
  },
  {
   "cell_type": "code",
   "execution_count": 101,
   "id": "3bf24e65",
   "metadata": {},
   "outputs": [
    {
     "name": "stdout",
     "output_type": "stream",
     "text": [
      "[1, 2, 4, 5, 6, 9]\n"
     ]
    }
   ],
   "source": [
    "#58.Write a python program to remove all the duplicates from a list\n",
    "l1=[1,9,5,6,1,2,9,6,4]\n",
    "print(list(set(l1)))"
   ]
  },
  {
   "cell_type": "code",
   "execution_count": 118,
   "id": "f7d191e3",
   "metadata": {},
   "outputs": [
    {
     "name": "stdout",
     "output_type": "stream",
     "text": [
      "['the', 'way', 'goeS', 'to', 'pARk']\n",
      "The Way Goes To Park \n"
     ]
    }
   ],
   "source": [
    "#59. Write a python program to convert a string to title case without using the title()\n",
    "a='the way goeS to pARk'\n",
    "l=a.split()\n",
    "print(l)\n",
    "s=''\n",
    "\n",
    "for i in l:\n",
    "    s=s+i[0].upper()+i[1:].lower() + \" \"\n",
    "print(s)"
   ]
  },
  {
   "cell_type": "code",
   "execution_count": null,
   "id": "17e40f5a",
   "metadata": {},
   "outputs": [],
   "source": []
  },
  {
   "cell_type": "code",
   "execution_count": 120,
   "id": "48786d96",
   "metadata": {},
   "outputs": [
    {
     "name": "stdout",
     "output_type": "stream",
     "text": [
      "236\n"
     ]
    }
   ],
   "source": [
    "#60. Write a python program to find the max item from a list without using the max function\n",
    "\n",
    "l=[108,65,54,12,10,9,236,47]\n",
    "\n",
    "max=l[0]\n",
    "for i in l:\n",
    "    if i>max:\n",
    "        max=i\n",
    "print(max)"
   ]
  },
  {
   "cell_type": "code",
   "execution_count": 121,
   "id": "a6aaa5f7",
   "metadata": {},
   "outputs": [
    {
     "name": "stdout",
     "output_type": "stream",
     "text": [
      "[47, 236, 9, 10, 12, 54, 65, 108]\n"
     ]
    }
   ],
   "source": [
    "#61.Write a python program to reverse a list\n",
    "l=[108,65,54,12,10,9,236,47]\n",
    "print(l[::-1])\n"
   ]
  },
  {
   "cell_type": "code",
   "execution_count": 125,
   "id": "35f6b04f",
   "metadata": {},
   "outputs": [
    {
     "name": "stdout",
     "output_type": "stream",
     "text": [
      "3\n"
     ]
    }
   ],
   "source": [
    "#62.Write a python program to search a given number from a list\n",
    "\n",
    "l=[108,65,54,12,10,9,236,47]\n",
    "print(l.index(12))"
   ]
  },
  {
   "cell_type": "code",
   "execution_count": null,
   "id": "3d853782",
   "metadata": {},
   "outputs": [],
   "source": []
  },
  {
   "cell_type": "code",
   "execution_count": null,
   "id": "ffa00d7c",
   "metadata": {},
   "outputs": [],
   "source": []
  },
  {
   "cell_type": "code",
   "execution_count": null,
   "id": "b751b9ee",
   "metadata": {},
   "outputs": [],
   "source": []
  }
 ],
 "metadata": {
  "kernelspec": {
   "display_name": "Python 3 (ipykernel)",
   "language": "python",
   "name": "python3"
  },
  "language_info": {
   "codemirror_mode": {
    "name": "ipython",
    "version": 3
   },
   "file_extension": ".py",
   "mimetype": "text/x-python",
   "name": "python",
   "nbconvert_exporter": "python",
   "pygments_lexer": "ipython3",
   "version": "3.9.13"
  }
 },
 "nbformat": 4,
 "nbformat_minor": 5
}
